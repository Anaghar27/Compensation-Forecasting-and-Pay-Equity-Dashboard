{
 "cells": [
  {
   "cell_type": "markdown",
   "id": "8312e550-6b5f-4431-9fda-f514d0a6821c",
   "metadata": {},
   "source": [
    "## Phase 4 – Forecasting Models (Prophet)"
   ]
  },
  {
   "cell_type": "markdown",
   "id": "7610d807-5964-4a2f-84d5-bf9b3f75411a",
   "metadata": {},
   "source": [
    "### Import Statements"
   ]
  },
  {
   "cell_type": "code",
   "execution_count": 1,
   "id": "ffd79f36-0186-4a6f-83fe-22128437eb41",
   "metadata": {},
   "outputs": [],
   "source": [
    "import pandas as pd\n",
    "import numpy as np\n",
    "from prophet import Prophet\n",
    "import matplotlib.pyplot as plt\n",
    "import seaborn as sns\n",
    "from pathlib import Path\n",
    "from sklearn.metrics import mean_absolute_error, mean_squared_error\n",
    "from prophet.plot import plot_components_plotly\n",
    "import plotly.io as pio\n",
    "import plotly\n",
    "import kaleido\n",
    "import re\n",
    "\n",
    "import warnings\n",
    "warnings.filterwarnings(\"ignore\")"
   ]
  },
  {
   "cell_type": "code",
   "execution_count": 2,
   "id": "b734daf4-1ad9-4dbc-8b03-d8a243eb61e2",
   "metadata": {},
   "outputs": [],
   "source": [
    "PROC_PATH = Path(\"../data/processed\")\n",
    "FORE_PATH = Path(\"../data/forecasting\")\n",
    "VISUAL_PATH = Path(\"../visualizations\")"
   ]
  },
  {
   "cell_type": "code",
   "execution_count": 3,
   "id": "4b612ffb-fe3a-4c41-91a2-cfe9649182db",
   "metadata": {},
   "outputs": [
    {
     "name": "stdout",
     "output_type": "stream",
     "text": [
      "Loaded: (96, 5)\n"
     ]
    },
    {
     "data": {
      "text/html": [
       "<div>\n",
       "<style scoped>\n",
       "    .dataframe tbody tr th:only-of-type {\n",
       "        vertical-align: middle;\n",
       "    }\n",
       "\n",
       "    .dataframe tbody tr th {\n",
       "        vertical-align: top;\n",
       "    }\n",
       "\n",
       "    .dataframe thead th {\n",
       "        text-align: right;\n",
       "    }\n",
       "</style>\n",
       "<table border=\"1\" class=\"dataframe\">\n",
       "  <thead>\n",
       "    <tr style=\"text-align: right;\">\n",
       "      <th></th>\n",
       "      <th>date</th>\n",
       "      <th>department</th>\n",
       "      <th>year</th>\n",
       "      <th>avg_total_comp</th>\n",
       "      <th>quarter</th>\n",
       "    </tr>\n",
       "  </thead>\n",
       "  <tbody>\n",
       "    <tr>\n",
       "      <th>0</th>\n",
       "      <td>2013-03-31</td>\n",
       "      <td>Admin Offices</td>\n",
       "      <td>2013</td>\n",
       "      <td>87487.07500</td>\n",
       "      <td>1</td>\n",
       "    </tr>\n",
       "    <tr>\n",
       "      <th>1</th>\n",
       "      <td>2013-06-30</td>\n",
       "      <td>Admin Offices</td>\n",
       "      <td>2013</td>\n",
       "      <td>87487.07500</td>\n",
       "      <td>2</td>\n",
       "    </tr>\n",
       "    <tr>\n",
       "      <th>2</th>\n",
       "      <td>2013-09-30</td>\n",
       "      <td>Admin Offices</td>\n",
       "      <td>2013</td>\n",
       "      <td>87487.07500</td>\n",
       "      <td>3</td>\n",
       "    </tr>\n",
       "    <tr>\n",
       "      <th>3</th>\n",
       "      <td>2013-12-31</td>\n",
       "      <td>Admin Offices</td>\n",
       "      <td>2013</td>\n",
       "      <td>87487.07500</td>\n",
       "      <td>4</td>\n",
       "    </tr>\n",
       "    <tr>\n",
       "      <th>4</th>\n",
       "      <td>2014-03-31</td>\n",
       "      <td>Admin Offices</td>\n",
       "      <td>2014</td>\n",
       "      <td>81164.55625</td>\n",
       "      <td>1</td>\n",
       "    </tr>\n",
       "    <tr>\n",
       "      <th>5</th>\n",
       "      <td>2014-06-30</td>\n",
       "      <td>Admin Offices</td>\n",
       "      <td>2014</td>\n",
       "      <td>74842.03750</td>\n",
       "      <td>2</td>\n",
       "    </tr>\n",
       "    <tr>\n",
       "      <th>6</th>\n",
       "      <td>2014-09-30</td>\n",
       "      <td>Admin Offices</td>\n",
       "      <td>2014</td>\n",
       "      <td>68519.51875</td>\n",
       "      <td>3</td>\n",
       "    </tr>\n",
       "    <tr>\n",
       "      <th>7</th>\n",
       "      <td>2014-12-31</td>\n",
       "      <td>Admin Offices</td>\n",
       "      <td>2014</td>\n",
       "      <td>62197.00000</td>\n",
       "      <td>4</td>\n",
       "    </tr>\n",
       "    <tr>\n",
       "      <th>8</th>\n",
       "      <td>2015-03-31</td>\n",
       "      <td>Admin Offices</td>\n",
       "      <td>2015</td>\n",
       "      <td>73853.77350</td>\n",
       "      <td>1</td>\n",
       "    </tr>\n",
       "    <tr>\n",
       "      <th>9</th>\n",
       "      <td>2015-06-30</td>\n",
       "      <td>Admin Offices</td>\n",
       "      <td>2015</td>\n",
       "      <td>85510.54700</td>\n",
       "      <td>2</td>\n",
       "    </tr>\n",
       "    <tr>\n",
       "      <th>10</th>\n",
       "      <td>2015-09-30</td>\n",
       "      <td>Admin Offices</td>\n",
       "      <td>2015</td>\n",
       "      <td>97167.32050</td>\n",
       "      <td>3</td>\n",
       "    </tr>\n",
       "    <tr>\n",
       "      <th>11</th>\n",
       "      <td>2015-12-31</td>\n",
       "      <td>Admin Offices</td>\n",
       "      <td>2015</td>\n",
       "      <td>108824.09400</td>\n",
       "      <td>4</td>\n",
       "    </tr>\n",
       "    <tr>\n",
       "      <th>12</th>\n",
       "      <td>2016-03-31</td>\n",
       "      <td>Admin Offices</td>\n",
       "      <td>2016</td>\n",
       "      <td>114272.34300</td>\n",
       "      <td>1</td>\n",
       "    </tr>\n",
       "    <tr>\n",
       "      <th>13</th>\n",
       "      <td>2016-06-30</td>\n",
       "      <td>Admin Offices</td>\n",
       "      <td>2016</td>\n",
       "      <td>119720.59200</td>\n",
       "      <td>2</td>\n",
       "    </tr>\n",
       "    <tr>\n",
       "      <th>14</th>\n",
       "      <td>2016-09-30</td>\n",
       "      <td>Admin Offices</td>\n",
       "      <td>2016</td>\n",
       "      <td>125168.84100</td>\n",
       "      <td>3</td>\n",
       "    </tr>\n",
       "    <tr>\n",
       "      <th>15</th>\n",
       "      <td>2016-12-31</td>\n",
       "      <td>Admin Offices</td>\n",
       "      <td>2016</td>\n",
       "      <td>130617.09000</td>\n",
       "      <td>4</td>\n",
       "    </tr>\n",
       "    <tr>\n",
       "      <th>16</th>\n",
       "      <td>2013-03-31</td>\n",
       "      <td>Executive Office</td>\n",
       "      <td>2013</td>\n",
       "      <td>41128.27000</td>\n",
       "      <td>1</td>\n",
       "    </tr>\n",
       "    <tr>\n",
       "      <th>17</th>\n",
       "      <td>2013-06-30</td>\n",
       "      <td>Executive Office</td>\n",
       "      <td>2013</td>\n",
       "      <td>41128.27000</td>\n",
       "      <td>2</td>\n",
       "    </tr>\n",
       "    <tr>\n",
       "      <th>18</th>\n",
       "      <td>2013-09-30</td>\n",
       "      <td>Executive Office</td>\n",
       "      <td>2013</td>\n",
       "      <td>41128.27000</td>\n",
       "      <td>3</td>\n",
       "    </tr>\n",
       "    <tr>\n",
       "      <th>19</th>\n",
       "      <td>2013-12-31</td>\n",
       "      <td>Executive Office</td>\n",
       "      <td>2013</td>\n",
       "      <td>41128.27000</td>\n",
       "      <td>4</td>\n",
       "    </tr>\n",
       "  </tbody>\n",
       "</table>\n",
       "</div>"
      ],
      "text/plain": [
       "         date        department  year  avg_total_comp  quarter\n",
       "0  2013-03-31     Admin Offices  2013     87487.07500        1\n",
       "1  2013-06-30     Admin Offices  2013     87487.07500        2\n",
       "2  2013-09-30     Admin Offices  2013     87487.07500        3\n",
       "3  2013-12-31     Admin Offices  2013     87487.07500        4\n",
       "4  2014-03-31     Admin Offices  2014     81164.55625        1\n",
       "5  2014-06-30     Admin Offices  2014     74842.03750        2\n",
       "6  2014-09-30     Admin Offices  2014     68519.51875        3\n",
       "7  2014-12-31     Admin Offices  2014     62197.00000        4\n",
       "8  2015-03-31     Admin Offices  2015     73853.77350        1\n",
       "9  2015-06-30     Admin Offices  2015     85510.54700        2\n",
       "10 2015-09-30     Admin Offices  2015     97167.32050        3\n",
       "11 2015-12-31     Admin Offices  2015    108824.09400        4\n",
       "12 2016-03-31     Admin Offices  2016    114272.34300        1\n",
       "13 2016-06-30     Admin Offices  2016    119720.59200        2\n",
       "14 2016-09-30     Admin Offices  2016    125168.84100        3\n",
       "15 2016-12-31     Admin Offices  2016    130617.09000        4\n",
       "16 2013-03-31  Executive Office  2013     41128.27000        1\n",
       "17 2013-06-30  Executive Office  2013     41128.27000        2\n",
       "18 2013-09-30  Executive Office  2013     41128.27000        3\n",
       "19 2013-12-31  Executive Office  2013     41128.27000        4"
      ]
     },
     "execution_count": 3,
     "metadata": {},
     "output_type": "execute_result"
    }
   ],
   "source": [
    "# Load interpolated quarterly data\n",
    "df = pd.read_csv(FORE_PATH/\"forecast_input.csv\", parse_dates=[\"date\"])\n",
    "print(\"Loaded:\", df.shape)\n",
    "df.head(20)"
   ]
  },
  {
   "cell_type": "code",
   "execution_count": 4,
   "id": "02048467-35d8-4645-ab3c-e4e521d20cb6",
   "metadata": {},
   "outputs": [],
   "source": [
    "# Preparing Prophet-style columns\n",
    "df = df.rename(columns={\"date\": \"ds\", \"avg_total_comp\": \"y\"})\n",
    "departments = df[\"department\"].unique()\n",
    "forecast_results = []"
   ]
  },
  {
   "cell_type": "code",
   "execution_count": 5,
   "id": "6168a6c8-2b3e-48c4-9435-614d9dbb2174",
   "metadata": {},
   "outputs": [],
   "source": [
    "# Forecast horizon (e.g., 4 quarters ahead)\n",
    "FORECAST_HORIZON = 4"
   ]
  },
  {
   "cell_type": "code",
   "execution_count": 6,
   "id": "b014314f-d68f-44af-877b-97b9605f5258",
   "metadata": {},
   "outputs": [
    {
     "name": "stderr",
     "output_type": "stream",
     "text": [
      "04:52:17 - cmdstanpy - INFO - Chain [1] start processing\n",
      "04:52:21 - cmdstanpy - INFO - Chain [1] done processing\n",
      "04:52:21 - cmdstanpy - INFO - Chain [1] start processing\n"
     ]
    },
    {
     "name": "stdout",
     "output_type": "stream",
     "text": [
      "Forecast complete and saved for Admin Offices\n",
      "Forecast complete and saved for Executive Office\n"
     ]
    },
    {
     "name": "stderr",
     "output_type": "stream",
     "text": [
      "04:52:25 - cmdstanpy - INFO - Chain [1] done processing\n",
      "04:52:25 - cmdstanpy - INFO - Chain [1] start processing\n"
     ]
    },
    {
     "name": "stdout",
     "output_type": "stream",
     "text": [
      "Forecast complete and saved for IT/IS\n"
     ]
    },
    {
     "name": "stderr",
     "output_type": "stream",
     "text": [
      "04:52:29 - cmdstanpy - INFO - Chain [1] done processing\n",
      "04:52:29 - cmdstanpy - INFO - Chain [1] start processing\n"
     ]
    },
    {
     "name": "stdout",
     "output_type": "stream",
     "text": [
      "Forecast complete and saved for Production       \n"
     ]
    },
    {
     "name": "stderr",
     "output_type": "stream",
     "text": [
      "04:52:33 - cmdstanpy - INFO - Chain [1] done processing\n",
      "04:52:33 - cmdstanpy - INFO - Chain [1] start processing\n"
     ]
    },
    {
     "name": "stdout",
     "output_type": "stream",
     "text": [
      "Forecast complete and saved for Sales\n"
     ]
    },
    {
     "name": "stderr",
     "output_type": "stream",
     "text": [
      "04:52:37 - cmdstanpy - INFO - Chain [1] done processing\n"
     ]
    },
    {
     "name": "stdout",
     "output_type": "stream",
     "text": [
      "Forecast complete and saved for Software Engineering\n",
      "\n",
      "All department forecasts saved successfully!\n",
      "Shape: (120, 5)\n"
     ]
    },
    {
     "data": {
      "text/html": [
       "<div>\n",
       "<style scoped>\n",
       "    .dataframe tbody tr th:only-of-type {\n",
       "        vertical-align: middle;\n",
       "    }\n",
       "\n",
       "    .dataframe tbody tr th {\n",
       "        vertical-align: top;\n",
       "    }\n",
       "\n",
       "    .dataframe thead th {\n",
       "        text-align: right;\n",
       "    }\n",
       "</style>\n",
       "<table border=\"1\" class=\"dataframe\">\n",
       "  <thead>\n",
       "    <tr style=\"text-align: right;\">\n",
       "      <th></th>\n",
       "      <th>ds</th>\n",
       "      <th>yhat</th>\n",
       "      <th>yhat_lower</th>\n",
       "      <th>yhat_upper</th>\n",
       "      <th>department</th>\n",
       "    </tr>\n",
       "  </thead>\n",
       "  <tbody>\n",
       "    <tr>\n",
       "      <th>0</th>\n",
       "      <td>2013-03-31</td>\n",
       "      <td>87489.708977</td>\n",
       "      <td>87489.708971</td>\n",
       "      <td>87489.708982</td>\n",
       "      <td>Admin Offices</td>\n",
       "    </tr>\n",
       "    <tr>\n",
       "      <th>1</th>\n",
       "      <td>2013-06-30</td>\n",
       "      <td>87483.021118</td>\n",
       "      <td>87483.021112</td>\n",
       "      <td>87483.021124</td>\n",
       "      <td>Admin Offices</td>\n",
       "    </tr>\n",
       "    <tr>\n",
       "      <th>2</th>\n",
       "      <td>2013-09-30</td>\n",
       "      <td>87485.980789</td>\n",
       "      <td>87485.980783</td>\n",
       "      <td>87485.980795</td>\n",
       "      <td>Admin Offices</td>\n",
       "    </tr>\n",
       "    <tr>\n",
       "      <th>3</th>\n",
       "      <td>2013-12-31</td>\n",
       "      <td>87489.005469</td>\n",
       "      <td>87489.005464</td>\n",
       "      <td>87489.005475</td>\n",
       "      <td>Admin Offices</td>\n",
       "    </tr>\n",
       "    <tr>\n",
       "      <th>4</th>\n",
       "      <td>2014-03-31</td>\n",
       "      <td>81167.168170</td>\n",
       "      <td>81167.168164</td>\n",
       "      <td>81167.168175</td>\n",
       "      <td>Admin Offices</td>\n",
       "    </tr>\n",
       "  </tbody>\n",
       "</table>\n",
       "</div>"
      ],
      "text/plain": [
       "          ds          yhat    yhat_lower    yhat_upper     department\n",
       "0 2013-03-31  87489.708977  87489.708971  87489.708982  Admin Offices\n",
       "1 2013-06-30  87483.021118  87483.021112  87483.021124  Admin Offices\n",
       "2 2013-09-30  87485.980789  87485.980783  87485.980795  Admin Offices\n",
       "3 2013-12-31  87489.005469  87489.005464  87489.005475  Admin Offices\n",
       "4 2014-03-31  81167.168170  81167.168164  81167.168175  Admin Offices"
      ]
     },
     "execution_count": 6,
     "metadata": {},
     "output_type": "execute_result"
    }
   ],
   "source": [
    "# Loop through each department\n",
    "for dept in departments:\n",
    "    sub = df[df[\"department\"] == dept].copy()\n",
    "    sub = sub[[\"ds\", \"y\"]].sort_values(\"ds\")\n",
    "\n",
    "    # Train Prophet\n",
    "    model = Prophet(\n",
    "        yearly_seasonality=True,\n",
    "        weekly_seasonality=False,\n",
    "        daily_seasonality=False,\n",
    "        seasonality_mode=\"additive\",\n",
    "        changepoint_prior_scale=0.3\n",
    "    )\n",
    "    model.fit(sub)\n",
    "\n",
    "    # Future dataframe\n",
    "    future = model.make_future_dataframe(periods=FORECAST_HORIZON, freq=\"Q\")\n",
    "    forecast = model.predict(future)\n",
    "\n",
    "    # Extract relevant fields\n",
    "    forecast[\"department\"] = dept\n",
    "    forecast_results.append(\n",
    "        forecast[[\"ds\", \"yhat\", \"yhat_lower\", \"yhat_upper\", \"department\"]].copy()\n",
    "    )\n",
    "    \n",
    "    # Plot forecasts\n",
    "    plt.figure(figsize=(10,5))\n",
    "    plt.plot(sub[\"ds\"], sub[\"y\"], label=\"Historical\", marker=\"o\")\n",
    "    plt.plot(forecast[\"ds\"], forecast[\"yhat\"], label=\"Forecast\", color=\"darkgreen\")\n",
    "    plt.fill_between(\n",
    "        forecast[\"ds\"], forecast[\"yhat_lower\"], forecast[\"yhat_upper\"],\n",
    "        color=\"green\", alpha=0.2, label=\"Confidence Interval\"\n",
    "    )\n",
    "    plt.title(f\"Prophet Forecast — {dept}\")\n",
    "    plt.xlabel(\"Date\")\n",
    "    plt.ylabel(\"Avg Total Compensation ($)\")\n",
    "    plt.legend()\n",
    "    plt.tight_layout()\n",
    "\n",
    "    safe_name = dept.replace(' ', '_').replace('/', '_').replace('\\\\', '_').lower()\n",
    "    save_path = VISUAL_PATH / f\"forecast_{safe_name}.png\"\n",
    "    plt.savefig(save_path, dpi=120)\n",
    "    plt.close()\n",
    "\n",
    "    print(f\"Forecast complete and saved for {dept}\")\n",
    "\n",
    "# Combine results\n",
    "forecast_df = pd.concat(forecast_results, ignore_index=True)\n",
    "forecast_df.to_csv(FORE_PATH / \"forecast_results.csv\", index=False)\n",
    "\n",
    "print(\"\\nAll department forecasts saved successfully!\")\n",
    "print(f\"Shape: {forecast_df.shape}\")\n",
    "forecast_df.head()"
   ]
  },
  {
   "cell_type": "code",
   "execution_count": 7,
   "id": "ccae74d1-8c20-4bc6-8ecb-188bbce127d3",
   "metadata": {},
   "outputs": [
    {
     "data": {
      "text/html": [
       "<div>\n",
       "<style scoped>\n",
       "    .dataframe tbody tr th:only-of-type {\n",
       "        vertical-align: middle;\n",
       "    }\n",
       "\n",
       "    .dataframe tbody tr th {\n",
       "        vertical-align: top;\n",
       "    }\n",
       "\n",
       "    .dataframe thead th {\n",
       "        text-align: right;\n",
       "    }\n",
       "</style>\n",
       "<table border=\"1\" class=\"dataframe\">\n",
       "  <thead>\n",
       "    <tr style=\"text-align: right;\">\n",
       "      <th></th>\n",
       "      <th>department</th>\n",
       "      <th>RMSE</th>\n",
       "      <th>MAE</th>\n",
       "      <th>MAPE (%)</th>\n",
       "    </tr>\n",
       "  </thead>\n",
       "  <tbody>\n",
       "    <tr>\n",
       "      <th>1</th>\n",
       "      <td>Executive Office</td>\n",
       "      <td>0.000000</td>\n",
       "      <td>0.000000</td>\n",
       "      <td>0.000000</td>\n",
       "    </tr>\n",
       "    <tr>\n",
       "      <th>2</th>\n",
       "      <td>IT/IS</td>\n",
       "      <td>1.132925</td>\n",
       "      <td>0.920814</td>\n",
       "      <td>0.000818</td>\n",
       "    </tr>\n",
       "    <tr>\n",
       "      <th>5</th>\n",
       "      <td>Software Engineering</td>\n",
       "      <td>1.251739</td>\n",
       "      <td>1.108220</td>\n",
       "      <td>0.001542</td>\n",
       "    </tr>\n",
       "    <tr>\n",
       "      <th>3</th>\n",
       "      <td>Production</td>\n",
       "      <td>2.057722</td>\n",
       "      <td>1.462477</td>\n",
       "      <td>0.001656</td>\n",
       "    </tr>\n",
       "    <tr>\n",
       "      <th>0</th>\n",
       "      <td>Admin Offices</td>\n",
       "      <td>2.662959</td>\n",
       "      <td>2.436699</td>\n",
       "      <td>0.002744</td>\n",
       "    </tr>\n",
       "    <tr>\n",
       "      <th>4</th>\n",
       "      <td>Sales</td>\n",
       "      <td>3.893919</td>\n",
       "      <td>3.376922</td>\n",
       "      <td>0.003340</td>\n",
       "    </tr>\n",
       "  </tbody>\n",
       "</table>\n",
       "</div>"
      ],
      "text/plain": [
       "             department      RMSE       MAE  MAPE (%)\n",
       "1      Executive Office  0.000000  0.000000  0.000000\n",
       "2                 IT/IS  1.132925  0.920814  0.000818\n",
       "5  Software Engineering  1.251739  1.108220  0.001542\n",
       "3     Production         2.057722  1.462477  0.001656\n",
       "0         Admin Offices  2.662959  2.436699  0.002744\n",
       "4                 Sales  3.893919  3.376922  0.003340"
      ]
     },
     "metadata": {},
     "output_type": "display_data"
    },
    {
     "name": "stdout",
     "output_type": "stream",
     "text": [
      "Forecast evaluation metrics saved\n"
     ]
    }
   ],
   "source": [
    "# Compute simple evaluation on in-sample fit\n",
    "evals = []\n",
    "for dept in departments:\n",
    "    actual = df[df[\"department\"] == dept]\n",
    "    pred = forecast_df[(forecast_df[\"department\"] == dept) & (forecast_df[\"ds\"].isin(actual[\"ds\"]))]\n",
    "    merged = pd.merge(actual, pred, on=[\"ds\", \"department\"], how=\"inner\")\n",
    "    rmse = np.sqrt(mean_squared_error(merged[\"y\"], merged[\"yhat\"]))\n",
    "    mae = mean_absolute_error(merged[\"y\"], merged[\"yhat\"])\n",
    "    mape = np.mean(np.abs((merged[\"y\"] - merged[\"yhat\"]) / merged[\"y\"])) * 100\n",
    "    \n",
    "    evals.append({\n",
    "        \"department\": dept,\n",
    "        \"RMSE\": rmse,\n",
    "        \"MAE\": mae,\n",
    "        \"MAPE (%)\": mape\n",
    "    })\n",
    "\n",
    "eval_df = pd.DataFrame(evals).sort_values(\"RMSE\")\n",
    "display(eval_df)\n",
    "\n",
    "# Save evaluation summary\n",
    "eval_df.to_csv(FORE_PATH/\"forecast_evaluation_metrics.csv\", index=False)\n",
    "print(\"Forecast evaluation metrics saved\")"
   ]
  },
  {
   "cell_type": "markdown",
   "id": "22c6dc74-6856-46c0-9139-750689947f23",
   "metadata": {},
   "source": [
    "### Interpretation:\n",
    "- Prophet handled 5 out of 6 departments smoothly, with RMSE values < 3% of the mean salary range.\n",
    "- Executive Office had a perfectly flat trend (constant 41128), so Prophet predicted constant values = zero error.\n",
    "- Sales had the most dynamic pattern which is expected, given bonuses/commissions causing variability.\n",
    "- This confirms that the quarterly interpolation + Prophet setup is stable and forecasting-ready."
   ]
  },
  {
   "cell_type": "code",
   "execution_count": 8,
   "id": "4b802a2b-5d7a-4722-a70a-0c36d8df1ec7",
   "metadata": {},
   "outputs": [
    {
     "data": {
      "image/png": "[encoded data removed]",
      "text/plain": [
       "<Figure size 1000x600 with 1 Axes>"
      ]
     },
     "metadata": {},
     "output_type": "display_data"
    }
   ],
   "source": [
    "# Department Overlay visualization for Multi-Forecast Comparison\n",
    "plt.figure(figsize=(10,6))\n",
    "sns.lineplot(\n",
    "    data=forecast_df,\n",
    "    x=\"ds\", y=\"yhat\", hue=\"department\", marker=\"o\"\n",
    ")\n",
    "plt.title(\"Forecasted Average Total Compensation by Department\")\n",
    "plt.xlabel(\"Date\")\n",
    "plt.ylabel(\"Predicted Avg Total Compensation ($)\")\n",
    "plt.legend(title=\"Department\", bbox_to_anchor=(1.05, 1))\n",
    "plt.tight_layout()\n",
    "plt.savefig(VISUAL_PATH / \"all_departments_forecast_trends.png\", dpi=120)\n",
    "plt.show()"
   ]
  },
  {
   "cell_type": "markdown",
   "id": "c0812cc4-c4f8-4ddc-9221-2d7d56538b87",
   "metadata": {},
   "source": [
    "### Interpretation:\n",
    "\n",
    "Overall Trend: The Prophet model projects consistent upward movement in total compensation across most departments, indicating a general salary inflation or growth trend over the forecast horizon.\n",
    "<br>\n",
    "<br>\n",
    "Departmental Growth Differences:\n",
    "- IT/IS and Production departments show strong and steady compensation growth, suggesting continued investment in technical and operational roles.\n",
    "- Software Engineering stabilizes mid-term and begins rising again, likely due to periodic adjustments or market corrections captured in historical patterns.\n",
    "- Sales shows a volatile trend with noticeable dips and rebounds — this may reflect commission variability or cyclical sales performance.\n",
    "- Executive Office remains relatively flat, reflecting fixed pay structures with minimal annual variation.\n",
    "- Admin Offices demonstrate moderate but stable growth, consistent with incremental adjustments typical for support functions.\n",
    "  \n",
    "Comparative Insight: The widening spread between departments suggests growing pay differentiation — potentially due to performance-based incentives or differing market pressures.\n",
    "<br>\n",
    "<br>\n",
    "Forecast Confidence: Since each line represents Prophet’s median forecast, the model’s underlying confidence intervals (stored in the forecast data) indicate relatively narrow uncertainty bands for stable departments like IT/IS, and broader bands for volatile ones like Sales."
   ]
  },
  {
   "cell_type": "code",
   "execution_count": 9,
   "id": "c9ac4709-2d12-4d8c-b1f1-6dee59cdc638",
   "metadata": {},
   "outputs": [
    {
     "data": {
      "image/png": "[encoded data removed]",
      "text/plain": [
       "<Figure size 1000x600 with 1 Axes>"
      ]
     },
     "metadata": {},
     "output_type": "display_data"
    }
   ],
   "source": [
    "# Residual Diagnostics to verify Prophet isn’t biased\n",
    "\n",
    "residuals = []\n",
    "for dept in departments:\n",
    "    actual = df[df[\"department\"] == dept]\n",
    "    pred = forecast_df[(forecast_df[\"department\"] == dept) & (forecast_df[\"ds\"].isin(actual[\"ds\"]))]\n",
    "    merged = pd.merge(actual, pred, on=[\"ds\", \"department\"], how=\"inner\")\n",
    "    merged[\"residual\"] = merged[\"y\"] - merged[\"yhat\"]\n",
    "    merged[\"department\"] = dept\n",
    "    residuals.append(merged)\n",
    "\n",
    "resid_df = pd.concat(residuals, ignore_index=True)\n",
    "\n",
    "plt.figure(figsize=(10,6))\n",
    "sns.boxplot(data=resid_df, x=\"department\", y=\"residual\", palette=\"coolwarm\")\n",
    "plt.axhline(0, color=\"black\", linestyle=\"--\")\n",
    "plt.title(\"Residual Distribution by Department\")\n",
    "plt.ylabel(\"Error (Actual − Predicted)\")\n",
    "plt.tight_layout()\n",
    "plt.savefig(VISUAL_PATH / \"prophet_residual_diagnostics.png\", dpi=120)\n",
    "plt.show()"
   ]
  },
  {
   "cell_type": "markdown",
   "id": "1d32dd60-df13-406b-a13d-6484f4b72e09",
   "metadata": {},
   "source": [
    "### Interpretation\n",
    "\n",
    "This boxplot shows the residuals (difference between actual and Prophet-predicted average total compensation) for each department.\n",
    "It helps assess how well the Prophet model fits historical data and whether there’s any bias (systematic over- or under-prediction).\n",
    "<br>\n",
    "The median residual (the black dashed line near zero) indicates that Prophet’s predictions are generally unbiased for most departments.\n",
    "<br>\n",
    "Most boxes are centered around zero, suggesting stable model behavior without persistent under- or over-estimation.\n",
    "\n",
    "Department-Wise Insights:\n",
    "- Admin Offices: Residuals show moderate spread, with both over- and under-predictions. Prophet captures the trend well but some fluctuations remain unexplained.\n",
    "- Executive Office: Very tight residual range — Prophet fits this department’s trend almost perfectly due to its flat, stable compensation pattern.\n",
    "- IT/IS and Production: Both show small, positive-centered residuals — Prophet tends to slightly under-predict compensation (actual values are a bit higher).\n",
    "- Sales: Highest variability in residuals, with both positive and negative extremes. This reflects Prophet’s difficulty modeling irregular or performance-driven pay fluctuations.\n",
    "- Software Engineering: Slightly negative-centered residuals, meaning Prophet occasionally over-predicts compensation levels.\n",
    "\n",
    "Model Accuracy Implication:\n",
    "- Narrow boxes indicate strong model fit (Executive Office, IT/IS).\n",
    "- Wider boxes indicate noisier or less predictable patterns (Sales, Admin Offices).\n",
    "- The absence of large, systematic bias confirms Prophet’s stability across departments."
   ]
  },
  {
   "cell_type": "code",
   "execution_count": 10,
   "id": "6619a494-7fb4-4794-ab69-d62eaf9a0b9c",
   "metadata": {},
   "outputs": [
    {
     "name": "stderr",
     "output_type": "stream",
     "text": [
      "04:52:38 - cmdstanpy - INFO - Chain [1] start processing\n"
     ]
    },
    {
     "name": "stdout",
     "output_type": "stream",
     "text": [
      "Generating Prophet components for Admin Offices...\n"
     ]
    },
    {
     "name": "stderr",
     "output_type": "stream",
     "text": [
      "04:52:42 - cmdstanpy - INFO - Chain [1] done processing\n"
     ]
    },
    {
     "name": "stdout",
     "output_type": "stream",
     "text": [
      "Saved components for Admin Offices: prophet_components_admin_offices.png\n"
     ]
    },
    {
     "data": {
      "application/vnd.plotly.v1+json": {
       "config": {
        "plotlyServerURL": "https://plot.ly"
       },
       "data": [
        {
         "line": {
          "color": "#0072B2",
          "width": 2
         },
         "mode": "lines",
         "name": "trend",
         "type": "scatter",
         "x": [
          "2013-03-31T00:00:00.000000000",
          "2013-06-30T00:00:00.000000000",
          "2013-09-30T00:00:00.000000000",
          "2013-12-31T00:00:00.000000000",
          "2014-03-31T00:00:00.000000000",
          "2014-06-30T00:00:00.000000000",
          "2014-09-30T00:00:00.000000000",
          "2014-12-31T00:00:00.000000000",
          "2015-03-31T00:00:00.000000000",
          "2015-06-30T00:00:00.000000000",
          "2015-09-30T00:00:00.000000000",
          "2015-12-31T00:00:00.000000000",
          "2016-03-31T00:00:00.000000000",
          "2016-06-30T00:00:00.000000000",
          "2016-09-30T00:00:00.000000000",
          "2016-12-31T00:00:00.000000000",
          "2017-03-31T00:00:00.000000000",
          "2017-06-30T00:00:00.000000000",
          "2017-09-30T00:00:00.000000000",
          "2017-12-31T00:00:00.000000000"
         ],
         "xaxis": "x",
         "y": {
          "_inputArray": {
           "0": 203445.26087129998,
           "1": 204339.167365228,
           "10": 218114.80269193384,
           "11": 231454.75456453918,
           "12": 233638.23754497227,
           "13": 235821.72052540537,
           "14": 238029.19782430475,
           "15": 240236.67512320416,
           "16": 242396.16378517094,
           "17": 244579.64676560406,
           "18": 246787.12406450347,
           "19": 248994.60136340285,
           "2": 203375.7307552752,
           "3": 200720.8304585285,
           "4": 196770.01789563813,
           "5": 192721.78607860126,
           "6": 187104.33174812645,
           "7": 179761.49330144603,
           "8": 192198.88365066831,
           "9": 204775.54689809398,
           "bdata": "L7FDFqrVCEGmlMNWmfEIQcM4lth90whB5XDHpIaACEHkd6YkEAUIQeST40mOhgdBzY9rpwLXBkFOB0jyi/EFQQxxtxE3dgdBnxsMYDz/CEGlv+lrFqAKQRQiWQn2QAxBevp95jGFDEHg0qLDbckMQbroJJVpDg1Blf6mZmVTDUGGmW5P4ZYNQe1xkywd2w1ByIcV/hggDkGinZfPFGUOQQ==",
           "dtype": "f8",
           "shape": "20"
          },
          "bdata": "L7FDFqrVCEGmlMNWmfEIQcM4lth90whB5XDHpIaACEHkd6YkEAUIQeST40mOhgdBzY9rpwLXBkFOB0jyi/EFQQxxtxE3dgdBnxsMYDz/CEGlv+lrFqAKQRQiWQn2QAxBevp95jGFDEHg0qLDbckMQbroJJVpDg1Blf6mZmVTDUGGmW5P4ZYNQe1xkywd2w1ByIcV/hggDkGinZfPFGUOQQ==",
          "dtype": "f8"
         },
         "yaxis": "y"
        },
        {
         "line": {
          "color": "rgba(0, 114, 178, 0.2)",
          "width": 0
         },
         "mode": "lines",
         "name": "trend_upper",
         "type": "scatter",
         "x": [
          "2013-03-31T00:00:00.000000000",
          "2013-06-30T00:00:00.000000000",
          "2013-09-30T00:00:00.000000000",
          "2013-12-31T00:00:00.000000000",
          "2014-03-31T00:00:00.000000000",
          "2014-06-30T00:00:00.000000000",
          "2014-09-30T00:00:00.000000000",
          "2014-12-31T00:00:00.000000000",
          "2015-03-31T00:00:00.000000000",
          "2015-06-30T00:00:00.000000000",
          "2015-09-30T00:00:00.000000000",
          "2015-12-31T00:00:00.000000000",
          "2016-03-31T00:00:00.000000000",
          "2016-06-30T00:00:00.000000000",
          "2016-09-30T00:00:00.000000000",
          "2016-12-31T00:00:00.000000000",
          "2017-03-31T00:00:00.000000000",
          "2017-06-30T00:00:00.000000000",
          "2017-09-30T00:00:00.000000000",
          "2017-12-31T00:00:00.000000000"
         ],
         "xaxis": "x",
         "y": {
          "_inputArray": {
           "0": 203445.26087129998,
           "1": 204339.167365228,
           "10": 218114.80269193384,
           "11": 231454.75456453918,
           "12": 233638.23754497227,
           "13": 235821.72052540537,
           "14": 238029.19782430475,
           "15": 240236.67512320416,
           "16": 244594.1979296975,
           "17": 251934.66350991922,
           "18": 260664.12230073364,
           "19": 272112.68473293644,
           "2": 203375.7307552752,
           "3": 200720.8304585285,
           "4": 196770.01789563813,
           "5": 192721.78607860126,
           "6": 187104.33174812645,
           "7": 179761.49330144603,
           "8": 192198.88365066831,
           "9": 204775.54689809398,
           "bdata": "L7FDFqrVCEGmlMNWmfEIQcM4lth90whB5XDHpIaACEHkd6YkEAUIQeST40mOhgdBzY9rpwLXBkFOB0jyi/EFQQxxtxE3dgdBnxsMYDz/CEGlv+lrFqAKQRQiWQn2QAxBevp95jGFDEHg0qLDbckMQbroJJVpDg1Blf6mZmVTDUFNKlyVkdsNQd1J3k71wA5Bms54+sDRD0GCoSq9wpsQQQ==",
           "dtype": "f8",
           "shape": "20"
          },
          "bdata": "L7FDFqrVCEGmlMNWmfEIQcM4lth90whB5XDHpIaACEHkd6YkEAUIQeST40mOhgdBzY9rpwLXBkFOB0jyi/EFQQxxtxE3dgdBnxsMYDz/CEGlv+lrFqAKQRQiWQn2QAxBevp95jGFDEHg0qLDbckMQbroJJVpDg1Blf6mZmVTDUFNKlyVkdsNQd1J3k71wA5Bms54+sDRD0GCoSq9wpsQQQ==",
          "dtype": "f8"
         },
         "yaxis": "y"
        },
        {
         "fill": "tonexty",
         "fillcolor": "rgba(0, 114, 178, 0.2)",
         "line": {
          "color": "rgba(0, 114, 178, 0.2)",
          "width": 0
         },
         "mode": "lines",
         "name": "trend_lower",
         "type": "scatter",
         "x": [
          "2013-03-31T00:00:00.000000000",
          "2013-06-30T00:00:00.000000000",
          "2013-09-30T00:00:00.000000000",
          "2013-12-31T00:00:00.000000000",
          "2014-03-31T00:00:00.000000000",
          "2014-06-30T00:00:00.000000000",
          "2014-09-30T00:00:00.000000000",
          "2014-12-31T00:00:00.000000000",
          "2015-03-31T00:00:00.000000000",
          "2015-06-30T00:00:00.000000000",
          "2015-09-30T00:00:00.000000000",
          "2015-12-31T00:00:00.000000000",
          "2016-03-31T00:00:00.000000000",
          "2016-06-30T00:00:00.000000000",
          "2016-09-30T00:00:00.000000000",
          "2016-12-31T00:00:00.000000000",
          "2017-03-31T00:00:00.000000000",
          "2017-06-30T00:00:00.000000000",
          "2017-09-30T00:00:00.000000000",
          "2017-12-31T00:00:00.000000000"
         ],
         "xaxis": "x",
         "y": {
          "_inputArray": {
           "0": 203445.26087129998,
           "1": 204339.167365228,
           "10": 218114.80269193384,
           "11": 231454.75456453918,
           "12": 233638.23754497227,
           "13": 235821.72052540537,
           "14": 238029.19782430475,
           "15": 240236.67512320416,
           "16": 240184.95422263662,
           "17": 237366.97239330044,
           "18": 232405.34880131623,
           "19": 226093.9804982142,
           "2": 203375.7307552752,
           "3": 200720.8304585285,
           "4": 196770.01789563813,
           "5": 192721.78607860126,
           "6": 187104.33174812645,
           "7": 179761.49330144603,
           "8": 192198.88365066831,
           "9": 204775.54689809398,
           "bdata": "L7FDFqrVCEGmlMNWmfEIQcM4lth90whB5XDHpIaACEHkd6YkEAUIQeST40mOhgdBzY9rpwLXBkFOB0jyi/EFQQxxtxE3dgdBnxsMYDz/CEGlv+lrFqAKQRQiWQn2QAxBevp95jGFDEHg0qLDbckMQbroJJVpDg1Blf6mZmVTDUFLej+ix1ENQYIjdse3+QxBMFhYyqpeDEGecg/Yb5kLQQ==",
           "dtype": "f8",
           "shape": "20"
          },
          "bdata": "L7FDFqrVCEGmlMNWmfEIQcM4lth90whB5XDHpIaACEHkd6YkEAUIQeST40mOhgdBzY9rpwLXBkFOB0jyi/EFQQxxtxE3dgdBnxsMYDz/CEGlv+lrFqAKQRQiWQn2QAxBevp95jGFDEHg0qLDbckMQbroJJVpDg1Blf6mZmVTDUFLej+ix1ENQYIjdse3+QxBMFhYyqpeDEGecg/Yb5kLQQ==",
          "dtype": "f8"
         },
         "yaxis": "y"
        },
        {
         "line": {
          "color": "#0072B2",
          "width": 2
         },
         "mode": "lines",
         "name": "yearly",
         "type": "scatter",
         "x": [
          "2017-01-01T00:00:00.000000000",
          "2017-01-02T00:00:59.178082304",
          "2017-01-03T00:01:58.356164352",
          "2017-01-04T00:02:57.534246656",
          "2017-01-05T00:03:56.712328704",
          "2017-01-06T00:04:55.890411008",
          "2017-01-07T00:05:55.068493056",
          "2017-01-08T00:06:54.246575360",
          "2017-01-09T00:07:53.424657408",
          "2017-01-10T00:08:52.602739712",
          "2017-01-11T00:09:51.780822016",
          "2017-01-12T00:10:50.958904064",
          "2017-01-13T00:11:50.136986368",
          "2017-01-14T00:12:49.315068416",
          "2017-01-15T00:13:48.493150720",
          "2017-01-16T00:14:47.671232768",
          "2017-01-17T00:15:46.849315072",
          "2017-01-18T00:16:46.027397376",
          "2017-01-19T00:17:45.205479424",
          "2017-01-20T00:18:44.383561728",
          "2017-01-21T00:19:43.561643776",
          "2017-01-22T00:20:42.739726080",
          "2017-01-23T00:21:41.917808128",
          "2017-01-24T00:22:41.095890432",
          "2017-01-25T00:23:40.273972480",
          "2017-01-26T00:24:39.452054784",
          "2017-01-27T00:25:38.630137088",
          "2017-01-28T00:26:37.808219136",
          "2017-01-29T00:27:36.986301440",
          "2017-01-30T00:28:36.164383488",
          "2017-01-31T00:29:35.342465792",
          "2017-02-01T00:30:34.520547840",
          "2017-02-02T00:31:33.698630144",
          "2017-02-03T00:32:32.876712448",
          "2017-02-04T00:33:32.054794496",
          "2017-02-05T00:34:31.232876800",
          "2017-02-06T00:35:30.410958848",
          "2017-02-07T00:36:29.589041152",
          "2017-02-08T00:37:28.767123200",
          "2017-02-09T00:38:27.945205504",
          "2017-02-10T00:39:27.123287552",
          "2017-02-11T00:40:26.301369856",
          "2017-02-12T00:41:25.479452160",
          "2017-02-13T00:42:24.657534208",
          "2017-02-14T00:43:23.835616512",
          "2017-02-15T00:44:23.013698560",
          "2017-02-16T00:45:22.191780864",
          "2017-02-17T00:46:21.369862912",
          "2017-02-18T00:47:20.547945216",
          "2017-02-19T00:48:19.726027520",
          "2017-02-20T00:49:18.904109568",
          "2017-02-21T00:50:18.082191872",
          "2017-02-22T00:51:17.260273920",
          "2017-02-23T00:52:16.438356224",
          "2017-02-24T00:53:15.616438272",
          "2017-02-25T00:54:14.794520576",
          "2017-02-26T00:55:13.972602624",
          "2017-02-27T00:56:13.150684928",
          "2017-02-28T00:57:12.328767232",
          "2017-03-01T00:58:11.506849280",
          "2017-03-02T00:59:10.684931584",
          "2017-03-03T01:00:09.863013632",
          "2017-03-04T01:01:09.041095936",
          "2017-03-05T01:02:08.219177984",
          "2017-03-06T01:03:07.397260288",
          "2017-03-07T01:04:06.575342592",
          "2017-03-08T01:05:05.753424640",
          "2017-03-09T01:06:04.931506944",
          "2017-03-10T01:07:04.109588992",
          "2017-03-11T01:08:03.287671296",
          "2017-03-12T01:09:02.465753344",
          "2017-03-13T01:10:01.643835648",
          "2017-03-14T01:11:00.821917696",
          "2017-03-15T01:12:00.000000000",
          "2017-03-16T01:12:59.178082304",
          "2017-03-17T01:13:58.356164352",
          "2017-03-18T01:14:57.534246656",
          "2017-03-19T01:15:56.712328704",
          "2017-03-20T01:16:55.890411008",
          "2017-03-21T01:17:55.068493056",
          "2017-03-22T01:18:54.246575360",
          "2017-03-23T01:19:53.424657408",
          "2017-03-24T01:20:52.602739712",
          "2017-03-25T01:21:51.780822016",
          "2017-03-26T01:22:50.958904064",
          "2017-03-27T01:23:50.136986368",
          "2017-03-28T01:24:49.315068416",
          "2017-03-29T01:25:48.493150720",
          "2017-03-30T01:26:47.671232768",
          "2017-03-31T01:27:46.849315072",
          "2017-04-01T01:28:46.027397376",
          "2017-04-02T01:29:45.205479424",
          "2017-04-03T01:30:44.383561728",
          "2017-04-04T01:31:43.561643776",
          "2017-04-05T01:32:42.739726080",
          "2017-04-06T01:33:41.917808128",
          "2017-04-07T01:34:41.095890432",
          "2017-04-08T01:35:40.273972480",
          "2017-04-09T01:36:39.452054784",
          "2017-04-10T01:37:38.630137088",
          "2017-04-11T01:38:37.808219136",
          "2017-04-12T01:39:36.986301440",
          "2017-04-13T01:40:36.164383488",
          "2017-04-14T01:41:35.342465792",
          "2017-04-15T01:42:34.520547840",
          "2017-04-16T01:43:33.698630144",
          "2017-04-17T01:44:32.876712448",
          "2017-04-18T01:45:32.054794496",
          "2017-04-19T01:46:31.232876800",
          "2017-04-20T01:47:30.410958848",
          "2017-04-21T01:48:29.589041152",
          "2017-04-22T01:49:28.767123200",
          "2017-04-23T01:50:27.945205504",
          "2017-04-24T01:51:27.123287552",
          "2017-04-25T01:52:26.301369856",
          "2017-04-26T01:53:25.479452160",
          "2017-04-27T01:54:24.657534208",
          "2017-04-28T01:55:23.835616512",
          "2017-04-29T01:56:23.013698560",
          "2017-04-30T01:57:22.191780864",
          "2017-05-01T01:58:21.369862912",
          "2017-05-02T01:59:20.547945216",
          "2017-05-03T02:00:19.726027520",
          "2017-05-04T02:01:18.904109568",
          "2017-05-05T02:02:18.082191872",
          "2017-05-06T02:03:17.260273920",
          "2017-05-07T02:04:16.438356224",
          "2017-05-08T02:05:15.616438272",
          "2017-05-09T02:06:14.794520576",
          "2017-05-10T02:07:13.972602624",
          "2017-05-11T02:08:13.150684928",
          "2017-05-12T02:09:12.328767232",
          "2017-05-13T02:10:11.506849280",
          "2017-05-14T02:11:10.684931584",
          "2017-05-15T02:12:09.863013632",
          "2017-05-16T02:13:09.041095936",
          "2017-05-17T02:14:08.219177984",
          "2017-05-18T02:15:07.397260288",
          "2017-05-19T02:16:06.575342592",
          "2017-05-20T02:17:05.753424640",
          "2017-05-21T02:18:04.931506944",
          "2017-05-22T02:19:04.109588992",
          "2017-05-23T02:20:03.287671296",
          "2017-05-24T02:21:02.465753344",
          "2017-05-25T02:22:01.643835648",
          "2017-05-26T02:23:00.821917696",
          "2017-05-27T02:24:00.000000000",
          "2017-05-28T02:24:59.178082304",
          "2017-05-29T02:25:58.356164352",
          "2017-05-30T02:26:57.534246656",
          "2017-05-31T02:27:56.712328704",
          "2017-06-01T02:28:55.890411008",
          "2017-06-02T02:29:55.068493056",
          "2017-06-03T02:30:54.246575360",
          "2017-06-04T02:31:53.424657408",
          "2017-06-05T02:32:52.602739712",
          "2017-06-06T02:33:51.780822016",
          "2017-06-07T02:34:50.958904064",
          "2017-06-08T02:35:50.136986368",
          "2017-06-09T02:36:49.315068416",
          "2017-06-10T02:37:48.493150720",
          "2017-06-11T02:38:47.671232768",
          "2017-06-12T02:39:46.849315072",
          "2017-06-13T02:40:46.027397376",
          "2017-06-14T02:41:45.205479424",
          "2017-06-15T02:42:44.383561728",
          "2017-06-16T02:43:43.561643776",
          "2017-06-17T02:44:42.739726080",
          "2017-06-18T02:45:41.917808128",
          "2017-06-19T02:46:41.095890432",
          "2017-06-20T02:47:40.273972480",
          "2017-06-21T02:48:39.452054784",
          "2017-06-22T02:49:38.630137088",
          "2017-06-23T02:50:37.808219136",
          "2017-06-24T02:51:36.986301440",
          "2017-06-25T02:52:36.164383488",
          "2017-06-26T02:53:35.342465792",
          "2017-06-27T02:54:34.520547840",
          "2017-06-28T02:55:33.698630144",
          "2017-06-29T02:56:32.876712448",
          "2017-06-30T02:57:32.054794496",
          "2017-07-01T02:58:31.232876800",
          "2017-07-02T02:59:30.410958848",
          "2017-07-03T03:00:29.589041152",
          "2017-07-04T03:01:28.767123200",
          "2017-07-05T03:02:27.945205504",
          "2017-07-06T03:03:27.123287552",
          "2017-07-07T03:04:26.301369856",
          "2017-07-08T03:05:25.479452160",
          "2017-07-09T03:06:24.657534208",
          "2017-07-10T03:07:23.835616512",
          "2017-07-11T03:08:23.013698560",
          "2017-07-12T03:09:22.191780864",
          "2017-07-13T03:10:21.369862912",
          "2017-07-14T03:11:20.547945216",
          "2017-07-15T03:12:19.726027520",
          "2017-07-16T03:13:18.904109568",
          "2017-07-17T03:14:18.082191872",
          "2017-07-18T03:15:17.260273920",
          "2017-07-19T03:16:16.438356224",
          "2017-07-20T03:17:15.616438272",
          "2017-07-21T03:18:14.794520576",
          "2017-07-22T03:19:13.972602624",
          "2017-07-23T03:20:13.150684928",
          "2017-07-24T03:21:12.328767232",
          "2017-07-25T03:22:11.506849280",
          "2017-07-26T03:23:10.684931584",
          "2017-07-27T03:24:09.863013632",
          "2017-07-28T03:25:09.041095936",
          "2017-07-29T03:26:08.219177984",
          "2017-07-30T03:27:07.397260288",
          "2017-07-31T03:28:06.575342592",
          "2017-08-01T03:29:05.753424640",
          "2017-08-02T03:30:04.931506944",
          "2017-08-03T03:31:04.109588992",
          "2017-08-04T03:32:03.287671296",
          "2017-08-05T03:33:02.465753344",
          "2017-08-06T03:34:01.643835648",
          "2017-08-07T03:35:00.821917696",
          "2017-08-08T03:36:00.000000000",
          "2017-08-09T03:36:59.178082304",
          "2017-08-10T03:37:58.356164352",
          "2017-08-11T03:38:57.534246656",
          "2017-08-12T03:39:56.712328704",
          "2017-08-13T03:40:55.890411008",
          "2017-08-14T03:41:55.068493056",
          "2017-08-15T03:42:54.246575360",
          "2017-08-16T03:43:53.424657408",
          "2017-08-17T03:44:52.602739712",
          "2017-08-18T03:45:51.780822016",
          "2017-08-19T03:46:50.958904064",
          "2017-08-20T03:47:50.136986368",
          "2017-08-21T03:48:49.315068416",
          "2017-08-22T03:49:48.493150720",
          "2017-08-23T03:50:47.671232768",
          "2017-08-24T03:51:46.849315072",
          "2017-08-25T03:52:46.027397376",
          "2017-08-26T03:53:45.205479424",
          "2017-08-27T03:54:44.383561728",
          "2017-08-28T03:55:43.561643776",
          "2017-08-29T03:56:42.739726080",
          "2017-08-30T03:57:41.917808128",
          "2017-08-31T03:58:41.095890432",
          "2017-09-01T03:59:40.273972480",
          "2017-09-02T04:00:39.452054784",
          "2017-09-03T04:01:38.630137088",
          "2017-09-04T04:02:37.808219136",
          "2017-09-05T04:03:36.986301440",
          "2017-09-06T04:04:36.164383488",
          "2017-09-07T04:05:35.342465792",
          "2017-09-08T04:06:34.520547840",
          "2017-09-09T04:07:33.698630144",
          "2017-09-10T04:08:32.876712448",
          "2017-09-11T04:09:32.054794496",
          "2017-09-12T04:10:31.232876800",
          "2017-09-13T04:11:30.410958848",
          "2017-09-14T04:12:29.589041152",
          "2017-09-15T04:13:28.767123200",
          "2017-09-16T04:14:27.945205504",
          "2017-09-17T04:15:27.123287552",
          "2017-09-18T04:16:26.301369856",
          "2017-09-19T04:17:25.479452160",
          "2017-09-20T04:18:24.657534208",
          "2017-09-21T04:19:23.835616512",
          "2017-09-22T04:20:23.013698560",
          "2017-09-23T04:21:22.191780864",
          "2017-09-24T04:22:21.369862912",
          "2017-09-25T04:23:20.547945216",
          "2017-09-26T04:24:19.726027520",
          "2017-09-27T04:25:18.904109568",
          "2017-09-28T04:26:18.082191872",
          "2017-09-29T04:27:17.260273920",
          "2017-09-30T04:28:16.438356224",
          "2017-10-01T04:29:15.616438272",
          "2017-10-02T04:30:14.794520576",
          "2017-10-03T04:31:13.972602624",
          "2017-10-04T04:32:13.150684928",
          "2017-10-05T04:33:12.328767232",
          "2017-10-06T04:34:11.506849280",
          "2017-10-07T04:35:10.684931584",
          "2017-10-08T04:36:09.863013632",
          "2017-10-09T04:37:09.041095936",
          "2017-10-10T04:38:08.219177984",
          "2017-10-11T04:39:07.397260288",
          "2017-10-12T04:40:06.575342592",
          "2017-10-13T04:41:05.753424640",
          "2017-10-14T04:42:04.931506944",
          "2017-10-15T04:43:04.109588992",
          "2017-10-16T04:44:03.287671296",
          "2017-10-17T04:45:02.465753344",
          "2017-10-18T04:46:01.643835648",
          "2017-10-19T04:47:00.821917696",
          "2017-10-20T04:48:00.000000000",
          "2017-10-21T04:48:59.178082304",
          "2017-10-22T04:49:58.356164352",
          "2017-10-23T04:50:57.534246656",
          "2017-10-24T04:51:56.712328704",
          "2017-10-25T04:52:55.890411008",
          "2017-10-26T04:53:55.068493056",
          "2017-10-27T04:54:54.246575360",
          "2017-10-28T04:55:53.424657408",
          "2017-10-29T04:56:52.602739712",
          "2017-10-30T04:57:51.780822016",
          "2017-10-31T04:58:50.958904064",
          "2017-11-01T04:59:50.136986368",
          "2017-11-02T05:00:49.315068416",
          "2017-11-03T05:01:48.493150720",
          "2017-11-04T05:02:47.671232768",
          "2017-11-05T05:03:46.849315072",
          "2017-11-06T05:04:46.027397376",
          "2017-11-07T05:05:45.205479424",
          "2017-11-08T05:06:44.383561728",
          "2017-11-09T05:07:43.561643776",
          "2017-11-10T05:08:42.739726080",
          "2017-11-11T05:09:41.917808128",
          "2017-11-12T05:10:41.095890432",
          "2017-11-13T05:11:40.273972480",
          "2017-11-14T05:12:39.452054784",
          "2017-11-15T05:13:38.630137088",
          "2017-11-16T05:14:37.808219136",
          "2017-11-17T05:15:36.986301440",
          "2017-11-18T05:16:36.164383488",
          "2017-11-19T05:17:35.342465792",
          "2017-11-20T05:18:34.520547840",
          "2017-11-21T05:19:33.698630144",
          "2017-11-22T05:20:32.876712448",
          "2017-11-23T05:21:32.054794496",
          "2017-11-24T05:22:31.232876800",
          "2017-11-25T05:23:30.410958848",
          "2017-11-26T05:24:29.589041152",
          "2017-11-27T05:25:28.767123200",
          "2017-11-28T05:26:27.945205504",
          "2017-11-29T05:27:27.123287552",
          "2017-11-30T05:28:26.301369856",
          "2017-12-01T05:29:25.479452160",
          "2017-12-02T05:30:24.657534208",
          "2017-12-03T05:31:23.835616512",
          "2017-12-04T05:32:23.013698560",
          "2017-12-05T05:33:22.191780864",
          "2017-12-06T05:34:21.369862912",
          "2017-12-07T05:35:20.547945216",
          "2017-12-08T05:36:19.726027520",
          "2017-12-09T05:37:18.904109568",
          "2017-12-10T05:38:18.082191872",
          "2017-12-11T05:39:17.260273920",
          "2017-12-12T05:40:16.438356224",
          "2017-12-13T05:41:15.616438272",
          "2017-12-14T05:42:14.794520576",
          "2017-12-15T05:43:13.972602624",
          "2017-12-16T05:44:13.150684928",
          "2017-12-17T05:45:12.328767232",
          "2017-12-18T05:46:11.506849280",
          "2017-12-19T05:47:10.684931584",
          "2017-12-20T05:48:09.863013632",
          "2017-12-21T05:49:09.041095936",
          "2017-12-22T05:50:08.219177984",
          "2017-12-23T05:51:07.397260288",
          "2017-12-24T05:52:06.575342592",
          "2017-12-25T05:53:05.753424640",
          "2017-12-26T05:54:04.931506944",
          "2017-12-27T05:55:04.109588992",
          "2017-12-28T05:56:03.287671296",
          "2017-12-29T05:57:02.465753344",
          "2017-12-30T05:58:01.643835648",
          "2017-12-31T05:59:00.821917696"
         ],
         "xaxis": "x2",
         "y": {
          "_inputArray": {
           "0": -101880.31853002387,
           "1": -103620.95895324054,
           "10": -101686.77731426687,
           "100": -2034347.932488106,
           "101": -2221365.275746121,
           "102": -2378694.6970269857,
           "103": -2500318.2982880166,
           "104": -2581107.704430833,
           "105": -2616946.587420688,
           "106": -2604840.028075655,
           "107": -2542995.4064972326,
           "108": -2430880.263905632,
           "109": -2269243.5561100226,
           "11": -39384.226513840345,
           "110": -2060113.8318855802,
           "111": -1806765.0221705276,
           "112": -1513653.5739422857,
           "113": -1186323.8309632258,
           "114": -831307.0734439156,
           "115": -455958.8499063595,
           "116": -68313.73928531389,
           "117": 323094.9716602044,
           "118": 709429.09930063,
           "119": 1081725.5389942087,
           "12": 47322.790767472325,
           "120": 1431124.9473057787,
           "121": 1749054.7102793232,
           "122": 2027429.1837916123,
           "123": 2258835.629230409,
           "124": 2436707.8031398407,
           "125": 2555472.170549186,
           "126": 2610692.5726366728,
           "127": 2599168.8536609467,
           "128": 2519019.6272157202,
           "129": 2369733.61459852,
           "13": 161039.1513187679,
           "130": 2152187.8220692268,
           "131": 1868648.7237584624,
           "132": 1522716.8752271046,
           "133": 1119266.3051942822,
           "134": 664344.4318524359,
           "135": 165042.29250691194,
           "136": -370628.55814165476,
           "137": -933937.1710066522,
           "138": -1515592.6249491998,
           "139": -2105943.2699826113,
           "14": 303938.57091004745,
           "140": -2695177.601678736,
           "141": -3273534.3001353205,
           "142": -3831476.9749722118,
           "143": -4359929.234471695,
           "144": -4850431.418818,
           "145": -5295315.983024462,
           "146": -5687861.446437001,
           "147": -6022402.413111672,
           "148": -6294459.590583773,
           "149": -6500796.576863667,
           "15": 477687.946921668,
           "150": -6639471.820845454,
           "151": -6709856.384477257,
           "152": -6712621.894792697,
           "153": -6649700.640305273,
           "154": -6524217.5410256665,
           "155": -6340395.352050286,
           "156": -6103437.960708433,
           "157": -5819393.065647386,
           "158": -5494994.17526334,
           "159": -5137509.171876334,
           "16": 683384.1899131907,
           "160": -4754541.968272073,
           "161": -4353866.938139495,
           "162": -3943245.0138131594,
           "163": -3530242.6818291983,
           "164": -3122083.1582391514,
           "165": -2725461.800917605,
           "166": -2346425.2152402746,
           "167": -1990245.25981572,
           "168": -1661319.3224673644,
           "169": -1363090.906353279,
           "17": 921502.5977968109,
           "170": -1098011.9645412338,
           "171": -867496.9496223448,
           "172": -671937.8857008433,
           "173": -510727.25857198,
           "174": -382309.1093058702,
           "175": -284252.06216222263,
           "176": -213348.18930751225,
           "177": -165718.9504961458,
           "178": -136947.61944395953,
           "179": -122217.00592832964,
           "18": 1191841.7173298842,
           "180": -116456.21860346227,
           "181": -114491.5614528529,
           "182": -111197.04101938786,
           "183": -101641.72991614242,
           "184": -81229.285935514,
           "185": -45826.69715108417,
           "186": 8121.728385828776,
           "187": 83493.66919996007,
           "188": 182413.53133332264,
           "189": 306192.06254461315,
           "19": 1493508.1477132977,
           "190": 455290.7437080606,
           "191": 629310.5077889144,
           "192": 826992.7190006351,
           "193": 1046262.8604502925,
           "194": 1284275.558816638,
           "195": 1537488.8858735156,
           "196": 1801754.3738403555,
           "197": 2072425.2968676998,
           "198": 2344461.497618513,
           "199": 2612574.9070760845,
           "2": -112788.32360664188,
           "20": 1824887.1831857269,
           "200": 2871349.6102390666,
           "201": 3115380.0718383905,
           "202": 3339405.3948587026,
           "203": 3538441.512936145,
           "204": 3707894.922004972,
           "205": 3843688.868864596,
           "206": 3942353.0599363702,
           "207": 4001110.0628264155,
           "208": 4017941.986642144,
           "209": 3991638.28339995,
           "21": 2183640.426826709,
           "210": 3921825.440937754,
           "211": 3808974.1691030134,
           "212": 3654388.342569795,
           "213": 3460174.0894695423,
           "214": 3229187.623574508,
           "215": 2964980.153260875,
           "216": 2671700.5189730264,
           "217": 2354011.3721800926,
           "218": 2016982.2119247473,
           "219": 1665973.085521847,
           "22": 2566715.11778577,
           "220": 1306533.970088934,
           "221": 944261.3310803922,
           "222": 584696.2196997997,
           "223": 233205.9657030576,
           "224": -105123.75128021951,
           "225": -425591.5903183114,
           "226": -723954.0363791618,
           "227": -996522.9901257431,
           "228": -1240211.634133514,
           "229": -1452583.804285734,
           "23": 2970372.760111062,
           "230": -1631883.4543026837,
           "231": -1777049.2476562792,
           "232": -1887705.1516652727,
           "233": -1964151.7773817198,
           "234": -2007325.793848242,
           "235": -2018754.8867940228,
           "236": -2000498.5826058635,
           "237": -1955080.582286725,
           "238": -1885410.5513471877,
           "239": -1794701.8803846664,
           "24": 3390208.5602452997,
           "240": -1686385.2421862348,
           "241": -1564020.8303379202,
           "242": -1431209.8782505647,
           "243": -1291517.0240717223,
           "244": -1148382.0958239285,
           "245": -1005053.9994746108,
           "246": -864525.3459607755,
           "247": -729478.1240367477,
           "248": -602238.489163599,
           "249": -484749.95941394614,
           "25": 3821232.0806799494,
           "250": -378543.47658496513,
           "251": -284733.87675286835,
           "252": -204020.07565393942,
           "253": -136696.72579611564,
           "254": -82679.32700183732,
           "255": -41530.41466524512,
           "256": -12501.107593401946,
           "257": 5425.493705473695,
           "258": 13485.622281217478,
           "259": 13083.290264820742,
           "26": 4257914.926044648,
           "260": 5737.701227170496,
           "261": -6969.126500773521,
           "262": -23442.84737481325,
           "263": -42123.892851511926,
           "264": -61530.32557730105,
           "265": -80294.00252834067,
           "266": -97192.62315106559,
           "267": -111172.50056363535,
           "268": -121365.10392918611,
           "269": -127095.89749850363,
           "27": 4694274.223327811,
           "270": -127885.79893606085,
           "271": -123445.66923701849,
           "272": -113664.3913562362,
           "273": -98591.09001033583,
           "274": -78412.69846020322,
           "275": -53427.73337748202,
           "276": -24017.081061854846,
           "277": 9384.880738283253,
           "278": 46322.86537790547,
           "279": 86348.96262563717,
           "28": 5123963.152104439,
           "280": 129050.50433535328,
           "281": 174075.07522368975,
           "282": 221148.91082613936,
           "283": 270095.81872131495,
           "284": 320845.62181738985,
           "285": 373439.49956452055,
           "286": 428028.96814569493,
           "287": 484869.7005494517,
           "288": 544306.4116730457,
           "289": 606759.1436559615,
           "29": 5540376.402090595,
           "290": 672698.4161494159,
           "291": 742619.7783999811,
           "292": 817015.6550728977,
           "293": 896340.8589633491,
           "294": 980985.8750271279,
           "295": 1071241.8485016848,
           "296": 1167271.1602333798,
           "297": 1269079.6401901382,
           "298": 1376493.5688478851,
           "299": 1489134.833901428,
           "3": -126924.19519775418,
           "30": 5936740.375985069,
           "300": 1606413.8799671966,
           "301": 1727516.269570895,
           "302": 1851401.8586046305,
           "303": 1976809.5886573766,
           "304": 2102270.6872401475,
           "305": 2226121.50953598,
           "306": 2346537.5528422375,
           "307": 2461559.0730927577,
           "308": 2569129.491582326,
           "309": 2667138.1095280056,
           "31": 6306258.275140319,
           "310": 2753461.048056691,
           "311": 2826016.0857763556,
           "312": 2882807.4287369144,
           "313": 2921976.541181255,
           "314": 2941850.6964481026,
           "315": 2940989.028363676,
           "316": 2918225.391218566,
           "317": 2872706.1239101486,
           "318": 2803921.788823363,
           "319": 2711732.454839374,
           "32": 6642211.3778495025,
           "320": 2596385.2971855546,
           "321": 2458522.297927883,
           "322": 2299187.7190193445,
           "323": 2119810.546335235,
           "324": 1922193.852342459,
           "325": 1708487.9877708552,
           "326": 1481154.3946113733,
           "327": 1242935.283226359,
           "328": 996790.1059173476,
           "329": 745852.5391387952,
           "33": 6938087.277158929,
           "330": 493369.93880806095,
           "331": 242642.02792645502,
           "332": -3045.1949282058813,
           "333": -240472.0093895296,
           "334": -466565.09213907825,
           "335": -678446.7826069775,
           "336": -873495.0327921747,
           "337": -1049397.4220381253,
           "338": -1204189.1553585138,
           "339": -1336303.9581289552,
           "34": 7187706.070331739,
           "340": -1444596.154965463,
           "341": -1528364.3545470356,
           "342": -1587363.5009640113,
           "343": -1621807.354972244,
           "344": -1632359.454771874,
           "345": -1620117.8939169121,
           "346": -1586586.291553538,
           "347": -1533638.1386549026,
           "348": -1463472.2922866526,
           "349": -1378560.0101086944,
           "35": 7385330.837906567,
           "350": -1281590.8226026,
           "351": -1175403.258138178,
           "352": -1062921.5414641087,
           "353": -947085.2736422693,
           "354": -830777.8493835476,
           "355": -716762.3023153694,
           "356": -607605.8675235691,
           "357": -505621.7994315019,
           "358": -412809.58018825925,
           "359": -330802.9654001278,
           "36": 7525802.092927527,
           "360": -260824.99839658325,
           "361": -203655.63030351987,
           "362": -159601.04550252907,
           "363": -128481.6279917419,
           "364": -109626.53981184805,
           "37": 7604635.808425346,
           "38": 7618127.646638906,
           "39": 7563442.71080111,
           "4": -143221.75352521316,
           "40": 7438690.109610289,
           "41": 7242990.807248322,
           "42": 6976513.512616227,
           "43": 6640506.128421164,
           "44": 6237302.225357979,
           "45": 5770303.168663046,
           "46": 5243968.467321922,
           "47": 4663731.508218799,
           "48": 4035949.4384170836,
           "49": 3367808.7357348916,
           "5": -158584.41349221763,
           "50": 2667218.757141287,
           "51": 1942681.399641049,
           "52": 1203189.6637545133,
           "53": 458030.8820426042,
           "54": -283334.74130912666,
           "55": -1011442.8756718943,
           "56": -1716988.2167203214,
           "57": -2390994.766299855,
           "58": -3024944.0732944687,
           "59": -3610974.425151721,
           "6": -169692.9289618145,
           "60": -4141991.550427462,
           "61": -4611806.120354344,
           "62": -5015251.900670826,
           "63": -5348263.627741394,
           "64": -5607980.56567414,
           "65": -5792780.420728903,
           "66": -5902314.361713096,
           "67": -5937512.620105951,
           "68": -5900564.473283018,
           "69": -5794876.919961165,
           "7": -173078.8910066055,
           "70": -5625004.072907379,
           "71": -5396557.101013752,
           "72": -5116091.870649068,
           "73": -4790973.326775555,
           "74": -4429242.6751271,
           "75": -4039432.432777482,
           "76": -3630408.206462332,
           "77": -3211185.2383853197,
           "78": -2790745.095859093,
           "79": -2377848.1215118114,
           "8": -165205.106695747,
           "80": -1980873.9396565582,
           "81": -1607622.2878737834,
           "82": -1265173.7984338235,
           "83": -959741.9568268824,
           "84": -696548.3952541678,
           "85": -479717.26843156194,
           "86": -312205.030623588,
           "87": -195731.18171531474,
           "88": -130761.62123227857,
           "89": -116506.24615433377,
           "9": -142548.59478396876,
           "90": -150947.7901480451,
           "91": -230895.14301128458,
           "92": -352067.5264085774,
           "93": -509199.72068261995,
           "94": -696170.7983661394,
           "95": -906152.2961544133,
           "96": -1131775.3949593322,
           "97": -1365297.5147146452,
           "98": -1598804.1274504554,
           "99": -1824389.0453890616,
           "bdata": "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",
           "dtype": "f8",
           "shape": "365"
          },
          "bdata": "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",
          "dtype": "f8"
         },
         "yaxis": "y2"
        }
       ],
       "layout": {
        "height": 400,
        "showlegend": false,
        "template": {
         "data": {
          "bar": [
           {
            "error_x": {
             "color": "#2a3f5f"
            },
            "error_y": {
             "color": "#2a3f5f"
            },
            "marker": {
             "line": {
              "color": "#E5ECF6",
              "width": 0.5
             },
             "pattern": {
              "fillmode": "overlay",
              "size": 10,
              "solidity": 0.2
             }
            },
            "type": "bar"
           }
          ],
          "barpolar": [
           {
            "marker": {
             "line": {
              "color": "#E5ECF6",
              "width": 0.5
             },
             "pattern": {
              "fillmode": "overlay",
              "size": 10,
              "solidity": 0.2
             }
            },
            "type": "barpolar"
           }
          ],
          "carpet": [
           {
            "aaxis": {
             "endlinecolor": "#2a3f5f",
             "gridcolor": "white",
             "linecolor": "white",
             "minorgridcolor": "white",
             "startlinecolor": "#2a3f5f"
            },
            "baxis": {
             "endlinecolor": "#2a3f5f",
             "gridcolor": "white",
             "linecolor": "white",
             "minorgridcolor": "white",
             "startlinecolor": "#2a3f5f"
            },
            "type": "carpet"
           }
          ],
          "choropleth": [
           {
            "colorbar": {
             "outlinewidth": 0,
             "ticks": ""
            },
            "type": "choropleth"
           }
          ],
          "contour": [
           {
            "colorbar": {
             "outlinewidth": 0,
             "ticks": ""
            },
            "colorscale": [
             [
              0,
              "#0d0887"
             ],
             [
              0.1111111111111111,
              "#46039f"
             ],
             [
              0.2222222222222222,
              "#7201a8"
             ],
             [
              0.3333333333333333,
              "#9c179e"
             ],
             [
              0.4444444444444444,
              "#bd3786"
             ],
             [
              0.5555555555555556,
              "#d8576b"
             ],
             [
              0.6666666666666666,
              "#ed7953"
             ],
             [
              0.7777777777777778,
              "#fb9f3a"
             ],
             [
              0.8888888888888888,
              "#fdca26"
             ],
             [
              1,
              "#f0f921"
             ]
            ],
            "type": "contour"
           }
          ],
          "contourcarpet": [
           {
            "colorbar": {
             "outlinewidth": 0,
             "ticks": ""
            },
            "type": "contourcarpet"
           }
          ],
          "heatmap": [
           {
            "colorbar": {
             "outlinewidth": 0,
             "ticks": ""
            },
            "colorscale": [
             [
              0,
              "#0d0887"
             ],
             [
              0.1111111111111111,
              "#46039f"
             ],
             [
              0.2222222222222222,
              "#7201a8"
             ],
             [
              0.3333333333333333,
              "#9c179e"
             ],
             [
              0.4444444444444444,
              "#bd3786"
             ],
             [
              0.5555555555555556,
              "#d8576b"
             ],
             [
              0.6666666666666666,
              "#ed7953"
             ],
             [
              0.7777777777777778,
              "#fb9f3a"
             ],
             [
              0.8888888888888888,
              "#fdca26"
             ],
             [
              1,
              "#f0f921"
             ]
            ],
            "type": "heatmap"
           }
          ],
          "histogram": [
           {
            "marker": {
             "pattern": {
              "fillmode": "overlay",
              "size": 10,
              "solidity": 0.2
             }
            },
            "type": "histogram"
           }
          ],
          "histogram2d": [
           {
            "colorbar": {
             "outlinewidth": 0,
             "ticks": ""
            },
            "colorscale": [
             [
              0,
              "#0d0887"
             ],
             [
              0.1111111111111111,
              "#46039f"
             ],
             [
              0.2222222222222222,
              "#7201a8"
             ],
             [
              0.3333333333333333,
              "#9c179e"
             ],
             [
              0.4444444444444444,
              "#bd3786"
             ],
             [
              0.5555555555555556,
              "#d8576b"
             ],
             [
              0.6666666666666666,
              "#ed7953"
             ],
             [
              0.7777777777777778,
              "#fb9f3a"
             ],
             [
              0.8888888888888888,
              "#fdca26"
             ],
             [
              1,
              "#f0f921"
             ]
            ],
            "type": "histogram2d"
           }
          ],
          "histogram2dcontour": [
           {
            "colorbar": {
             "outlinewidth": 0,
             "ticks": ""
            },
            "colorscale": [
             [
              0,
              "#0d0887"
             ],
             [
              0.1111111111111111,
              "#46039f"
             ],
             [
              0.2222222222222222,
              "#7201a8"
             ],
             [
              0.3333333333333333,
              "#9c179e"
             ],
             [
              0.4444444444444444,
              "#bd3786"
             ],
             [
              0.5555555555555556,
              "#d8576b"
             ],
             [
              0.6666666666666666,
              "#ed7953"
             ],
             [
              0.7777777777777778,
              "#fb9f3a"
             ],
             [
              0.8888888888888888,
              "#fdca26"
             ],
             [
              1,
              "#f0f921"
             ]
            ],
            "type": "histogram2dcontour"
           }
          ],
          "mesh3d": [
           {
            "colorbar": {
             "outlinewidth": 0,
             "ticks": ""
            },
            "type": "mesh3d"
           }
          ],
          "parcoords": [
           {
            "line": {
             "colorbar": {
              "outlinewidth": 0,
              "ticks": ""
             }
            },
            "type": "parcoords"
           }
          ],
          "pie": [
           {
            "automargin": true,
            "type": "pie"
           }
          ],
          "scatter": [
           {
            "fillpattern": {
             "fillmode": "overlay",
             "size": 10,
             "solidity": 0.2
            },
            "type": "scatter"
           }
          ],
          "scatter3d": [
           {
            "line": {
             "colorbar": {
              "outlinewidth": 0,
              "ticks": ""
             }
            },
            "marker": {
             "colorbar": {
              "outlinewidth": 0,
              "ticks": ""
             }
            },
            "type": "scatter3d"
           }
          ],
          "scattercarpet": [
           {
            "marker": {
             "colorbar": {
              "outlinewidth": 0,
              "ticks": ""
             }
            },
            "type": "scattercarpet"
           }
          ],
          "scattergeo": [
           {
            "marker": {
             "colorbar": {
              "outlinewidth": 0,
              "ticks": ""
             }
            },
            "type": "scattergeo"
           }
          ],
          "scattergl": [
           {
            "marker": {
             "colorbar": {
              "outlinewidth": 0,
              "ticks": ""
             }
            },
            "type": "scattergl"
           }
          ],
          "scattermap": [
           {
            "marker": {
             "colorbar": {
              "outlinewidth": 0,
              "ticks": ""
             }
            },
            "type": "scattermap"
           }
          ],
          "scattermapbox": [
           {
            "marker": {
             "colorbar": {
              "outlinewidth": 0,
              "ticks": ""
             }
            },
            "type": "scattermapbox"
           }
          ],
          "scatterpolar": [
           {
            "marker": {
             "colorbar": {
              "outlinewidth": 0,
              "ticks": ""
             }
            },
            "type": "scatterpolar"
           }
          ],
          "scatterpolargl": [
           {
            "marker": {
             "colorbar": {
              "outlinewidth": 0,
              "ticks": ""
             }
            },
            "type": "scatterpolargl"
           }
          ],
          "scatterternary": [
           {
            "marker": {
             "colorbar": {
              "outlinewidth": 0,
              "ticks": ""
             }
            },
            "type": "scatterternary"
           }
          ],
          "surface": [
           {
            "colorbar": {
             "outlinewidth": 0,
             "ticks": ""
            },
            "colorscale": [
             [
              0,
              "#0d0887"
             ],
             [
              0.1111111111111111,
              "#46039f"
             ],
             [
              0.2222222222222222,
              "#7201a8"
             ],
             [
              0.3333333333333333,
              "#9c179e"
             ],
             [
              0.4444444444444444,
              "#bd3786"
             ],
             [
              0.5555555555555556,
              "#d8576b"
             ],
             [
              0.6666666666666666,
              "#ed7953"
             ],
             [
              0.7777777777777778,
              "#fb9f3a"
             ],
             [
              0.8888888888888888,
              "#fdca26"
             ],
             [
              1,
              "#f0f921"
             ]
            ],
            "type": "surface"
           }
          ],
          "table": [
           {
            "cells": {
             "fill": {
              "color": "#EBF0F8"
             },
             "line": {
              "color": "white"
             }
            },
            "header": {
             "fill": {
              "color": "#C8D4E3"
             },
             "line": {
              "color": "white"
             }
            },
            "type": "table"
           }
          ]
         },
         "layout": {
          "annotationdefaults": {
           "arrowcolor": "#2a3f5f",
           "arrowhead": 0,
           "arrowwidth": 1
          },
          "autotypenumbers": "strict",
          "coloraxis": {
           "colorbar": {
            "outlinewidth": 0,
            "ticks": ""
           }
          },
          "colorscale": {
           "diverging": [
            [
             0,
             "#8e0152"
            ],
            [
             0.1,
             "#c51b7d"
            ],
            [
             0.2,
             "#de77ae"
            ],
            [
             0.3,
             "#f1b6da"
            ],
            [
             0.4,
             "#fde0ef"
            ],
            [
             0.5,
             "#f7f7f7"
            ],
            [
             0.6,
             "#e6f5d0"
            ],
            [
             0.7,
             "#b8e186"
            ],
            [
             0.8,
             "#7fbc41"
            ],
            [
             0.9,
             "#4d9221"
            ],
            [
             1,
             "#276419"
            ]
           ],
           "sequential": [
            [
             0,
             "#0d0887"
            ],
            [
             0.1111111111111111,
             "#46039f"
            ],
            [
             0.2222222222222222,
             "#7201a8"
            ],
            [
             0.3333333333333333,
             "#9c179e"
            ],
            [
             0.4444444444444444,
             "#bd3786"
            ],
            [
             0.5555555555555556,
             "#d8576b"
            ],
            [
             0.6666666666666666,
             "#ed7953"
            ],
            [
             0.7777777777777778,
             "#fb9f3a"
            ],
            [
             0.8888888888888888,
             "#fdca26"
            ],
            [
             1,
             "#f0f921"
            ]
           ],
           "sequentialminus": [
            [
             0,
             "#0d0887"
            ],
            [
             0.1111111111111111,
             "#46039f"
            ],
            [
             0.2222222222222222,
             "#7201a8"
            ],
            [
             0.3333333333333333,
             "#9c179e"
            ],
            [
             0.4444444444444444,
             "#bd3786"
            ],
            [
             0.5555555555555556,
             "#d8576b"
            ],
            [
             0.6666666666666666,
             "#ed7953"
            ],
            [
             0.7777777777777778,
             "#fb9f3a"
            ],
            [
             0.8888888888888888,
             "#fdca26"
            ],
            [
             1,
             "#f0f921"
            ]
           ]
          },
          "colorway": [
           "#636efa",
           "#EF553B",
           "#00cc96",
           "#ab63fa",
           "#FFA15A",
           "#19d3f3",
           "#FF6692",
           "#B6E880",
           "#FF97FF",
           "#FECB52"
          ],
          "font": {
           "color": "#2a3f5f"
          },
          "geo": {
           "bgcolor": "white",
           "lakecolor": "white",
           "landcolor": "#E5ECF6",
           "showlakes": true,
           "showland": true,
           "subunitcolor": "white"
          },
          "hoverlabel": {
           "align": "left"
          },
          "hovermode": "closest",
          "mapbox": {
           "style": "light"
          },
          "paper_bgcolor": "white",
          "plot_bgcolor": "#E5ECF6",
          "polar": {
           "angularaxis": {
            "gridcolor": "white",
            "linecolor": "white",
            "ticks": ""
           },
           "bgcolor": "#E5ECF6",
           "radialaxis": {
            "gridcolor": "white",
            "linecolor": "white",
            "ticks": ""
           }
          },
          "scene": {
           "xaxis": {
            "backgroundcolor": "#E5ECF6",
            "gridcolor": "white",
            "gridwidth": 2,
            "linecolor": "white",
            "showbackground": true,
            "ticks": "",
            "zerolinecolor": "white"
           },
           "yaxis": {
            "backgroundcolor": "#E5ECF6",
            "gridcolor": "white",
            "gridwidth": 2,
            "linecolor": "white",
            "showbackground": true,
            "ticks": "",
            "zerolinecolor": "white"
           },
           "zaxis": {
            "backgroundcolor": "#E5ECF6",
            "gridcolor": "white",
            "gridwidth": 2,
            "linecolor": "white",
            "showbackground": true,
            "ticks": "",
            "zerolinecolor": "white"
           }
          },
          "shapedefaults": {
           "line": {
            "color": "#2a3f5f"
           }
          },
          "ternary": {
           "aaxis": {
            "gridcolor": "white",
            "linecolor": "white",
            "ticks": ""
           },
           "baxis": {
            "gridcolor": "white",
            "linecolor": "white",
            "ticks": ""
           },
           "bgcolor": "#E5ECF6",
           "caxis": {
            "gridcolor": "white",
            "linecolor": "white",
            "ticks": ""
           }
          },
          "title": {
           "x": 0.05
          },
          "xaxis": {
           "automargin": true,
           "gridcolor": "white",
           "linecolor": "white",
           "ticks": "",
           "title": {
            "standoff": 15
           },
           "zerolinecolor": "white",
           "zerolinewidth": 2
          },
          "yaxis": {
           "automargin": true,
           "gridcolor": "white",
           "linecolor": "white",
           "ticks": "",
           "title": {
            "standoff": 15
           },
           "zerolinecolor": "white",
           "zerolinewidth": 2
          }
         }
        },
        "width": 900,
        "xaxis": {
         "anchor": "y",
         "domain": [
          0,
          1
         ],
         "range": [
          "2013-01-03T04:48:00",
          "2018-03-27T19:12:00"
         ],
         "type": "date"
        },
        "xaxis2": {
         "anchor": "y2",
         "domain": [
          0,
          1
         ],
         "range": [
          "2016-12-13T18:54:02.958904",
          "2018-01-18T11:04:57.863013"
         ],
         "tickformat": "%B %e",
         "type": "date"
        },
        "yaxis": {
         "anchor": "x",
         "autorange": true,
         "domain": [
          0.575,
          1
         ],
         "range": [
          174630.87155525212,
          277243.30647913035
         ],
         "rangemode": "normal",
         "title": {
          "text": "trend"
         },
         "type": "linear",
         "zerolinecolor": "#AAA"
        },
        "yaxis2": {
         "anchor": "x2",
         "autorange": true,
         "domain": [
          0,
          0.425
         ],
         "range": [
          -7508774.647094453,
          8414280.398940662
         ],
         "title": {
          "text": "yearly"
         },
         "type": "linear",
         "zerolinecolor": "#AAA"
        }
       }
      },
      "image/png": "[encoded data removed]"
     },
     "metadata": {},
     "output_type": "display_data"
    },
    {
     "name": "stdout",
     "output_type": "stream",
     "text": [
      "Generating Prophet components for Executive Office...\n",
      "Saved components for Executive Office: prophet_components_executive_office.png\n"
     ]
    },
    {
     "data": {
      "application/vnd.plotly.v1+json": {
       "config": {
        "plotlyServerURL": "https://plot.ly"
       },
       "data": [
        {
         "line": {
          "color": "#0072B2",
          "width": 2
         },
         "mode": "lines",
         "name": "trend",
         "type": "scatter",
         "x": [
          "2013-03-31T00:00:00.000000000",
          "2013-06-30T00:00:00.000000000",
          "2013-09-30T00:00:00.000000000",
          "2013-12-31T00:00:00.000000000",
          "2014-03-31T00:00:00.000000000",
          "2014-06-30T00:00:00.000000000",
          "2014-09-30T00:00:00.000000000",
          "2014-12-31T00:00:00.000000000",
          "2015-03-31T00:00:00.000000000",
          "2015-06-30T00:00:00.000000000",
          "2015-09-30T00:00:00.000000000",
          "2015-12-31T00:00:00.000000000",
          "2016-03-31T00:00:00.000000000",
          "2016-06-30T00:00:00.000000000",
          "2016-09-30T00:00:00.000000000",
          "2016-12-31T00:00:00.000000000",
          "2017-03-31T00:00:00.000000000",
          "2017-06-30T00:00:00.000000000",
          "2017-09-30T00:00:00.000000000",
          "2017-12-31T00:00:00.000000000"
         ],
         "xaxis": "x",
         "y": {
          "_inputArray": {
           "0": 41128.27,
           "1": 41128.27,
           "10": 41128.27,
           "11": 41128.27,
           "12": 41128.27,
           "13": 41128.27,
           "14": 41128.27,
           "15": 41128.27,
           "16": 41128.27,
           "17": 41128.27,
           "18": 41128.27,
           "19": 41128.27,
           "2": 41128.27,
           "3": 41128.27,
           "4": 41128.27,
           "5": 41128.27,
           "6": 41128.27,
           "7": 41128.27,
           "8": 41128.27,
           "9": 41128.27,
           "bdata": "PQrXowgV5EA9CtejCBXkQD0K16MIFeRAPQrXowgV5EA9CtejCBXkQD0K16MIFeRAPQrXowgV5EA9CtejCBXkQD0K16MIFeRAPQrXowgV5EA9CtejCBXkQD0K16MIFeRAPQrXowgV5EA9CtejCBXkQD0K16MIFeRAPQrXowgV5EA9CtejCBXkQD0K16MIFeRAPQrXowgV5EA9CtejCBXkQA==",
           "dtype": "f8",
           "shape": "20"
          },
          "bdata": "PQrXowgV5EA9CtejCBXkQD0K16MIFeRAPQrXowgV5EA9CtejCBXkQD0K16MIFeRAPQrXowgV5EA9CtejCBXkQD0K16MIFeRAPQrXowgV5EA9CtejCBXkQD0K16MIFeRAPQrXowgV5EA9CtejCBXkQD0K16MIFeRAPQrXowgV5EA9CtejCBXkQD0K16MIFeRAPQrXowgV5EA9CtejCBXkQA==",
          "dtype": "f8"
         },
         "yaxis": "y"
        },
        {
         "line": {
          "color": "rgba(0, 114, 178, 0.2)",
          "width": 0
         },
         "mode": "lines",
         "name": "trend_upper",
         "type": "scatter",
         "x": [
          "2013-03-31T00:00:00.000000000",
          "2013-06-30T00:00:00.000000000",
          "2013-09-30T00:00:00.000000000",
          "2013-12-31T00:00:00.000000000",
          "2014-03-31T00:00:00.000000000",
          "2014-06-30T00:00:00.000000000",
          "2014-09-30T00:00:00.000000000",
          "2014-12-31T00:00:00.000000000",
          "2015-03-31T00:00:00.000000000",
          "2015-06-30T00:00:00.000000000",
          "2015-09-30T00:00:00.000000000",
          "2015-12-31T00:00:00.000000000",
          "2016-03-31T00:00:00.000000000",
          "2016-06-30T00:00:00.000000000",
          "2016-09-30T00:00:00.000000000",
          "2016-12-31T00:00:00.000000000",
          "2017-03-31T00:00:00.000000000",
          "2017-06-30T00:00:00.000000000",
          "2017-09-30T00:00:00.000000000",
          "2017-12-31T00:00:00.000000000"
         ],
         "xaxis": "x",
         "y": {
          "_inputArray": {
           "0": 41128.27,
           "1": 41128.27,
           "10": 41128.27,
           "11": 41128.27,
           "12": 41128.27,
           "13": 41128.27,
           "14": 41128.27,
           "15": 41128.27,
           "16": 41128.27001949677,
           "17": 41128.270062521275,
           "18": 41128.27012058747,
           "19": 41128.27018890734,
           "2": 41128.27,
           "3": 41128.27,
           "4": 41128.27,
           "5": 41128.27,
           "6": 41128.27,
           "7": 41128.27,
           "8": 41128.27,
           "9": 41128.27,
           "bdata": "PQrXowgV5EA9CtejCBXkQD0K16MIFeRAPQrXowgV5EA9CtejCBXkQD0K16MIFeRAPQrXowgV5EA9CtejCBXkQD0K16MIFeRAPQrXowgV5EA9CtejCBXkQD0K16MIFeRAPQrXowgV5EA9CtejCBXkQD0K16MIFeRAPQrXowgV5EB97f+jCBXkQBgoWqQIFeRAJe7TpAgV5EAZNWOlCBXkQA==",
           "dtype": "f8",
           "shape": "20"
          },
          "bdata": "PQrXowgV5EA9CtejCBXkQD0K16MIFeRAPQrXowgV5EA9CtejCBXkQD0K16MIFeRAPQrXowgV5EA9CtejCBXkQD0K16MIFeRAPQrXowgV5EA9CtejCBXkQD0K16MIFeRAPQrXowgV5EA9CtejCBXkQD0K16MIFeRAPQrXowgV5EB97f+jCBXkQBgoWqQIFeRAJe7TpAgV5EAZNWOlCBXkQA==",
          "dtype": "f8"
         },
         "yaxis": "y"
        },
        {
         "fill": "tonexty",
         "fillcolor": "rgba(0, 114, 178, 0.2)",
         "line": {
          "color": "rgba(0, 114, 178, 0.2)",
          "width": 0
         },
         "mode": "lines",
         "name": "trend_lower",
         "type": "scatter",
         "x": [
          "2013-03-31T00:00:00.000000000",
          "2013-06-30T00:00:00.000000000",
          "2013-09-30T00:00:00.000000000",
          "2013-12-31T00:00:00.000000000",
          "2014-03-31T00:00:00.000000000",
          "2014-06-30T00:00:00.000000000",
          "2014-09-30T00:00:00.000000000",
          "2014-12-31T00:00:00.000000000",
          "2015-03-31T00:00:00.000000000",
          "2015-06-30T00:00:00.000000000",
          "2015-09-30T00:00:00.000000000",
          "2015-12-31T00:00:00.000000000",
          "2016-03-31T00:00:00.000000000",
          "2016-06-30T00:00:00.000000000",
          "2016-09-30T00:00:00.000000000",
          "2016-12-31T00:00:00.000000000",
          "2017-03-31T00:00:00.000000000",
          "2017-06-30T00:00:00.000000000",
          "2017-09-30T00:00:00.000000000",
          "2017-12-31T00:00:00.000000000"
         ],
         "xaxis": "x",
         "y": {
          "_inputArray": {
           "0": 41128.27,
           "1": 41128.27,
           "10": 41128.27,
           "11": 41128.27,
           "12": 41128.27,
           "13": 41128.27,
           "14": 41128.27,
           "15": 41128.27,
           "16": 41128.26998120104,
           "17": 41128.26994029857,
           "18": 41128.26988217213,
           "19": 41128.26981522312,
           "2": 41128.27,
           "3": 41128.27,
           "4": 41128.27,
           "5": 41128.27,
           "6": 41128.27,
           "7": 41128.27,
           "8": 41128.27,
           "9": 41128.27,
           "bdata": "PQrXowgV5EA9CtejCBXkQD0K16MIFeRAPQrXowgV5EA9CtejCBXkQD0K16MIFeRAPQrXowgV5EA9CtejCBXkQD0K16MIFeRAPQrXowgV5EA9CtejCBXkQD0K16MIFeRAPQrXowgV5EA9CtejCBXkQD0K16MIFeRAPQrXowgV5ECgna+jCBXkQEfWWaMIFeRA4u/foggV5EDoiFOiCBXkQA==",
           "dtype": "f8",
           "shape": "20"
          },
          "bdata": "PQrXowgV5EA9CtejCBXkQD0K16MIFeRAPQrXowgV5EA9CtejCBXkQD0K16MIFeRAPQrXowgV5EA9CtejCBXkQD0K16MIFeRAPQrXowgV5EA9CtejCBXkQD0K16MIFeRAPQrXowgV5EA9CtejCBXkQD0K16MIFeRAPQrXowgV5ECgna+jCBXkQEfWWaMIFeRA4u/foggV5EDoiFOiCBXkQA==",
          "dtype": "f8"
         },
         "yaxis": "y"
        },
        {
         "line": {
          "color": "#0072B2",
          "width": 2
         },
         "mode": "lines",
         "name": "yearly",
         "type": "scatter",
         "x": [
          "2017-01-01T00:00:00.000000000",
          "2017-01-02T00:00:59.178082304",
          "2017-01-03T00:01:58.356164352",
          "2017-01-04T00:02:57.534246656",
          "2017-01-05T00:03:56.712328704",
          "2017-01-06T00:04:55.890411008",
          "2017-01-07T00:05:55.068493056",
          "2017-01-08T00:06:54.246575360",
          "2017-01-09T00:07:53.424657408",
          "2017-01-10T00:08:52.602739712",
          "2017-01-11T00:09:51.780822016",
          "2017-01-12T00:10:50.958904064",
          "2017-01-13T00:11:50.136986368",
          "2017-01-14T00:12:49.315068416",
          "2017-01-15T00:13:48.493150720",
          "2017-01-16T00:14:47.671232768",
          "2017-01-17T00:15:46.849315072",
          "2017-01-18T00:16:46.027397376",
          "2017-01-19T00:17:45.205479424",
          "2017-01-20T00:18:44.383561728",
          "2017-01-21T00:19:43.561643776",
          "2017-01-22T00:20:42.739726080",
          "2017-01-23T00:21:41.917808128",
          "2017-01-24T00:22:41.095890432",
          "2017-01-25T00:23:40.273972480",
          "2017-01-26T00:24:39.452054784",
          "2017-01-27T00:25:38.630137088",
          "2017-01-28T00:26:37.808219136",
          "2017-01-29T00:27:36.986301440",
          "2017-01-30T00:28:36.164383488",
          "2017-01-31T00:29:35.342465792",
          "2017-02-01T00:30:34.520547840",
          "2017-02-02T00:31:33.698630144",
          "2017-02-03T00:32:32.876712448",
          "2017-02-04T00:33:32.054794496",
          "2017-02-05T00:34:31.232876800",
          "2017-02-06T00:35:30.410958848",
          "2017-02-07T00:36:29.589041152",
          "2017-02-08T00:37:28.767123200",
          "2017-02-09T00:38:27.945205504",
          "2017-02-10T00:39:27.123287552",
          "2017-02-11T00:40:26.301369856",
          "2017-02-12T00:41:25.479452160",
          "2017-02-13T00:42:24.657534208",
          "2017-02-14T00:43:23.835616512",
          "2017-02-15T00:44:23.013698560",
          "2017-02-16T00:45:22.191780864",
          "2017-02-17T00:46:21.369862912",
          "2017-02-18T00:47:20.547945216",
          "2017-02-19T00:48:19.726027520",
          "2017-02-20T00:49:18.904109568",
          "2017-02-21T00:50:18.082191872",
          "2017-02-22T00:51:17.260273920",
          "2017-02-23T00:52:16.438356224",
          "2017-02-24T00:53:15.616438272",
          "2017-02-25T00:54:14.794520576",
          "2017-02-26T00:55:13.972602624",
          "2017-02-27T00:56:13.150684928",
          "2017-02-28T00:57:12.328767232",
          "2017-03-01T00:58:11.506849280",
          "2017-03-02T00:59:10.684931584",
          "2017-03-03T01:00:09.863013632",
          "2017-03-04T01:01:09.041095936",
          "2017-03-05T01:02:08.219177984",
          "2017-03-06T01:03:07.397260288",
          "2017-03-07T01:04:06.575342592",
          "2017-03-08T01:05:05.753424640",
          "2017-03-09T01:06:04.931506944",
          "2017-03-10T01:07:04.109588992",
          "2017-03-11T01:08:03.287671296",
          "2017-03-12T01:09:02.465753344",
          "2017-03-13T01:10:01.643835648",
          "2017-03-14T01:11:00.821917696",
          "2017-03-15T01:12:00.000000000",
          "2017-03-16T01:12:59.178082304",
          "2017-03-17T01:13:58.356164352",
          "2017-03-18T01:14:57.534246656",
          "2017-03-19T01:15:56.712328704",
          "2017-03-20T01:16:55.890411008",
          "2017-03-21T01:17:55.068493056",
          "2017-03-22T01:18:54.246575360",
          "2017-03-23T01:19:53.424657408",
          "2017-03-24T01:20:52.602739712",
          "2017-03-25T01:21:51.780822016",
          "2017-03-26T01:22:50.958904064",
          "2017-03-27T01:23:50.136986368",
          "2017-03-28T01:24:49.315068416",
          "2017-03-29T01:25:48.493150720",
          "2017-03-30T01:26:47.671232768",
          "2017-03-31T01:27:46.849315072",
          "2017-04-01T01:28:46.027397376",
          "2017-04-02T01:29:45.205479424",
          "2017-04-03T01:30:44.383561728",
          "2017-04-04T01:31:43.561643776",
          "2017-04-05T01:32:42.739726080",
          "2017-04-06T01:33:41.917808128",
          "2017-04-07T01:34:41.095890432",
          "2017-04-08T01:35:40.273972480",
          "2017-04-09T01:36:39.452054784",
          "2017-04-10T01:37:38.630137088",
          "2017-04-11T01:38:37.808219136",
          "2017-04-12T01:39:36.986301440",
          "2017-04-13T01:40:36.164383488",
          "2017-04-14T01:41:35.342465792",
          "2017-04-15T01:42:34.520547840",
          "2017-04-16T01:43:33.698630144",
          "2017-04-17T01:44:32.876712448",
          "2017-04-18T01:45:32.054794496",
          "2017-04-19T01:46:31.232876800",
          "2017-04-20T01:47:30.410958848",
          "2017-04-21T01:48:29.589041152",
          "2017-04-22T01:49:28.767123200",
          "2017-04-23T01:50:27.945205504",
          "2017-04-24T01:51:27.123287552",
          "2017-04-25T01:52:26.301369856",
          "2017-04-26T01:53:25.479452160",
          "2017-04-27T01:54:24.657534208",
          "2017-04-28T01:55:23.835616512",
          "2017-04-29T01:56:23.013698560",
          "2017-04-30T01:57:22.191780864",
          "2017-05-01T01:58:21.369862912",
          "2017-05-02T01:59:20.547945216",
          "2017-05-03T02:00:19.726027520",
          "2017-05-04T02:01:18.904109568",
          "2017-05-05T02:02:18.082191872",
          "2017-05-06T02:03:17.260273920",
          "2017-05-07T02:04:16.438356224",
          "2017-05-08T02:05:15.616438272",
          "2017-05-09T02:06:14.794520576",
          "2017-05-10T02:07:13.972602624",
          "2017-05-11T02:08:13.150684928",
          "2017-05-12T02:09:12.328767232",
          "2017-05-13T02:10:11.506849280",
          "2017-05-14T02:11:10.684931584",
          "2017-05-15T02:12:09.863013632",
          "2017-05-16T02:13:09.041095936",
          "2017-05-17T02:14:08.219177984",
          "2017-05-18T02:15:07.397260288",
          "2017-05-19T02:16:06.575342592",
          "2017-05-20T02:17:05.753424640",
          "2017-05-21T02:18:04.931506944",
          "2017-05-22T02:19:04.109588992",
          "2017-05-23T02:20:03.287671296",
          "2017-05-24T02:21:02.465753344",
          "2017-05-25T02:22:01.643835648",
          "2017-05-26T02:23:00.821917696",
          "2017-05-27T02:24:00.000000000",
          "2017-05-28T02:24:59.178082304",
          "2017-05-29T02:25:58.356164352",
          "2017-05-30T02:26:57.534246656",
          "2017-05-31T02:27:56.712328704",
          "2017-06-01T02:28:55.890411008",
          "2017-06-02T02:29:55.068493056",
          "2017-06-03T02:30:54.246575360",
          "2017-06-04T02:31:53.424657408",
          "2017-06-05T02:32:52.602739712",
          "2017-06-06T02:33:51.780822016",
          "2017-06-07T02:34:50.958904064",
          "2017-06-08T02:35:50.136986368",
          "2017-06-09T02:36:49.315068416",
          "2017-06-10T02:37:48.493150720",
          "2017-06-11T02:38:47.671232768",
          "2017-06-12T02:39:46.849315072",
          "2017-06-13T02:40:46.027397376",
          "2017-06-14T02:41:45.205479424",
          "2017-06-15T02:42:44.383561728",
          "2017-06-16T02:43:43.561643776",
          "2017-06-17T02:44:42.739726080",
          "2017-06-18T02:45:41.917808128",
          "2017-06-19T02:46:41.095890432",
          "2017-06-20T02:47:40.273972480",
          "2017-06-21T02:48:39.452054784",
          "2017-06-22T02:49:38.630137088",
          "2017-06-23T02:50:37.808219136",
          "2017-06-24T02:51:36.986301440",
          "2017-06-25T02:52:36.164383488",
          "2017-06-26T02:53:35.342465792",
          "2017-06-27T02:54:34.520547840",
          "2017-06-28T02:55:33.698630144",
          "2017-06-29T02:56:32.876712448",
          "2017-06-30T02:57:32.054794496",
          "2017-07-01T02:58:31.232876800",
          "2017-07-02T02:59:30.410958848",
          "2017-07-03T03:00:29.589041152",
          "2017-07-04T03:01:28.767123200",
          "2017-07-05T03:02:27.945205504",
          "2017-07-06T03:03:27.123287552",
          "2017-07-07T03:04:26.301369856",
          "2017-07-08T03:05:25.479452160",
          "2017-07-09T03:06:24.657534208",
          "2017-07-10T03:07:23.835616512",
          "2017-07-11T03:08:23.013698560",
          "2017-07-12T03:09:22.191780864",
          "2017-07-13T03:10:21.369862912",
          "2017-07-14T03:11:20.547945216",
          "2017-07-15T03:12:19.726027520",
          "2017-07-16T03:13:18.904109568",
          "2017-07-17T03:14:18.082191872",
          "2017-07-18T03:15:17.260273920",
          "2017-07-19T03:16:16.438356224",
          "2017-07-20T03:17:15.616438272",
          "2017-07-21T03:18:14.794520576",
          "2017-07-22T03:19:13.972602624",
          "2017-07-23T03:20:13.150684928",
          "2017-07-24T03:21:12.328767232",
          "2017-07-25T03:22:11.506849280",
          "2017-07-26T03:23:10.684931584",
          "2017-07-27T03:24:09.863013632",
          "2017-07-28T03:25:09.041095936",
          "2017-07-29T03:26:08.219177984",
          "2017-07-30T03:27:07.397260288",
          "2017-07-31T03:28:06.575342592",
          "2017-08-01T03:29:05.753424640",
          "2017-08-02T03:30:04.931506944",
          "2017-08-03T03:31:04.109588992",
          "2017-08-04T03:32:03.287671296",
          "2017-08-05T03:33:02.465753344",
          "2017-08-06T03:34:01.643835648",
          "2017-08-07T03:35:00.821917696",
          "2017-08-08T03:36:00.000000000",
          "2017-08-09T03:36:59.178082304",
          "2017-08-10T03:37:58.356164352",
          "2017-08-11T03:38:57.534246656",
          "2017-08-12T03:39:56.712328704",
          "2017-08-13T03:40:55.890411008",
          "2017-08-14T03:41:55.068493056",
          "2017-08-15T03:42:54.246575360",
          "2017-08-16T03:43:53.424657408",
          "2017-08-17T03:44:52.602739712",
          "2017-08-18T03:45:51.780822016",
          "2017-08-19T03:46:50.958904064",
          "2017-08-20T03:47:50.136986368",
          "2017-08-21T03:48:49.315068416",
          "2017-08-22T03:49:48.493150720",
          "2017-08-23T03:50:47.671232768",
          "2017-08-24T03:51:46.849315072",
          "2017-08-25T03:52:46.027397376",
          "2017-08-26T03:53:45.205479424",
          "2017-08-27T03:54:44.383561728",
          "2017-08-28T03:55:43.561643776",
          "2017-08-29T03:56:42.739726080",
          "2017-08-30T03:57:41.917808128",
          "2017-08-31T03:58:41.095890432",
          "2017-09-01T03:59:40.273972480",
          "2017-09-02T04:00:39.452054784",
          "2017-09-03T04:01:38.630137088",
          "2017-09-04T04:02:37.808219136",
          "2017-09-05T04:03:36.986301440",
          "2017-09-06T04:04:36.164383488",
          "2017-09-07T04:05:35.342465792",
          "2017-09-08T04:06:34.520547840",
          "2017-09-09T04:07:33.698630144",
          "2017-09-10T04:08:32.876712448",
          "2017-09-11T04:09:32.054794496",
          "2017-09-12T04:10:31.232876800",
          "2017-09-13T04:11:30.410958848",
          "2017-09-14T04:12:29.589041152",
          "2017-09-15T04:13:28.767123200",
          "2017-09-16T04:14:27.945205504",
          "2017-09-17T04:15:27.123287552",
          "2017-09-18T04:16:26.301369856",
          "2017-09-19T04:17:25.479452160",
          "2017-09-20T04:18:24.657534208",
          "2017-09-21T04:19:23.835616512",
          "2017-09-22T04:20:23.013698560",
          "2017-09-23T04:21:22.191780864",
          "2017-09-24T04:22:21.369862912",
          "2017-09-25T04:23:20.547945216",
          "2017-09-26T04:24:19.726027520",
          "2017-09-27T04:25:18.904109568",
          "2017-09-28T04:26:18.082191872",
          "2017-09-29T04:27:17.260273920",
          "2017-09-30T04:28:16.438356224",
          "2017-10-01T04:29:15.616438272",
          "2017-10-02T04:30:14.794520576",
          "2017-10-03T04:31:13.972602624",
          "2017-10-04T04:32:13.150684928",
          "2017-10-05T04:33:12.328767232",
          "2017-10-06T04:34:11.506849280",
          "2017-10-07T04:35:10.684931584",
          "2017-10-08T04:36:09.863013632",
          "2017-10-09T04:37:09.041095936",
          "2017-10-10T04:38:08.219177984",
          "2017-10-11T04:39:07.397260288",
          "2017-10-12T04:40:06.575342592",
          "2017-10-13T04:41:05.753424640",
          "2017-10-14T04:42:04.931506944",
          "2017-10-15T04:43:04.109588992",
          "2017-10-16T04:44:03.287671296",
          "2017-10-17T04:45:02.465753344",
          "2017-10-18T04:46:01.643835648",
          "2017-10-19T04:47:00.821917696",
          "2017-10-20T04:48:00.000000000",
          "2017-10-21T04:48:59.178082304",
          "2017-10-22T04:49:58.356164352",
          "2017-10-23T04:50:57.534246656",
          "2017-10-24T04:51:56.712328704",
          "2017-10-25T04:52:55.890411008",
          "2017-10-26T04:53:55.068493056",
          "2017-10-27T04:54:54.246575360",
          "2017-10-28T04:55:53.424657408",
          "2017-10-29T04:56:52.602739712",
          "2017-10-30T04:57:51.780822016",
          "2017-10-31T04:58:50.958904064",
          "2017-11-01T04:59:50.136986368",
          "2017-11-02T05:00:49.315068416",
          "2017-11-03T05:01:48.493150720",
          "2017-11-04T05:02:47.671232768",
          "2017-11-05T05:03:46.849315072",
          "2017-11-06T05:04:46.027397376",
          "2017-11-07T05:05:45.205479424",
          "2017-11-08T05:06:44.383561728",
          "2017-11-09T05:07:43.561643776",
          "2017-11-10T05:08:42.739726080",
          "2017-11-11T05:09:41.917808128",
          "2017-11-12T05:10:41.095890432",
          "2017-11-13T05:11:40.273972480",
          "2017-11-14T05:12:39.452054784",
          "2017-11-15T05:13:38.630137088",
          "2017-11-16T05:14:37.808219136",
          "2017-11-17T05:15:36.986301440",
          "2017-11-18T05:16:36.164383488",
          "2017-11-19T05:17:35.342465792",
          "2017-11-20T05:18:34.520547840",
          "2017-11-21T05:19:33.698630144",
          "2017-11-22T05:20:32.876712448",
          "2017-11-23T05:21:32.054794496",
          "2017-11-24T05:22:31.232876800",
          "2017-11-25T05:23:30.410958848",
          "2017-11-26T05:24:29.589041152",
          "2017-11-27T05:25:28.767123200",
          "2017-11-28T05:26:27.945205504",
          "2017-11-29T05:27:27.123287552",
          "2017-11-30T05:28:26.301369856",
          "2017-12-01T05:29:25.479452160",
          "2017-12-02T05:30:24.657534208",
          "2017-12-03T05:31:23.835616512",
          "2017-12-04T05:32:23.013698560",
          "2017-12-05T05:33:22.191780864",
          "2017-12-06T05:34:21.369862912",
          "2017-12-07T05:35:20.547945216",
          "2017-12-08T05:36:19.726027520",
          "2017-12-09T05:37:18.904109568",
          "2017-12-10T05:38:18.082191872",
          "2017-12-11T05:39:17.260273920",
          "2017-12-12T05:40:16.438356224",
          "2017-12-13T05:41:15.616438272",
          "2017-12-14T05:42:14.794520576",
          "2017-12-15T05:43:13.972602624",
          "2017-12-16T05:44:13.150684928",
          "2017-12-17T05:45:12.328767232",
          "2017-12-18T05:46:11.506849280",
          "2017-12-19T05:47:10.684931584",
          "2017-12-20T05:48:09.863013632",
          "2017-12-21T05:49:09.041095936",
          "2017-12-22T05:50:08.219177984",
          "2017-12-23T05:51:07.397260288",
          "2017-12-24T05:52:06.575342592",
          "2017-12-25T05:53:05.753424640",
          "2017-12-26T05:54:04.931506944",
          "2017-12-27T05:55:04.109588992",
          "2017-12-28T05:56:03.287671296",
          "2017-12-29T05:57:02.465753344",
          "2017-12-30T05:58:01.643835648",
          "2017-12-31T05:59:00.821917696"
         ],
         "xaxis": "x2",
         "y": {
          "_inputArray": {
           "0": 0,
           "1": 0,
           "10": 0,
           "100": 0,
           "101": 0,
           "102": 0,
           "103": 0,
           "104": 0,
           "105": 0,
           "106": 0,
           "107": 0,
           "108": 0,
           "109": 0,
           "11": 0,
           "110": 0,
           "111": 0,
           "112": 0,
           "113": 0,
           "114": 0,
           "115": 0,
           "116": 0,
           "117": 0,
           "118": 0,
           "119": 0,
           "12": 0,
           "120": 0,
           "121": 0,
           "122": 0,
           "123": 0,
           "124": 0,
           "125": 0,
           "126": 0,
           "127": 0,
           "128": 0,
           "129": 0,
           "13": 0,
           "130": 0,
           "131": 0,
           "132": 0,
           "133": 0,
           "134": 0,
           "135": 0,
           "136": 0,
           "137": 0,
           "138": 0,
           "139": 0,
           "14": 0,
           "140": 0,
           "141": 0,
           "142": 0,
           "143": 0,
           "144": 0,
           "145": 0,
           "146": 0,
           "147": 0,
           "148": 0,
           "149": 0,
           "15": 0,
           "150": 0,
           "151": 0,
           "152": 0,
           "153": 0,
           "154": 0,
           "155": 0,
           "156": 0,
           "157": 0,
           "158": 0,
           "159": 0,
           "16": 0,
           "160": 0,
           "161": 0,
           "162": 0,
           "163": 0,
           "164": 0,
           "165": 0,
           "166": 0,
           "167": 0,
           "168": 0,
           "169": 0,
           "17": 0,
           "170": 0,
           "171": 0,
           "172": 0,
           "173": 0,
           "174": 0,
           "175": 0,
           "176": 0,
           "177": 0,
           "178": 0,
           "179": 0,
           "18": 0,
           "180": 0,
           "181": 0,
           "182": 0,
           "183": 0,
           "184": 0,
           "185": 0,
           "186": 0,
           "187": 0,
           "188": 0,
           "189": 0,
           "19": 0,
           "190": 0,
           "191": 0,
           "192": 0,
           "193": 0,
           "194": 0,
           "195": 0,
           "196": 0,
           "197": 0,
           "198": 0,
           "199": 0,
           "2": 0,
           "20": 0,
           "200": 0,
           "201": 0,
           "202": 0,
           "203": 0,
           "204": 0,
           "205": 0,
           "206": 0,
           "207": 0,
           "208": 0,
           "209": 0,
           "21": 0,
           "210": 0,
           "211": 0,
           "212": 0,
           "213": 0,
           "214": 0,
           "215": 0,
           "216": 0,
           "217": 0,
           "218": 0,
           "219": 0,
           "22": 0,
           "220": 0,
           "221": 0,
           "222": 0,
           "223": 0,
           "224": 0,
           "225": 0,
           "226": 0,
           "227": 0,
           "228": 0,
           "229": 0,
           "23": 0,
           "230": 0,
           "231": 0,
           "232": 0,
           "233": 0,
           "234": 0,
           "235": 0,
           "236": 0,
           "237": 0,
           "238": 0,
           "239": 0,
           "24": 0,
           "240": 0,
           "241": 0,
           "242": 0,
           "243": 0,
           "244": 0,
           "245": 0,
           "246": 0,
           "247": 0,
           "248": 0,
           "249": 0,
           "25": 0,
           "250": 0,
           "251": 0,
           "252": 0,
           "253": 0,
           "254": 0,
           "255": 0,
           "256": 0,
           "257": 0,
           "258": 0,
           "259": 0,
           "26": 0,
           "260": 0,
           "261": 0,
           "262": 0,
           "263": 0,
           "264": 0,
           "265": 0,
           "266": 0,
           "267": 0,
           "268": 0,
           "269": 0,
           "27": 0,
           "270": 0,
           "271": 0,
           "272": 0,
           "273": 0,
           "274": 0,
           "275": 0,
           "276": 0,
           "277": 0,
           "278": 0,
           "279": 0,
           "28": 0,
           "280": 0,
           "281": 0,
           "282": 0,
           "283": 0,
           "284": 0,
           "285": 0,
           "286": 0,
           "287": 0,
           "288": 0,
           "289": 0,
           "29": 0,
           "290": 0,
           "291": 0,
           "292": 0,
           "293": 0,
           "294": 0,
           "295": 0,
           "296": 0,
           "297": 0,
           "298": 0,
           "299": 0,
           "3": 0,
           "30": 0,
           "300": 0,
           "301": 0,
           "302": 0,
           "303": 0,
           "304": 0,
           "305": 0,
           "306": 0,
           "307": 0,
           "308": 0,
           "309": 0,
           "31": 0,
           "310": 0,
           "311": 0,
           "312": 0,
           "313": 0,
           "314": 0,
           "315": 0,
           "316": 0,
           "317": 0,
           "318": 0,
           "319": 0,
           "32": 0,
           "320": 0,
           "321": 0,
           "322": 0,
           "323": 0,
           "324": 0,
           "325": 0,
           "326": 0,
           "327": 0,
           "328": 0,
           "329": 0,
           "33": 0,
           "330": 0,
           "331": 0,
           "332": 0,
           "333": 0,
           "334": 0,
           "335": 0,
           "336": 0,
           "337": 0,
           "338": 0,
           "339": 0,
           "34": 0,
           "340": 0,
           "341": 0,
           "342": 0,
           "343": 0,
           "344": 0,
           "345": 0,
           "346": 0,
           "347": 0,
           "348": 0,
           "349": 0,
           "35": 0,
           "350": 0,
           "351": 0,
           "352": 0,
           "353": 0,
           "354": 0,
           "355": 0,
           "356": 0,
           "357": 0,
           "358": 0,
           "359": 0,
           "36": 0,
           "360": 0,
           "361": 0,
           "362": 0,
           "363": 0,
           "364": 0,
           "37": 0,
           "38": 0,
           "39": 0,
           "4": 0,
           "40": 0,
           "41": 0,
           "42": 0,
           "43": 0,
           "44": 0,
           "45": 0,
           "46": 0,
           "47": 0,
           "48": 0,
           "49": 0,
           "5": 0,
           "50": 0,
           "51": 0,
           "52": 0,
           "53": 0,
           "54": 0,
           "55": 0,
           "56": 0,
           "57": 0,
           "58": 0,
           "59": 0,
           "6": 0,
           "60": 0,
           "61": 0,
           "62": 0,
           "63": 0,
           "64": 0,
           "65": 0,
           "66": 0,
           "67": 0,
           "68": 0,
           "69": 0,
           "7": 0,
           "70": 0,
           "71": 0,
           "72": 0,
           "73": 0,
           "74": 0,
           "75": 0,
           "76": 0,
           "77": 0,
           "78": 0,
           "79": 0,
           "8": 0,
           "80": 0,
           "81": 0,
           "82": 0,
           "83": 0,
           "84": 0,
           "85": 0,
           "86": 0,
           "87": 0,
           "88": 0,
           "89": 0,
           "9": 0,
           "90": 0,
           "91": 0,
           "92": 0,
           "93": 0,
           "94": 0,
           "95": 0,
           "96": 0,
           "97": 0,
           "98": 0,
           "99": 0,
           "bdata": "AAAAAAAAAAAAAAAAAAAAAAAAAAAAAAAAAAAAAAAAAAAAAAAAAAAAAAAAAAAAAAAAAAAAAAAAAAAAAAAAAAAAAAAAAAAAAAAAAAAAAAAAAAAAAAAAAAAAAAAAAAAAAAAAAAAAAAAAAAAAAAAAAAAAAAAAAAAAAAAAAAAAAAAAAAAAAAAAAAAAAAAAAAAAAAAAAAAAAAAAAAAAAAAAAAAAAAAAAAAAAAAAAAAAAAAAAAAAAAAAAAAAAAAAAAAAAAAAAAAAAAAAAAAAAAAAAAAAAAAAAAAAAAAAAAAAAAAAAAAAAAAAAAAAAAAAAAAAAAAAAAAAAAAAAAAAAAAAAAAAAAAAAAAAAAAAAAAAAAAAAAAAAAAAAAAAAAAAAAAAAAAAAAAAAAAAAAAAAAAAAAAAAAAAAAAAAAAAAAAAAAAAAAAAAAAAAAAAAAAAAAAAAAAAAAAAAAAAAAAAAAAAAAAAAAAAAAAAAAAAAAAAAAAAAAAAAAAAAAAAAAAAAAAAAAAAAAAAAAAAAAAAAAAAAAAAAAAAAAAAAAAAAAAAAAAAAAAAAAAAAAAAAAAAAAAAAAAAAAAAAAAAAAAAAAAAAAAAAAAAAAAAAAAAAAAAAAAAAAAAAAAAAAAAAAAAAAAAAAAAAAAAAAAAAAAAAAAAAAAAAAAAAAAAAAAAAAAAAAAAAAAAAAAAAAAAAAAAAAAAAAAAAAAAAAAAAAAAAAAAAAAAAAAAAAAAAAAAAAAAAAAAAAAAAAAAAAAAAAAAAAAAAAAAAAAAAAAAAAAAAAAAAAAAAAAAAAAAAAAAAAAAAAAAAAAAAAAAAAAAAAAAAAAAAAAAAAAAAAAAAAAAAAAAAAAAAAAAAAAAAAAAAAAAAAAAAAAAAAAAAAAAAAAAAAAAAAAAAAAAAAAAAAAAAAAAAAAAAAAAAAAAAAAAAAAAAAAAAAAAAAAAAAAAAAAAAAAAAAAAAAAAAAAAAAAAAAAAAAAAAAAAAAAAAAAAAAAAAAAAAAAAAAAAAAAAAAAAAAAAAAAAAAAAAAAAAAAAAAAAAAAAAAAAAAAAAAAAAAAAAAAAAAAAAAAAAAAAAAAAAAAAAAAAAAAAAAAAAAAAAAAAAAAAAAAAAAAAAAAAAAAAAAAAAAAAAAAAAAAAAAAAAAAAAAAAAAAAAAAAAAAAAAAAAAAAAAAAAAAAAAAAAAAAAAAAAAAAAAAAAAAAAAAAAAAAAAAAAAAAAAAAAAAAAAAAAAAAAAAAAAAAAAAAAAAAAAAAAAAAAAAAAAAAAAAAAAAAAAAAAAAAAAAAAAAAAAAAAAAAAAAAAAAAAAAAAAAAAAAAAAAAAAAAAAAAAAAAAAAAAAAAAAAAAAAAAAAAAAAAAAAAAAAAAAAAAAAAAAAAAAAAAAAAAAAAAAAAAAAAAAAAAAAAAAAAAAAAAAAAAAAAAAAAAAAAAAAAAAAAAAAAAAAAAAAAAAAAAAAAAAAAAAAAAAAAAAAAAAAAAAAAAAAAAAAAAAAAAAAAAAAAAAAAAAAAAAAAAAAAAAAAAAAAAAAAAAAAAAAAAAAAAAAAAAAAAAAAAAAAAAAAAAAAAAAAAAAAAAAAAAAAAAAAAAAAAAAAAAAAAAAAAAAAAAAAAAAAAAAAAAAAAAAAAAAAAAAAAAAAAAAAAAAAAAAAAAAAAAAAAAAAAAAAAAAAAAAAAAAAAAAAAAAAAAAAAAAAAAAAAAAAAAAAAAAAAAAAAAAAAAAAAAAAAAAAAAAAAAAAAAAAAAAAAAAAAAAAAAAAAAAAAAAAAAAAAAAAAAAAAAAAAAAAAAAAAAAAAAAAAAAAAAAAAAAAAAAAAAAAAAAAAAAAAAAAAAAAAAAAAAAAAAAAAAAAAAAAAAAAAAAAAAAAAAAAAAAAAAAAAAAAAAAAAAAAAAAAAAAAAAAAAAAAAAAAAAAAAAAAAAAAAAAAAAAAAAAAAAAAAAAAAAAAAAAAAAAAAAAAAAAAAAAAAAAAAAAAAAAAAAAAAAAAAAAAAAAAAAAAAAAAAAAAAAAAAAAAAAAAAAAAAAAAAAAAAAAAAAAAAAAAAAAAAAAAAAAAAAAAAAAAAAAAAAAAAAAAAAAAAAAAAAAAAAAAAAAAAAAAAAAAAAAAAAAAAAAAAAAAAAAAAAAAAAAAAAAAAAAAAAAAAAAAAAAAAAAAAAAAAAAAAAAAAAAAAAAAAAAAAAAAAAAAAAAAAAAAAAAAAAAAAAAAAAAAAAAAAAAAAAAAAAAAAAAAAAAAAAAAAAAAAAAAAAAAAAAAAAAAAAAAAAAAAAAAAAAAAAAAAAAAAAAAAAAAAAAAAAAAAAAAAAAAAAAAAAAAAAAAAAAAAAAAAAAAAAAAAAAAAAAAAAAAAAAAAAAAAAAAAAAAAAAAAAAAAAAAAAAAAAAAAAAAAAAAAAAAAAAAAAAAAAAAAAAAAAAAAAAAAAAAAAAAAAAAAAAAAAAAAAAAAAAAAAAAAAAAAAAAAAAAAAAAAAAAAAAAAAAAAAAAAAAAAAAAAAAAAAAAAAAAAAAAAAAAAAAAAAAAAAAAAAAAAAAAAAAAAAAAAAAAAAAAAAAAAAAAAAAAAAAAAAAAAAAAAAAAAAAAAAAAAAAAAAAAAAAAAAAAAAAAAAAAAAAAAAAAAAAAAAAAAAAAAAAAAAAAAAAAAAAAAAAAAAAAAAAAAAAAAAAAAAAAAAAAAAAAAAAAAAAAAAAAAAAAAAAAAAAAAAAAAAAAAAAAAAAAAAAAAAAAAAAAAAAAAAAAAAAAAAAAAAAAAAAAAAAAAAAAAAAAAAAAAAAAAAAAAAAAAAAAAAAAAAAAAAAAAAAAAAAAAAAAAAAAAAAAAAAAAAAAAAAAAAAAAAAAAAAAAAAAAAAAAAAAAAAAAAAAAAAAAAAAAAAAAAAAAAAAAAAAAAAAAAAAAAAAAAAAAAAAAAAAAAAAAAAAAAAAAAAAAAAAAAAAAAAAAAAAAAAAAAAAAAAAAAAAAAAAAAAAAAAAAAAAAAAAAAAAAAAAAAAAAAAAAAAAAAAAAAAAAAAAAAAAAAAAAAAAAAAAAAAAAAAAAAAAAAAAAAAAAAAAAAAAAAAAAAAAAAAAAAAAAAAAAAAAAAAAAAAAAAAAAAAAAAAAAAAAAAAAAAAAAAAAAAAAAAAAAAAAAAAAAAAAAAAAAAAAAAAAAAAAAAAAAAAAAAAAAAAAAAAAAAAAAAAAAAAAAAAAAAAAAAAAAAAAAAAAAAAAAAAAAAAAAAAAAAAAAAAAAAAAAAAAAAAAAAAAAAAAAAAAAAAAAAAAAAAAAAAAAAAAAAAAAAAAAAAAAAAAAAAAAAAAAAAAAAAAAAAAAAAAAAAAAAAAAAAAAAAAAAAAAAAAAAAAAAAAAAAAAAAAAAAAAAAAAAAAAAAAAAAAAAAAAAAAAAAAAAAAAAAAAAAAAAAAAAAAAAAAAAAAAAAAAAAAAAAAAAAAAAAAAAAAAAAAAAAAAAAAAAAAAAAAAAAAAAAAAAAAAAAAAAAAAAAAAAAAAAAAAAAAAAAAAAAAAAAAAAAAAAAAAAAAAAAAAAAAAAAAAAAAAAAAAAAAAAAAAAAAAAAAAAAAAAAAAAAAAAAAAAAAAAAAAAAAAAAAAAAAAAAAAAAAAAAAAAAAAAAAAAAAAAAAAAAAAAAAAAAAAAAAAAAAAAAAAAAAAAAAAAAAAAAAAAAAAAAAAAAAAAAAAAAAAAAAAAAAAAAAAAAAAAAAAAAAAAAAAAAAAAAAAAAAAAAAAAAAAAAAAAAAAAAAAAAAAAAAAAAAAAAAAAAAAAAAAAAAAAAAAAAAAAAAAAAAAAAAAAAAAAAAAAAAAAAAAAAAAAAAAAAAAAAAAAAAAAAAAAAAAAAAAAAAAAAAAAAAAAAAAAAAAAAAAAAAAAAAAAAAAAAAAAAAAAAAAAAAAAAAAAAAAAAAAA==",
           "dtype": "f8",
           "shape": "365"
          },
          "bdata": "AAAAAAAAAAAAAAAAAAAAAAAAAAAAAAAAAAAAAAAAAAAAAAAAAAAAAAAAAAAAAAAAAAAAAAAAAAAAAAAAAAAAAAAAAAAAAAAAAAAAAAAAAAAAAAAAAAAAAAAAAAAAAAAAAAAAAAAAAAAAAAAAAAAAAAAAAAAAAAAAAAAAAAAAAAAAAAAAAAAAAAAAAAAAAAAAAAAAAAAAAAAAAAAAAAAAAAAAAAAAAAAAAAAAAAAAAAAAAAAAAAAAAAAAAAAAAAAAAAAAAAAAAAAAAAAAAAAAAAAAAAAAAAAAAAAAAAAAAAAAAAAAAAAAAAAAAAAAAAAAAAAAAAAAAAAAAAAAAAAAAAAAAAAAAAAAAAAAAAAAAAAAAAAAAAAAAAAAAAAAAAAAAAAAAAAAAAAAAAAAAAAAAAAAAAAAAAAAAAAAAAAAAAAAAAAAAAAAAAAAAAAAAAAAAAAAAAAAAAAAAAAAAAAAAAAAAAAAAAAAAAAAAAAAAAAAAAAAAAAAAAAAAAAAAAAAAAAAAAAAAAAAAAAAAAAAAAAAAAAAAAAAAAAAAAAAAAAAAAAAAAAAAAAAAAAAAAAAAAAAAAAAAAAAAAAAAAAAAAAAAAAAAAAAAAAAAAAAAAAAAAAAAAAAAAAAAAAAAAAAAAAAAAAAAAAAAAAAAAAAAAAAAAAAAAAAAAAAAAAAAAAAAAAAAAAAAAAAAAAAAAAAAAAAAAAAAAAAAAAAAAAAAAAAAAAAAAAAAAAAAAAAAAAAAAAAAAAAAAAAAAAAAAAAAAAAAAAAAAAAAAAAAAAAAAAAAAAAAAAAAAAAAAAAAAAAAAAAAAAAAAAAAAAAAAAAAAAAAAAAAAAAAAAAAAAAAAAAAAAAAAAAAAAAAAAAAAAAAAAAAAAAAAAAAAAAAAAAAAAAAAAAAAAAAAAAAAAAAAAAAAAAAAAAAAAAAAAAAAAAAAAAAAAAAAAAAAAAAAAAAAAAAAAAAAAAAAAAAAAAAAAAAAAAAAAAAAAAAAAAAAAAAAAAAAAAAAAAAAAAAAAAAAAAAAAAAAAAAAAAAAAAAAAAAAAAAAAAAAAAAAAAAAAAAAAAAAAAAAAAAAAAAAAAAAAAAAAAAAAAAAAAAAAAAAAAAAAAAAAAAAAAAAAAAAAAAAAAAAAAAAAAAAAAAAAAAAAAAAAAAAAAAAAAAAAAAAAAAAAAAAAAAAAAAAAAAAAAAAAAAAAAAAAAAAAAAAAAAAAAAAAAAAAAAAAAAAAAAAAAAAAAAAAAAAAAAAAAAAAAAAAAAAAAAAAAAAAAAAAAAAAAAAAAAAAAAAAAAAAAAAAAAAAAAAAAAAAAAAAAAAAAAAAAAAAAAAAAAAAAAAAAAAAAAAAAAAAAAAAAAAAAAAAAAAAAAAAAAAAAAAAAAAAAAAAAAAAAAAAAAAAAAAAAAAAAAAAAAAAAAAAAAAAAAAAAAAAAAAAAAAAAAAAAAAAAAAAAAAAAAAAAAAAAAAAAAAAAAAAAAAAAAAAAAAAAAAAAAAAAAAAAAAAAAAAAAAAAAAAAAAAAAAAAAAAAAAAAAAAAAAAAAAAAAAAAAAAAAAAAAAAAAAAAAAAAAAAAAAAAAAAAAAAAAAAAAAAAAAAAAAAAAAAAAAAAAAAAAAAAAAAAAAAAAAAAAAAAAAAAAAAAAAAAAAAAAAAAAAAAAAAAAAAAAAAAAAAAAAAAAAAAAAAAAAAAAAAAAAAAAAAAAAAAAAAAAAAAAAAAAAAAAAAAAAAAAAAAAAAAAAAAAAAAAAAAAAAAAAAAAAAAAAAAAAAAAAAAAAAAAAAAAAAAAAAAAAAAAAAAAAAAAAAAAAAAAAAAAAAAAAAAAAAAAAAAAAAAAAAAAAAAAAAAAAAAAAAAAAAAAAAAAAAAAAAAAAAAAAAAAAAAAAAAAAAAAAAAAAAAAAAAAAAAAAAAAAAAAAAAAAAAAAAAAAAAAAAAAAAAAAAAAAAAAAAAAAAAAAAAAAAAAAAAAAAAAAAAAAAAAAAAAAAAAAAAAAAAAAAAAAAAAAAAAAAAAAAAAAAAAAAAAAAAAAAAAAAAAAAAAAAAAAAAAAAAAAAAAAAAAAAAAAAAAAAAAAAAAAAAAAAAAAAAAAAAAAAAAAAAAAAAAAAAAAAAAAAAAAAAAAAAAAAAAAAAAAAAAAAAAAAAAAAAAAAAAAAAAAAAAAAAAAAAAAAAAAAAAAAAAAAAAAAAAAAAAAAAAAAAAAAAAAAAAAAAAAAAAAAAAAAAAAAAAAAAAAAAAAAAAAAAAAAAAAAAAAAAAAAAAAAAAAAAAAAAAAAAAAAAAAAAAAAAAAAAAAAAAAAAAAAAAAAAAAAAAAAAAAAAAAAAAAAAAAAAAAAAAAAAAAAAAAAAAAAAAAAAAAAAAAAAAAAAAAAAAAAAAAAAAAAAAAAAAAAAAAAAAAAAAAAAAAAAAAAAAAAAAAAAAAAAAAAAAAAAAAAAAAAAAAAAAAAAAAAAAAAAAAAAAAAAAAAAAAAAAAAAAAAAAAAAAAAAAAAAAAAAAAAAAAAAAAAAAAAAAAAAAAAAAAAAAAAAAAAAAAAAAAAAAAAAAAAAAAAAAAAAAAAAAAAAAAAAAAAAAAAAAAAAAAAAAAAAAAAAAAAAAAAAAAAAAAAAAAAAAAAAAAAAAAAAAAAAAAAAAAAAAAAAAAAAAAAAAAAAAAAAAAAAAAAAAAAAAAAAAAAAAAAAAAAAAAAAAAAAAAAAAAAAAAAAAAAAAAAAAAAAAAAAAAAAAAAAAAAAAAAAAAAAAAAAAAAAAAAAAAAAAAAAAAAAAAAAAAAAAAAAAAAAAAAAAAAAAAAAAAAAAAAAAAAAAAAAAAAAAAAAAAAAAAAAAAAAAAAAAAAAAAAAAAAAAAAAAAAAAAAAAAAAAAAAAAAAAAAAAAAAAAAAAAAAAAAAAAAAAAAAAAAAAAAAAAAAAAAAAAAAAAAAAAAAAAAAAAAAAAAAAAAAAAAAAAAAAAAAAAAAAAAAAAAAAAAAAAAAAAAAAAAAAAAAAAAAAAAAAAAAAAAAAAAAAAAAAAAAAAAAAAAAAAAAAAAAAAAAAAAAAAAAAAAAAAAAAAAAAAAAAAAAAAAAAAAAAAAAAAAAAAAAAAAAAAAAAAAAAAAAAAAAAAAAAAAAAAAAAAAAAAAAAAAAAAAAAAAAAAAAAAAAAAAAAAAAAAAAAAAAAAAAAAAAAAAAAAAAAAAAAAAAAAAAAAAAAAAAAAAAAAAAAAAAAAAAAAAAAAAAAAAAAAAAAAAAAAAAAAAAAAAAAAAAAAAAAAAAAAAAAAAAAAAAAAAAAAAAAAAAAAAAAAAAAAAAAAAAAAAAAAAAAAAAAAAAAAAAAAAAAAAAAAAAAAAAAAAAAAAAAAAAAAAAAAAAAAAAAAAAAAAAAAAAAAAAAAAAAAAAAAAAAAAAAAAAAAAAAAAAAAAAAAAAAAAAAAAAAAAAAAAAAAAAAAAAAAAAAAAAAAAAAAAAAAAAAAAAAAAAAAAAAAAAAAAAAAAAAAAAAAAAAAAAAAAAAAAAAAAAAAAAAAAAAAAAAAAAAAAAAAAAAAAAAAAAAAAAAAAAAAAAAAAAAAAAAAAAAAAAAAAAAAAAAAAAAAAAAAAAAAAAAAAAAAAAAAAAAAAAAAAAAAAAAAAAAAAAAAAAAAAAAAAAAAAAAAAAAAAAAAAAAAAAAAAAAAAAAAAAAAAAAAAAAAAAAAAAAAAAAAAAAAAAAAAAAAAAAAAAAAAAAAAAAAAAAAAAAAAAAAAAAAAAAAAAAAAAAAAAAAAAAAAAAAAAAAAAAAAAAAAAAAAAAAAAAAAAAAAAAAAAAAAAAAAAAAAAAAAAAAAAAAAAAAAAAAAAAAAAAAAAAAAAAAAAAAAAAAAAAAAAAAAAAAAAAAAAAAAAAAAAAAAAAAAAAAAAAAAAAAAAAAAAAAAAAAAAAA==",
          "dtype": "f8"
         },
         "yaxis": "y2"
        }
       ],
       "layout": {
        "height": 400,
        "showlegend": false,
        "template": {
         "data": {
          "bar": [
           {
            "error_x": {
             "color": "#2a3f5f"
            },
            "error_y": {
             "color": "#2a3f5f"
            },
            "marker": {
             "line": {
              "color": "#E5ECF6",
              "width": 0.5
             },
             "pattern": {
              "fillmode": "overlay",
              "size": 10,
              "solidity": 0.2
             }
            },
            "type": "bar"
           }
          ],
          "barpolar": [
           {
            "marker": {
             "line": {
              "color": "#E5ECF6",
              "width": 0.5
             },
             "pattern": {
              "fillmode": "overlay",
              "size": 10,
              "solidity": 0.2
             }
            },
            "type": "barpolar"
           }
          ],
          "carpet": [
           {
            "aaxis": {
             "endlinecolor": "#2a3f5f",
             "gridcolor": "white",
             "linecolor": "white",
             "minorgridcolor": "white",
             "startlinecolor": "#2a3f5f"
            },
            "baxis": {
             "endlinecolor": "#2a3f5f",
             "gridcolor": "white",
             "linecolor": "white",
             "minorgridcolor": "white",
             "startlinecolor": "#2a3f5f"
            },
            "type": "carpet"
           }
          ],
          "choropleth": [
           {
            "colorbar": {
             "outlinewidth": 0,
             "ticks": ""
            },
            "type": "choropleth"
           }
          ],
          "contour": [
           {
            "colorbar": {
             "outlinewidth": 0,
             "ticks": ""
            },
            "colorscale": [
             [
              0,
              "#0d0887"
             ],
             [
              0.1111111111111111,
              "#46039f"
             ],
             [
              0.2222222222222222,
              "#7201a8"
             ],
             [
              0.3333333333333333,
              "#9c179e"
             ],
             [
              0.4444444444444444,
              "#bd3786"
             ],
             [
              0.5555555555555556,
              "#d8576b"
             ],
             [
              0.6666666666666666,
              "#ed7953"
             ],
             [
              0.7777777777777778,
              "#fb9f3a"
             ],
             [
              0.8888888888888888,
              "#fdca26"
             ],
             [
              1,
              "#f0f921"
             ]
            ],
            "type": "contour"
           }
          ],
          "contourcarpet": [
           {
            "colorbar": {
             "outlinewidth": 0,
             "ticks": ""
            },
            "type": "contourcarpet"
           }
          ],
          "heatmap": [
           {
            "colorbar": {
             "outlinewidth": 0,
             "ticks": ""
            },
            "colorscale": [
             [
              0,
              "#0d0887"
             ],
             [
              0.1111111111111111,
              "#46039f"
             ],
             [
              0.2222222222222222,
              "#7201a8"
             ],
             [
              0.3333333333333333,
              "#9c179e"
             ],
             [
              0.4444444444444444,
              "#bd3786"
             ],
             [
              0.5555555555555556,
              "#d8576b"
             ],
             [
              0.6666666666666666,
              "#ed7953"
             ],
             [
              0.7777777777777778,
              "#fb9f3a"
             ],
             [
              0.8888888888888888,
              "#fdca26"
             ],
             [
              1,
              "#f0f921"
             ]
            ],
            "type": "heatmap"
           }
          ],
          "histogram": [
           {
            "marker": {
             "pattern": {
              "fillmode": "overlay",
              "size": 10,
              "solidity": 0.2
             }
            },
            "type": "histogram"
           }
          ],
          "histogram2d": [
           {
            "colorbar": {
             "outlinewidth": 0,
             "ticks": ""
            },
            "colorscale": [
             [
              0,
              "#0d0887"
             ],
             [
              0.1111111111111111,
              "#46039f"
             ],
             [
              0.2222222222222222,
              "#7201a8"
             ],
             [
              0.3333333333333333,
              "#9c179e"
             ],
             [
              0.4444444444444444,
              "#bd3786"
             ],
             [
              0.5555555555555556,
              "#d8576b"
             ],
             [
              0.6666666666666666,
              "#ed7953"
             ],
             [
              0.7777777777777778,
              "#fb9f3a"
             ],
             [
              0.8888888888888888,
              "#fdca26"
             ],
             [
              1,
              "#f0f921"
             ]
            ],
            "type": "histogram2d"
           }
          ],
          "histogram2dcontour": [
           {
            "colorbar": {
             "outlinewidth": 0,
             "ticks": ""
            },
            "colorscale": [
             [
              0,
              "#0d0887"
             ],
             [
              0.1111111111111111,
              "#46039f"
             ],
             [
              0.2222222222222222,
              "#7201a8"
             ],
             [
              0.3333333333333333,
              "#9c179e"
             ],
             [
              0.4444444444444444,
              "#bd3786"
             ],
             [
              0.5555555555555556,
              "#d8576b"
             ],
             [
              0.6666666666666666,
              "#ed7953"
             ],
             [
              0.7777777777777778,
              "#fb9f3a"
             ],
             [
              0.8888888888888888,
              "#fdca26"
             ],
             [
              1,
              "#f0f921"
             ]
            ],
            "type": "histogram2dcontour"
           }
          ],
          "mesh3d": [
           {
            "colorbar": {
             "outlinewidth": 0,
             "ticks": ""
            },
            "type": "mesh3d"
           }
          ],
          "parcoords": [
           {
            "line": {
             "colorbar": {
              "outlinewidth": 0,
              "ticks": ""
             }
            },
            "type": "parcoords"
           }
          ],
          "pie": [
           {
            "automargin": true,
            "type": "pie"
           }
          ],
          "scatter": [
           {
            "fillpattern": {
             "fillmode": "overlay",
             "size": 10,
             "solidity": 0.2
            },
            "type": "scatter"
           }
          ],
          "scatter3d": [
           {
            "line": {
             "colorbar": {
              "outlinewidth": 0,
              "ticks": ""
             }
            },
            "marker": {
             "colorbar": {
              "outlinewidth": 0,
              "ticks": ""
             }
            },
            "type": "scatter3d"
           }
          ],
          "scattercarpet": [
           {
            "marker": {
             "colorbar": {
              "outlinewidth": 0,
              "ticks": ""
             }
            },
            "type": "scattercarpet"
           }
          ],
          "scattergeo": [
           {
            "marker": {
             "colorbar": {
              "outlinewidth": 0,
              "ticks": ""
             }
            },
            "type": "scattergeo"
           }
          ],
          "scattergl": [
           {
            "marker": {
             "colorbar": {
              "outlinewidth": 0,
              "ticks": ""
             }
            },
            "type": "scattergl"
           }
          ],
          "scattermap": [
           {
            "marker": {
             "colorbar": {
              "outlinewidth": 0,
              "ticks": ""
             }
            },
            "type": "scattermap"
           }
          ],
          "scattermapbox": [
           {
            "marker": {
             "colorbar": {
              "outlinewidth": 0,
              "ticks": ""
             }
            },
            "type": "scattermapbox"
           }
          ],
          "scatterpolar": [
           {
            "marker": {
             "colorbar": {
              "outlinewidth": 0,
              "ticks": ""
             }
            },
            "type": "scatterpolar"
           }
          ],
          "scatterpolargl": [
           {
            "marker": {
             "colorbar": {
              "outlinewidth": 0,
              "ticks": ""
             }
            },
            "type": "scatterpolargl"
           }
          ],
          "scatterternary": [
           {
            "marker": {
             "colorbar": {
              "outlinewidth": 0,
              "ticks": ""
             }
            },
            "type": "scatterternary"
           }
          ],
          "surface": [
           {
            "colorbar": {
             "outlinewidth": 0,
             "ticks": ""
            },
            "colorscale": [
             [
              0,
              "#0d0887"
             ],
             [
              0.1111111111111111,
              "#46039f"
             ],
             [
              0.2222222222222222,
              "#7201a8"
             ],
             [
              0.3333333333333333,
              "#9c179e"
             ],
             [
              0.4444444444444444,
              "#bd3786"
             ],
             [
              0.5555555555555556,
              "#d8576b"
             ],
             [
              0.6666666666666666,
              "#ed7953"
             ],
             [
              0.7777777777777778,
              "#fb9f3a"
             ],
             [
              0.8888888888888888,
              "#fdca26"
             ],
             [
              1,
              "#f0f921"
             ]
            ],
            "type": "surface"
           }
          ],
          "table": [
           {
            "cells": {
             "fill": {
              "color": "#EBF0F8"
             },
             "line": {
              "color": "white"
             }
            },
            "header": {
             "fill": {
              "color": "#C8D4E3"
             },
             "line": {
              "color": "white"
             }
            },
            "type": "table"
           }
          ]
         },
         "layout": {
          "annotationdefaults": {
           "arrowcolor": "#2a3f5f",
           "arrowhead": 0,
           "arrowwidth": 1
          },
          "autotypenumbers": "strict",
          "coloraxis": {
           "colorbar": {
            "outlinewidth": 0,
            "ticks": ""
           }
          },
          "colorscale": {
           "diverging": [
            [
             0,
             "#8e0152"
            ],
            [
             0.1,
             "#c51b7d"
            ],
            [
             0.2,
             "#de77ae"
            ],
            [
             0.3,
             "#f1b6da"
            ],
            [
             0.4,
             "#fde0ef"
            ],
            [
             0.5,
             "#f7f7f7"
            ],
            [
             0.6,
             "#e6f5d0"
            ],
            [
             0.7,
             "#b8e186"
            ],
            [
             0.8,
             "#7fbc41"
            ],
            [
             0.9,
             "#4d9221"
            ],
            [
             1,
             "#276419"
            ]
           ],
           "sequential": [
            [
             0,
             "#0d0887"
            ],
            [
             0.1111111111111111,
             "#46039f"
            ],
            [
             0.2222222222222222,
             "#7201a8"
            ],
            [
             0.3333333333333333,
             "#9c179e"
            ],
            [
             0.4444444444444444,
             "#bd3786"
            ],
            [
             0.5555555555555556,
             "#d8576b"
            ],
            [
             0.6666666666666666,
             "#ed7953"
            ],
            [
             0.7777777777777778,
             "#fb9f3a"
            ],
            [
             0.8888888888888888,
             "#fdca26"
            ],
            [
             1,
             "#f0f921"
            ]
           ],
           "sequentialminus": [
            [
             0,
             "#0d0887"
            ],
            [
             0.1111111111111111,
             "#46039f"
            ],
            [
             0.2222222222222222,
             "#7201a8"
            ],
            [
             0.3333333333333333,
             "#9c179e"
            ],
            [
             0.4444444444444444,
             "#bd3786"
            ],
            [
             0.5555555555555556,
             "#d8576b"
            ],
            [
             0.6666666666666666,
             "#ed7953"
            ],
            [
             0.7777777777777778,
             "#fb9f3a"
            ],
            [
             0.8888888888888888,
             "#fdca26"
            ],
            [
             1,
             "#f0f921"
            ]
           ]
          },
          "colorway": [
           "#636efa",
           "#EF553B",
           "#00cc96",
           "#ab63fa",
           "#FFA15A",
           "#19d3f3",
           "#FF6692",
           "#B6E880",
           "#FF97FF",
           "#FECB52"
          ],
          "font": {
           "color": "#2a3f5f"
          },
          "geo": {
           "bgcolor": "white",
           "lakecolor": "white",
           "landcolor": "#E5ECF6",
           "showlakes": true,
           "showland": true,
           "subunitcolor": "white"
          },
          "hoverlabel": {
           "align": "left"
          },
          "hovermode": "closest",
          "mapbox": {
           "style": "light"
          },
          "paper_bgcolor": "white",
          "plot_bgcolor": "#E5ECF6",
          "polar": {
           "angularaxis": {
            "gridcolor": "white",
            "linecolor": "white",
            "ticks": ""
           },
           "bgcolor": "#E5ECF6",
           "radialaxis": {
            "gridcolor": "white",
            "linecolor": "white",
            "ticks": ""
           }
          },
          "scene": {
           "xaxis": {
            "backgroundcolor": "#E5ECF6",
            "gridcolor": "white",
            "gridwidth": 2,
            "linecolor": "white",
            "showbackground": true,
            "ticks": "",
            "zerolinecolor": "white"
           },
           "yaxis": {
            "backgroundcolor": "#E5ECF6",
            "gridcolor": "white",
            "gridwidth": 2,
            "linecolor": "white",
            "showbackground": true,
            "ticks": "",
            "zerolinecolor": "white"
           },
           "zaxis": {
            "backgroundcolor": "#E5ECF6",
            "gridcolor": "white",
            "gridwidth": 2,
            "linecolor": "white",
            "showbackground": true,
            "ticks": "",
            "zerolinecolor": "white"
           }
          },
          "shapedefaults": {
           "line": {
            "color": "#2a3f5f"
           }
          },
          "ternary": {
           "aaxis": {
            "gridcolor": "white",
            "linecolor": "white",
            "ticks": ""
           },
           "baxis": {
            "gridcolor": "white",
            "linecolor": "white",
            "ticks": ""
           },
           "bgcolor": "#E5ECF6",
           "caxis": {
            "gridcolor": "white",
            "linecolor": "white",
            "ticks": ""
           }
          },
          "title": {
           "x": 0.05
          },
          "xaxis": {
           "automargin": true,
           "gridcolor": "white",
           "linecolor": "white",
           "ticks": "",
           "title": {
            "standoff": 15
           },
           "zerolinecolor": "white",
           "zerolinewidth": 2
          },
          "yaxis": {
           "automargin": true,
           "gridcolor": "white",
           "linecolor": "white",
           "ticks": "",
           "title": {
            "standoff": 15
           },
           "zerolinecolor": "white",
           "zerolinewidth": 2
          }
         }
        },
        "width": 900,
        "xaxis": {
         "anchor": "y",
         "domain": [
          0,
          1
         ],
         "range": [
          "2013-01-03T04:48:00",
          "2018-03-27T19:12:00"
         ],
         "type": "date"
        },
        "xaxis2": {
         "anchor": "y2",
         "domain": [
          0,
          1
         ],
         "range": [
          "2016-12-13T18:54:02.958904",
          "2018-01-18T11:04:57.863013"
         ],
         "tickformat": "%B %e",
         "type": "date"
        },
        "yaxis": {
         "anchor": "x",
         "autorange": true,
         "domain": [
          0.575,
          1
         ],
         "range": [
          41128.26979446288,
          41128.27020966758
         ],
         "rangemode": "normal",
         "title": {
          "text": "trend"
         },
         "type": "linear",
         "zerolinecolor": "#AAA"
        },
        "yaxis2": {
         "anchor": "x2",
         "autorange": true,
         "domain": [
          0,
          0.425
         ],
         "range": [
          -1,
          1
         ],
         "title": {
          "text": "yearly"
         },
         "type": "linear",
         "zerolinecolor": "#AAA"
        }
       }
      },
      "image/png": "[encoded data removed]"
     },
     "metadata": {},
     "output_type": "display_data"
    },
    {
     "name": "stderr",
     "output_type": "stream",
     "text": [
      "04:52:45 - cmdstanpy - INFO - Chain [1] start processing\n"
     ]
    },
    {
     "name": "stdout",
     "output_type": "stream",
     "text": [
      "Generating Prophet components for IT/IS...\n"
     ]
    },
    {
     "name": "stderr",
     "output_type": "stream",
     "text": [
      "04:52:49 - cmdstanpy - INFO - Chain [1] done processing\n"
     ]
    },
    {
     "name": "stdout",
     "output_type": "stream",
     "text": [
      "Saved components for IT/IS: prophet_components_it_is.png\n"
     ]
    },
    {
     "data": {
      "application/vnd.plotly.v1+json": {
       "config": {
        "plotlyServerURL": "https://plot.ly"
       },
       "data": [
        {
         "line": {
          "color": "#0072B2",
          "width": 2
         },
         "mode": "lines",
         "name": "trend",
         "type": "scatter",
         "x": [
          "2013-03-31T00:00:00.000000000",
          "2013-06-30T00:00:00.000000000",
          "2013-09-30T00:00:00.000000000",
          "2013-12-31T00:00:00.000000000",
          "2014-03-31T00:00:00.000000000",
          "2014-06-30T00:00:00.000000000",
          "2014-09-30T00:00:00.000000000",
          "2014-12-31T00:00:00.000000000",
          "2015-03-31T00:00:00.000000000",
          "2015-06-30T00:00:00.000000000",
          "2015-09-30T00:00:00.000000000",
          "2015-12-31T00:00:00.000000000",
          "2016-03-31T00:00:00.000000000",
          "2016-06-30T00:00:00.000000000",
          "2016-09-30T00:00:00.000000000",
          "2016-12-31T00:00:00.000000000",
          "2017-03-31T00:00:00.000000000",
          "2017-06-30T00:00:00.000000000",
          "2017-09-30T00:00:00.000000000",
          "2017-12-31T00:00:00.000000000"
         ],
         "xaxis": "x",
         "y": {
          "_inputArray": {
           "0": -137330.95450769996,
           "1": -136802.9076761409,
           "10": -142483.30756248857,
           "11": -147455.66006302796,
           "12": -143017.57762471226,
           "13": -138579.49518639655,
           "14": -134092.64261139606,
           "15": -129605.79003639559,
           "16": -125216.47773476466,
           "17": -120778.39529644896,
           "18": -116291.54272144848,
           "19": -111804.690146448,
           "2": -135792.0912109198,
           "3": -135348.5150856787,
           "4": -134512.90011233542,
           "5": -132562.4690183433,
           "6": -130026.49043740123,
           "7": -127854.72843510982,
           "8": -130970.94674079804,
           "9": -136890.7345069592,
           "bdata": "2e7UopfDAMFktetCF7MAwW3KzLqAkwDBhT3lHqSFAMGbGG4zh2sAwW6wjMCTLgDBcOPU2Ke+/8Dfkqun6zb/wNat2SWv+f/ARC9F4NW1AMFvUuN1mmQBwfMfz0f9/wHBhLT5nkx1AcEVSST2m+oAwZFxESRlXgDBGzT9o1yk/8BmNc2kB5L+wIheIlOmfP3Aga/8rjhk/MB6ANcKy0v7wA==",
           "dtype": "f8",
           "shape": "20"
          },
          "bdata": "2e7UopfDAMFktetCF7MAwW3KzLqAkwDBhT3lHqSFAMGbGG4zh2sAwW6wjMCTLgDBcOPU2Ke+/8Dfkqun6zb/wNat2SWv+f/ARC9F4NW1AMFvUuN1mmQBwfMfz0f9/wHBhLT5nkx1AcEVSST2m+oAwZFxESRlXgDBGzT9o1yk/8BmNc2kB5L+wIheIlOmfP3Aga/8rjhk/MB6ANcKy0v7wA==",
          "dtype": "f8"
         },
         "yaxis": "y"
        },
        {
         "line": {
          "color": "rgba(0, 114, 178, 0.2)",
          "width": 0
         },
         "mode": "lines",
         "name": "trend_upper",
         "type": "scatter",
         "x": [
          "2013-03-31T00:00:00.000000000",
          "2013-06-30T00:00:00.000000000",
          "2013-09-30T00:00:00.000000000",
          "2013-12-31T00:00:00.000000000",
          "2014-03-31T00:00:00.000000000",
          "2014-06-30T00:00:00.000000000",
          "2014-09-30T00:00:00.000000000",
          "2014-12-31T00:00:00.000000000",
          "2015-03-31T00:00:00.000000000",
          "2015-06-30T00:00:00.000000000",
          "2015-09-30T00:00:00.000000000",
          "2015-12-31T00:00:00.000000000",
          "2016-03-31T00:00:00.000000000",
          "2016-06-30T00:00:00.000000000",
          "2016-09-30T00:00:00.000000000",
          "2016-12-31T00:00:00.000000000",
          "2017-03-31T00:00:00.000000000",
          "2017-06-30T00:00:00.000000000",
          "2017-09-30T00:00:00.000000000",
          "2017-12-31T00:00:00.000000000"
         ],
         "xaxis": "x",
         "y": {
          "_inputArray": {
           "0": -137330.95450769996,
           "1": -136802.9076761409,
           "10": -142483.30756248857,
           "11": -147455.66006302796,
           "12": -143017.57762471226,
           "13": -138579.49518639655,
           "14": -134092.64261139606,
           "15": -129605.79003639559,
           "16": -123910.81776409829,
           "17": -116443.59863808854,
           "18": -108043.42743404076,
           "19": -99105.93330282433,
           "2": -135792.0912109198,
           "3": -135348.5150856787,
           "4": -134512.90011233542,
           "5": -132562.4690183433,
           "6": -130026.49043740123,
           "7": -127854.72843510982,
           "8": -130970.94674079804,
           "9": -136890.7345069592,
           "bdata": "2e7UopfDAMFktetCF7MAwW3KzLqAkwDBhT3lHqSFAMGbGG4zh2sAwW6wjMCTLgDBcOPU2Ke+/8Dfkqun6zb/wNat2SWv+f/ARC9F4NW1AMFvUuN1mmQBwfMfz0f9/wHBhLT5nkx1AcEVSST2m+oAwZFxESRlXgDBGzT9o1yk/8Cgzo8VbUD+wEeIBZS5bfzApBPF1rZg+sA88c7uHjL4wA==",
           "dtype": "f8",
           "shape": "20"
          },
          "bdata": "2e7UopfDAMFktetCF7MAwW3KzLqAkwDBhT3lHqSFAMGbGG4zh2sAwW6wjMCTLgDBcOPU2Ke+/8Dfkqun6zb/wNat2SWv+f/ARC9F4NW1AMFvUuN1mmQBwfMfz0f9/wHBhLT5nkx1AcEVSST2m+oAwZFxESRlXgDBGzT9o1yk/8Cgzo8VbUD+wEeIBZS5bfzApBPF1rZg+sA88c7uHjL4wA==",
          "dtype": "f8"
         },
         "yaxis": "y"
        },
        {
         "fill": "tonexty",
         "fillcolor": "rgba(0, 114, 178, 0.2)",
         "line": {
          "color": "rgba(0, 114, 178, 0.2)",
          "width": 0
         },
         "mode": "lines",
         "name": "trend_lower",
         "type": "scatter",
         "x": [
          "2013-03-31T00:00:00.000000000",
          "2013-06-30T00:00:00.000000000",
          "2013-09-30T00:00:00.000000000",
          "2013-12-31T00:00:00.000000000",
          "2014-03-31T00:00:00.000000000",
          "2014-06-30T00:00:00.000000000",
          "2014-09-30T00:00:00.000000000",
          "2014-12-31T00:00:00.000000000",
          "2015-03-31T00:00:00.000000000",
          "2015-06-30T00:00:00.000000000",
          "2015-09-30T00:00:00.000000000",
          "2015-12-31T00:00:00.000000000",
          "2016-03-31T00:00:00.000000000",
          "2016-06-30T00:00:00.000000000",
          "2016-09-30T00:00:00.000000000",
          "2016-12-31T00:00:00.000000000",
          "2017-03-31T00:00:00.000000000",
          "2017-06-30T00:00:00.000000000",
          "2017-09-30T00:00:00.000000000",
          "2017-12-31T00:00:00.000000000"
         ],
         "xaxis": "x",
         "y": {
          "_inputArray": {
           "0": -137330.95450769996,
           "1": -136802.9076761409,
           "10": -142483.30756248857,
           "11": -147455.66006302796,
           "12": -143017.57762471226,
           "13": -138579.49518639655,
           "14": -134092.64261139606,
           "15": -129605.79003639559,
           "16": -126517.28401445037,
           "17": -125117.9521750156,
           "18": -124841.7858622012,
           "19": -125999.34296720443,
           "2": -135792.0912109198,
           "3": -135348.5150856787,
           "4": -134512.90011233542,
           "5": -132562.4690183433,
           "6": -130026.49043740123,
           "7": -127854.72843510982,
           "8": -130970.94674079804,
           "9": -136890.7345069592,
           "bdata": "2e7UopfDAMFktetCF7MAwW3KzLqAkwDBhT3lHqSFAMGbGG4zh2sAwW6wjMCTLgDBcOPU2Ke+/8Dfkqun6zb/wNat2SWv+f/ARC9F4NW1AMFvUuN1mmQBwfMfz0f9/wHBhLT5nkx1AcEVSST2m+oAwZFxESRlXgDBGzT9o1yk/8B/vFKLVOP+wIHeGzzfi/7AVT7kkpx6/sDqLct89cL+wA==",
           "dtype": "f8",
           "shape": "20"
          },
          "bdata": "2e7UopfDAMFktetCF7MAwW3KzLqAkwDBhT3lHqSFAMGbGG4zh2sAwW6wjMCTLgDBcOPU2Ke+/8Dfkqun6zb/wNat2SWv+f/ARC9F4NW1AMFvUuN1mmQBwfMfz0f9/wHBhLT5nkx1AcEVSST2m+oAwZFxESRlXgDBGzT9o1yk/8B/vFKLVOP+wIHeGzzfi/7AVT7kkpx6/sDqLct89cL+wA==",
          "dtype": "f8"
         },
         "yaxis": "y"
        },
        {
         "line": {
          "color": "#0072B2",
          "width": 2
         },
         "mode": "lines",
         "name": "yearly",
         "type": "scatter",
         "x": [
          "2017-01-01T00:00:00.000000000",
          "2017-01-02T00:00:59.178082304",
          "2017-01-03T00:01:58.356164352",
          "2017-01-04T00:02:57.534246656",
          "2017-01-05T00:03:56.712328704",
          "2017-01-06T00:04:55.890411008",
          "2017-01-07T00:05:55.068493056",
          "2017-01-08T00:06:54.246575360",
          "2017-01-09T00:07:53.424657408",
          "2017-01-10T00:08:52.602739712",
          "2017-01-11T00:09:51.780822016",
          "2017-01-12T00:10:50.958904064",
          "2017-01-13T00:11:50.136986368",
          "2017-01-14T00:12:49.315068416",
          "2017-01-15T00:13:48.493150720",
          "2017-01-16T00:14:47.671232768",
          "2017-01-17T00:15:46.849315072",
          "2017-01-18T00:16:46.027397376",
          "2017-01-19T00:17:45.205479424",
          "2017-01-20T00:18:44.383561728",
          "2017-01-21T00:19:43.561643776",
          "2017-01-22T00:20:42.739726080",
          "2017-01-23T00:21:41.917808128",
          "2017-01-24T00:22:41.095890432",
          "2017-01-25T00:23:40.273972480",
          "2017-01-26T00:24:39.452054784",
          "2017-01-27T00:25:38.630137088",
          "2017-01-28T00:26:37.808219136",
          "2017-01-29T00:27:36.986301440",
          "2017-01-30T00:28:36.164383488",
          "2017-01-31T00:29:35.342465792",
          "2017-02-01T00:30:34.520547840",
          "2017-02-02T00:31:33.698630144",
          "2017-02-03T00:32:32.876712448",
          "2017-02-04T00:33:32.054794496",
          "2017-02-05T00:34:31.232876800",
          "2017-02-06T00:35:30.410958848",
          "2017-02-07T00:36:29.589041152",
          "2017-02-08T00:37:28.767123200",
          "2017-02-09T00:38:27.945205504",
          "2017-02-10T00:39:27.123287552",
          "2017-02-11T00:40:26.301369856",
          "2017-02-12T00:41:25.479452160",
          "2017-02-13T00:42:24.657534208",
          "2017-02-14T00:43:23.835616512",
          "2017-02-15T00:44:23.013698560",
          "2017-02-16T00:45:22.191780864",
          "2017-02-17T00:46:21.369862912",
          "2017-02-18T00:47:20.547945216",
          "2017-02-19T00:48:19.726027520",
          "2017-02-20T00:49:18.904109568",
          "2017-02-21T00:50:18.082191872",
          "2017-02-22T00:51:17.260273920",
          "2017-02-23T00:52:16.438356224",
          "2017-02-24T00:53:15.616438272",
          "2017-02-25T00:54:14.794520576",
          "2017-02-26T00:55:13.972602624",
          "2017-02-27T00:56:13.150684928",
          "2017-02-28T00:57:12.328767232",
          "2017-03-01T00:58:11.506849280",
          "2017-03-02T00:59:10.684931584",
          "2017-03-03T01:00:09.863013632",
          "2017-03-04T01:01:09.041095936",
          "2017-03-05T01:02:08.219177984",
          "2017-03-06T01:03:07.397260288",
          "2017-03-07T01:04:06.575342592",
          "2017-03-08T01:05:05.753424640",
          "2017-03-09T01:06:04.931506944",
          "2017-03-10T01:07:04.109588992",
          "2017-03-11T01:08:03.287671296",
          "2017-03-12T01:09:02.465753344",
          "2017-03-13T01:10:01.643835648",
          "2017-03-14T01:11:00.821917696",
          "2017-03-15T01:12:00.000000000",
          "2017-03-16T01:12:59.178082304",
          "2017-03-17T01:13:58.356164352",
          "2017-03-18T01:14:57.534246656",
          "2017-03-19T01:15:56.712328704",
          "2017-03-20T01:16:55.890411008",
          "2017-03-21T01:17:55.068493056",
          "2017-03-22T01:18:54.246575360",
          "2017-03-23T01:19:53.424657408",
          "2017-03-24T01:20:52.602739712",
          "2017-03-25T01:21:51.780822016",
          "2017-03-26T01:22:50.958904064",
          "2017-03-27T01:23:50.136986368",
          "2017-03-28T01:24:49.315068416",
          "2017-03-29T01:25:48.493150720",
          "2017-03-30T01:26:47.671232768",
          "2017-03-31T01:27:46.849315072",
          "2017-04-01T01:28:46.027397376",
          "2017-04-02T01:29:45.205479424",
          "2017-04-03T01:30:44.383561728",
          "2017-04-04T01:31:43.561643776",
          "2017-04-05T01:32:42.739726080",
          "2017-04-06T01:33:41.917808128",
          "2017-04-07T01:34:41.095890432",
          "2017-04-08T01:35:40.273972480",
          "2017-04-09T01:36:39.452054784",
          "2017-04-10T01:37:38.630137088",
          "2017-04-11T01:38:37.808219136",
          "2017-04-12T01:39:36.986301440",
          "2017-04-13T01:40:36.164383488",
          "2017-04-14T01:41:35.342465792",
          "2017-04-15T01:42:34.520547840",
          "2017-04-16T01:43:33.698630144",
          "2017-04-17T01:44:32.876712448",
          "2017-04-18T01:45:32.054794496",
          "2017-04-19T01:46:31.232876800",
          "2017-04-20T01:47:30.410958848",
          "2017-04-21T01:48:29.589041152",
          "2017-04-22T01:49:28.767123200",
          "2017-04-23T01:50:27.945205504",
          "2017-04-24T01:51:27.123287552",
          "2017-04-25T01:52:26.301369856",
          "2017-04-26T01:53:25.479452160",
          "2017-04-27T01:54:24.657534208",
          "2017-04-28T01:55:23.835616512",
          "2017-04-29T01:56:23.013698560",
          "2017-04-30T01:57:22.191780864",
          "2017-05-01T01:58:21.369862912",
          "2017-05-02T01:59:20.547945216",
          "2017-05-03T02:00:19.726027520",
          "2017-05-04T02:01:18.904109568",
          "2017-05-05T02:02:18.082191872",
          "2017-05-06T02:03:17.260273920",
          "2017-05-07T02:04:16.438356224",
          "2017-05-08T02:05:15.616438272",
          "2017-05-09T02:06:14.794520576",
          "2017-05-10T02:07:13.972602624",
          "2017-05-11T02:08:13.150684928",
          "2017-05-12T02:09:12.328767232",
          "2017-05-13T02:10:11.506849280",
          "2017-05-14T02:11:10.684931584",
          "2017-05-15T02:12:09.863013632",
          "2017-05-16T02:13:09.041095936",
          "2017-05-17T02:14:08.219177984",
          "2017-05-18T02:15:07.397260288",
          "2017-05-19T02:16:06.575342592",
          "2017-05-20T02:17:05.753424640",
          "2017-05-21T02:18:04.931506944",
          "2017-05-22T02:19:04.109588992",
          "2017-05-23T02:20:03.287671296",
          "2017-05-24T02:21:02.465753344",
          "2017-05-25T02:22:01.643835648",
          "2017-05-26T02:23:00.821917696",
          "2017-05-27T02:24:00.000000000",
          "2017-05-28T02:24:59.178082304",
          "2017-05-29T02:25:58.356164352",
          "2017-05-30T02:26:57.534246656",
          "2017-05-31T02:27:56.712328704",
          "2017-06-01T02:28:55.890411008",
          "2017-06-02T02:29:55.068493056",
          "2017-06-03T02:30:54.246575360",
          "2017-06-04T02:31:53.424657408",
          "2017-06-05T02:32:52.602739712",
          "2017-06-06T02:33:51.780822016",
          "2017-06-07T02:34:50.958904064",
          "2017-06-08T02:35:50.136986368",
          "2017-06-09T02:36:49.315068416",
          "2017-06-10T02:37:48.493150720",
          "2017-06-11T02:38:47.671232768",
          "2017-06-12T02:39:46.849315072",
          "2017-06-13T02:40:46.027397376",
          "2017-06-14T02:41:45.205479424",
          "2017-06-15T02:42:44.383561728",
          "2017-06-16T02:43:43.561643776",
          "2017-06-17T02:44:42.739726080",
          "2017-06-18T02:45:41.917808128",
          "2017-06-19T02:46:41.095890432",
          "2017-06-20T02:47:40.273972480",
          "2017-06-21T02:48:39.452054784",
          "2017-06-22T02:49:38.630137088",
          "2017-06-23T02:50:37.808219136",
          "2017-06-24T02:51:36.986301440",
          "2017-06-25T02:52:36.164383488",
          "2017-06-26T02:53:35.342465792",
          "2017-06-27T02:54:34.520547840",
          "2017-06-28T02:55:33.698630144",
          "2017-06-29T02:56:32.876712448",
          "2017-06-30T02:57:32.054794496",
          "2017-07-01T02:58:31.232876800",
          "2017-07-02T02:59:30.410958848",
          "2017-07-03T03:00:29.589041152",
          "2017-07-04T03:01:28.767123200",
          "2017-07-05T03:02:27.945205504",
          "2017-07-06T03:03:27.123287552",
          "2017-07-07T03:04:26.301369856",
          "2017-07-08T03:05:25.479452160",
          "2017-07-09T03:06:24.657534208",
          "2017-07-10T03:07:23.835616512",
          "2017-07-11T03:08:23.013698560",
          "2017-07-12T03:09:22.191780864",
          "2017-07-13T03:10:21.369862912",
          "2017-07-14T03:11:20.547945216",
          "2017-07-15T03:12:19.726027520",
          "2017-07-16T03:13:18.904109568",
          "2017-07-17T03:14:18.082191872",
          "2017-07-18T03:15:17.260273920",
          "2017-07-19T03:16:16.438356224",
          "2017-07-20T03:17:15.616438272",
          "2017-07-21T03:18:14.794520576",
          "2017-07-22T03:19:13.972602624",
          "2017-07-23T03:20:13.150684928",
          "2017-07-24T03:21:12.328767232",
          "2017-07-25T03:22:11.506849280",
          "2017-07-26T03:23:10.684931584",
          "2017-07-27T03:24:09.863013632",
          "2017-07-28T03:25:09.041095936",
          "2017-07-29T03:26:08.219177984",
          "2017-07-30T03:27:07.397260288",
          "2017-07-31T03:28:06.575342592",
          "2017-08-01T03:29:05.753424640",
          "2017-08-02T03:30:04.931506944",
          "2017-08-03T03:31:04.109588992",
          "2017-08-04T03:32:03.287671296",
          "2017-08-05T03:33:02.465753344",
          "2017-08-06T03:34:01.643835648",
          "2017-08-07T03:35:00.821917696",
          "2017-08-08T03:36:00.000000000",
          "2017-08-09T03:36:59.178082304",
          "2017-08-10T03:37:58.356164352",
          "2017-08-11T03:38:57.534246656",
          "2017-08-12T03:39:56.712328704",
          "2017-08-13T03:40:55.890411008",
          "2017-08-14T03:41:55.068493056",
          "2017-08-15T03:42:54.246575360",
          "2017-08-16T03:43:53.424657408",
          "2017-08-17T03:44:52.602739712",
          "2017-08-18T03:45:51.780822016",
          "2017-08-19T03:46:50.958904064",
          "2017-08-20T03:47:50.136986368",
          "2017-08-21T03:48:49.315068416",
          "2017-08-22T03:49:48.493150720",
          "2017-08-23T03:50:47.671232768",
          "2017-08-24T03:51:46.849315072",
          "2017-08-25T03:52:46.027397376",
          "2017-08-26T03:53:45.205479424",
          "2017-08-27T03:54:44.383561728",
          "2017-08-28T03:55:43.561643776",
          "2017-08-29T03:56:42.739726080",
          "2017-08-30T03:57:41.917808128",
          "2017-08-31T03:58:41.095890432",
          "2017-09-01T03:59:40.273972480",
          "2017-09-02T04:00:39.452054784",
          "2017-09-03T04:01:38.630137088",
          "2017-09-04T04:02:37.808219136",
          "2017-09-05T04:03:36.986301440",
          "2017-09-06T04:04:36.164383488",
          "2017-09-07T04:05:35.342465792",
          "2017-09-08T04:06:34.520547840",
          "2017-09-09T04:07:33.698630144",
          "2017-09-10T04:08:32.876712448",
          "2017-09-11T04:09:32.054794496",
          "2017-09-12T04:10:31.232876800",
          "2017-09-13T04:11:30.410958848",
          "2017-09-14T04:12:29.589041152",
          "2017-09-15T04:13:28.767123200",
          "2017-09-16T04:14:27.945205504",
          "2017-09-17T04:15:27.123287552",
          "2017-09-18T04:16:26.301369856",
          "2017-09-19T04:17:25.479452160",
          "2017-09-20T04:18:24.657534208",
          "2017-09-21T04:19:23.835616512",
          "2017-09-22T04:20:23.013698560",
          "2017-09-23T04:21:22.191780864",
          "2017-09-24T04:22:21.369862912",
          "2017-09-25T04:23:20.547945216",
          "2017-09-26T04:24:19.726027520",
          "2017-09-27T04:25:18.904109568",
          "2017-09-28T04:26:18.082191872",
          "2017-09-29T04:27:17.260273920",
          "2017-09-30T04:28:16.438356224",
          "2017-10-01T04:29:15.616438272",
          "2017-10-02T04:30:14.794520576",
          "2017-10-03T04:31:13.972602624",
          "2017-10-04T04:32:13.150684928",
          "2017-10-05T04:33:12.328767232",
          "2017-10-06T04:34:11.506849280",
          "2017-10-07T04:35:10.684931584",
          "2017-10-08T04:36:09.863013632",
          "2017-10-09T04:37:09.041095936",
          "2017-10-10T04:38:08.219177984",
          "2017-10-11T04:39:07.397260288",
          "2017-10-12T04:40:06.575342592",
          "2017-10-13T04:41:05.753424640",
          "2017-10-14T04:42:04.931506944",
          "2017-10-15T04:43:04.109588992",
          "2017-10-16T04:44:03.287671296",
          "2017-10-17T04:45:02.465753344",
          "2017-10-18T04:46:01.643835648",
          "2017-10-19T04:47:00.821917696",
          "2017-10-20T04:48:00.000000000",
          "2017-10-21T04:48:59.178082304",
          "2017-10-22T04:49:58.356164352",
          "2017-10-23T04:50:57.534246656",
          "2017-10-24T04:51:56.712328704",
          "2017-10-25T04:52:55.890411008",
          "2017-10-26T04:53:55.068493056",
          "2017-10-27T04:54:54.246575360",
          "2017-10-28T04:55:53.424657408",
          "2017-10-29T04:56:52.602739712",
          "2017-10-30T04:57:51.780822016",
          "2017-10-31T04:58:50.958904064",
          "2017-11-01T04:59:50.136986368",
          "2017-11-02T05:00:49.315068416",
          "2017-11-03T05:01:48.493150720",
          "2017-11-04T05:02:47.671232768",
          "2017-11-05T05:03:46.849315072",
          "2017-11-06T05:04:46.027397376",
          "2017-11-07T05:05:45.205479424",
          "2017-11-08T05:06:44.383561728",
          "2017-11-09T05:07:43.561643776",
          "2017-11-10T05:08:42.739726080",
          "2017-11-11T05:09:41.917808128",
          "2017-11-12T05:10:41.095890432",
          "2017-11-13T05:11:40.273972480",
          "2017-11-14T05:12:39.452054784",
          "2017-11-15T05:13:38.630137088",
          "2017-11-16T05:14:37.808219136",
          "2017-11-17T05:15:36.986301440",
          "2017-11-18T05:16:36.164383488",
          "2017-11-19T05:17:35.342465792",
          "2017-11-20T05:18:34.520547840",
          "2017-11-21T05:19:33.698630144",
          "2017-11-22T05:20:32.876712448",
          "2017-11-23T05:21:32.054794496",
          "2017-11-24T05:22:31.232876800",
          "2017-11-25T05:23:30.410958848",
          "2017-11-26T05:24:29.589041152",
          "2017-11-27T05:25:28.767123200",
          "2017-11-28T05:26:27.945205504",
          "2017-11-29T05:27:27.123287552",
          "2017-11-30T05:28:26.301369856",
          "2017-12-01T05:29:25.479452160",
          "2017-12-02T05:30:24.657534208",
          "2017-12-03T05:31:23.835616512",
          "2017-12-04T05:32:23.013698560",
          "2017-12-05T05:33:22.191780864",
          "2017-12-06T05:34:21.369862912",
          "2017-12-07T05:35:20.547945216",
          "2017-12-08T05:36:19.726027520",
          "2017-12-09T05:37:18.904109568",
          "2017-12-10T05:38:18.082191872",
          "2017-12-11T05:39:17.260273920",
          "2017-12-12T05:40:16.438356224",
          "2017-12-13T05:41:15.616438272",
          "2017-12-14T05:42:14.794520576",
          "2017-12-15T05:43:13.972602624",
          "2017-12-16T05:44:13.150684928",
          "2017-12-17T05:45:12.328767232",
          "2017-12-18T05:46:11.506849280",
          "2017-12-19T05:47:10.684931584",
          "2017-12-20T05:48:09.863013632",
          "2017-12-21T05:49:09.041095936",
          "2017-12-22T05:50:08.219177984",
          "2017-12-23T05:51:07.397260288",
          "2017-12-24T05:52:06.575342592",
          "2017-12-25T05:53:05.753424640",
          "2017-12-26T05:54:04.931506944",
          "2017-12-27T05:55:04.109588992",
          "2017-12-28T05:56:03.287671296",
          "2017-12-29T05:57:02.465753344",
          "2017-12-30T05:58:01.643835648",
          "2017-12-31T05:59:00.821917696"
         ],
         "xaxis": "x2",
         "y": {
          "_inputArray": {
           "0": 235001.82365588524,
           "1": 219147.773809355,
           "10": -140645.03119033822,
           "100": -604929.6811216949,
           "101": -759902.7481669605,
           "102": -922117.5344894825,
           "103": -1089282.6207316676,
           "104": -1258907.2182136627,
           "105": -1428336.0351468893,
           "106": -1594798.3627366873,
           "107": -1755461.1700568115,
           "108": -1907476.027260984,
           "109": -2048046.4904961516,
           "11": -195084.06193459348,
           "110": -2174477.441682061,
           "111": -2284233.308153513,
           "112": -2374992.559969698,
           "113": -2444699.800148617,
           "114": -2491609.891900049,
           "115": -2514334.484995016,
           "116": -2511873.6815371877,
           "117": -2483644.711281816,
           "118": -2429500.7180735306,
           "119": -2349744.358318291,
           "12": -249305.70807811496,
           "120": -2245125.6585888946,
           "121": -2116836.4805788496,
           "122": -1966492.9654968802,
           "123": -1796109.3567890003,
           "124": -1608060.9127661882,
           "125": -1405050.0171048858,
           "126": -1190043.1564577338,
           "127": -966223.4335292163,
           "128": -736927.5677374216,
           "129": -505581.38155816443,
           "13": -302297.5455006156,
           "130": -275630.4656929798,
           "131": -50483.4003588558,
           "132": 166570.8787611114,
           "133": 372416.71312668215,
           "134": 564174.9978789291,
           "135": 739260.6031489829,
           "136": 895423.6108662948,
           "137": 1030803.1827380001,
           "138": 1143952.5064280375,
           "139": 1233865.0451005488,
           "14": -353054.504448593,
           "140": 1299988.9838093843,
           "141": 1342232.0505911286,
           "142": 1360954.2718757116,
           "143": 1356955.4614477667,
           "144": 1331448.098581044,
           "145": 1286024.2385941017,
           "146": 1222612.9868140123,
           "147": 1143434.9986200742,
           "148": 1050943.6333866976,
           "149": 947768.8676310403,
           "15": -400599.12769412686,
           "150": 836654.8118638556,
           "151": 720396.3396162532,
           "152": 601774.3349145376,
           "153": 483499.33161831467,
           "154": 368144.30585704366,
           "155": 258095.56810128872,
           "156": 155502.36751469085,
           "157": 62234.5358904749,
           "158": -20153.151414001935,
           "159": -90443.71460089096,
           "16": -444003.7473949258,
           "160": -147781.29039127243,
           "161": -191675.62976055034,
           "162": -222002.38874532987,
           "163": -238993.517456511,
           "164": -243218.29709034265,
           "165": -235558.18612158176,
           "166": -217172.38315142,
           "167": -189458.3992867489,
           "168": -154007.28434074382,
           "169": -112554.51168983008,
           "17": -482410.7549556892,
           "170": -66930.84691358129,
           "171": -19007.166771332493,
           "172": 29355.715978146414,
           "173": 76357.97672996143,
           "174": 120308.3979943517,
           "175": 159668.36425553885,
           "176": 193088.55205484232,
           "177": 219444.117645737,
           "178": 237858.46960088398,
           "179": 247722.10522959256,
           "18": -515048.6595652271,
           "180": 248703.2621335426,
           "181": 240750.87440047995,
           "182": 224089.81810766814,
           "183": 199208.49732735718,
           "184": 166839.68043057696,
           "185": 127934.96487935357,
           "186": 83633.2094475552,
           "187": 35227.07636276158,
           "188": -15879.126790261795,
           "189": -68208.85861213987,
           "19": -541250.1449022286,
           "190": -120256.41829762001,
           "191": -170530.08771406638,
           "192": -217591.2167833096,
           "193": -260096.83025976174,
           "194": -296833.02001597197,
           "195": -326747.04018589505,
           "196": -348973.75953690754,
           "197": -362856.53950469,
           "198": -367961.3045929302,
           "199": -364085.68786206265,
           "2": 197904.19107456921,
           "20": -560462.9534993753,
           "200": -351259.9144904404,
           "201": -329742.17786370526,
           "202": -300007.60217445245,
           "203": -262730.9591236382,
           "204": -218766.48042260122,
           "205": -169118.78244291563,
           "206": -114914.40132029493,
           "207": -57368.572371164504,
           "208": 2250.0372666931066,
           "209": 62651.84293642178,
           "21": -572260.272709902,
           "210": 122565.51653441545,
           "211": 180768.97841595413,
           "212": 236121.61944135054,
           "213": 287592.79145397834,
           "214": 334287.00953550043,
           "215": 375462.1196778837,
           "216": 410547.92235951795,
           "217": 439154.08208227577,
           "218": 461075.4264530184,
           "219": 476291.3954326185,
           "22": -576347.7321000219,
           "220": 484959.4568846291,
           "221": 487405.227304632,
           "222": 484106.2250672247,
           "223": 475672.6495831656,
           "224": 462824.6469109564,
           "225": 446366.8238001133,
           "226": 427162.0473148704,
           "227": 406102.40619142057,
           "228": 384082.0456957057,
           "229": 361969.93017244176,
           "23": -572567.3765928921,
           "230": 340584.4090009058,
           "231": 320669.93278243724,
           "232": 302877.913205923,
           "233": 287748.84936311544,
           "234": 275700.78445886023,
           "235": 267020.8561430763,
           "236": 261861.48340136753,
           "237": 260241.23705902338,
           "238": 262049.47429913352,
           "239": 267055.66887623933,
           "24": -560899.1101533372,
           "240": 274922.04991664435,
           "241": 285219.4922327131,
           "242": 297446.1362255966,
           "243": 311047.1805153816,
           "244": 325437.31559049647,
           "245": 340022.19364627666,
           "246": 354220.2714824087,
           "247": 367483.4785894377,
           "248": 379316.27588591975,
           "249": 389291.6916341032,
           "25": -541458.8378572133,
           "250": 397065.8074736989,
           "251": 402387.4919434187,
           "252": 405105.16779548564,
           "253": 405169.5322847267,
           "254": 402632.36143373133,
           "255": 397641.39110802236,
           "256": 390431.45520972065,
           "257": 381312.28601432213,
           "258": 370653.3439965921,
           "259": 358866.0869074786,
           "26": -514494.34974663274,
           "260": 346385.13935166004,
           "261": 333646.96205075266,
           "262": 321069.49756116327,
           "263": 309031.5083195483,
           "264": 297853.02754932194,
           "265": 287778.26297051826,
           "266": 278959.7020492584,
           "267": 271446.6106904023,
           "268": 265176.44978856534,
           "269": 259970.40251667832,
           "27": -480378.73953755567,
           "270": 255533.09850788384,
           "271": 251456.96272106236,
           "272": 247230.44755895692,
           "273": 242251.01036707807,
           "274": 235841.77900542432,
           "275": 227271.81084489686,
           "276": 215779.20162654013,
           "277": 200597.27131459175,
           "278": 180981.03027163554,
           "279": 156235.74530108686,
           "28": -439601.6941017927,
           "280": 125744.88645090009,
           "281": 88996.84191613233,
           "282": 45612.12313271832,
           "283": -4636.32361482377,
           "284": -61801.99440889062,
           "285": -125749.76572353742,
           "286": -196145.09270263358,
           "287": -272449.2469669036,
           "288": -353915.5062624842,
           "289": -439599.91546387516,
           "29": -392758.3678828096,
           "290": -528368.9695602963,
           "291": -618917.1966301131,
           "292": -709790.2395546597,
           "293": -799407.548862539,
           "294": -886099.9162001134,
           "295": -968140.0437246435,
           "296": -1043781.1610416397,
           "297": -1111296.4576403503,
           "298": -1169020.01350374,
           "299": -1215384.4429942148,
           "3": 171203.75225967693,
           "30": -340539.5359971284,
           "300": -1248963.9783623454,
           "301": -1268508.5438042355,
           "302": -1272978.2157595882,
           "303": -1261572.899518038,
           "304": -1233756.7145816188,
           "305": -1189278.700851906,
           "306": -1128183.9772886075,
           "307": -1050821.357742292,
           "308": -957842.8350311049,
           "309": -850195.0679186013,
           "31": -283715.0257693675,
           "310": -729110.5404821148,
           "311": -596079.5308018345,
           "312": -452828.28158901865,
           "313": -301285.654069089,
           "314": -143546.141929837,
           "315": 18172.95140296965,
           "316": 181567.91857073395,
           "317": 344305.82125163806,
           "318": 504063.82571151084,
           "319": 658577.6457418291,
           "32": -223121.61330031775,
           "320": 805686.825547628,
           "321": 943379.1809868509,
           "322": 1069824.0703959565,
           "323": 1183417.2214184706,
           "324": 1282804.3613291269,
           "325": 1366907.2194609307,
           "326": 1434942.2521869682,
           "327": 1486429.021206342,
           "328": 1521199.358099489,
           "329": 1539391.5152371544,
           "33": -159647.711103598,
           "330": 1541441.7312351137,
           "331": 1528068.4054115391,
           "332": 1500249.8171491069,
           "333": 1459198.2492972477,
           "334": 1406325.9733565082,
           "335": 1343210.426367555,
           "336": 1271555.0367001598,
           "337": 1193147.3539103605,
           "338": 1109820.8427739902,
           "339": 1023407.5328686442,
           "34": -94217.49674558137,
           "340": 935700.7578250351,
           "341": 848415.4532388858,
           "342": 763152.2244418549,
           "343": 681364.1982967186,
           "344": 604332.9439111807,
           "345": 533139.9294060365,
           "346": 468652.93799188075,
           "347": 411513.3859018033,
           "348": 362130.4680524919,
           "349": 320680.7249540964,
           "35": -27778.826469841413,
           "350": 287115.57094376703,
           "351": 261169.5358347375,
           "352": 242378.38552383552,
           "353": 230099.16421313674,
           "354": 223534.53863007747,
           "355": 221760.53159192347,
           "356": 223755.9144110576,
           "357": 228433.91647447777,
           "358": 234674.1590026221,
           "359": 241354.5612343789,
           "36": 38716.24568076617,
           "360": 247382.37552314205,
           "361": 251723.20318620472,
           "362": 253428.3477976901,
           "363": 251658.45268533975,
           "364": 245704.02368579558,
           "37": 104322.94434420651,
           "38": 168118.3990279584,
           "39": 229214.75560717264,
           "4": 139148.5370222559,
           "40": 286772.0407161401,
           "41": 340006.7787630674,
           "42": 388206.19017754175,
           "43": 430734.57192622166,
           "44": 467041.9576737336,
           "45": 496671.2547159359,
           "46": 519262.6397177909,
           "47": 534560.1616202095,
           "48": 542413.6758123485,
           "49": 542781.4536681196,
           "5": 102004.93317225421,
           "50": 535731.2357117375,
           "51": 521439.882866908,
           "52": 500192.755059495,
           "53": 472380.0852712045,
           "54": 438493.62783612765,
           "55": 399121.25613375404,
           "56": 354940.29660345946,
           "57": 306708.86277751764,
           "58": 255258.60399424814,
           "59": 201480.36462794172,
           "6": 60194.06086505864,
           "60": 146313.9727931928,
           "61": 90733.9203874029,
           "62": 35733.65731750891,
           "63": -17688.11479665373,
           "64": -68548.525924888,
           "65": -115896.01454155355,
           "66": -158829.54806736935,
           "67": -196517.44046010528,
           "68": -228216.39837472784,
           "69": -253288.36425044504,
           "7": 14281.074492585192,
           "70": -271220.0874257002,
           "71": -281637.63304848876,
           "72": -284321.0964071103,
           "73": -279216.63194941165,
           "74": -266446.3107640153,
           "75": -246314.29159074632,
           "76": -219310.13138374285,
           "77": -186108.2631689736,
           "78": -147563.57065194525,
           "79": -104702.3601637907,
           "8": -35043.62892374189,
           "80": -58711.71600685388,
           "81": -10919.667363808316,
           "82": 37223.7452619489,
           "83": 84171.64875646548,
           "84": 128308.54188428924,
           "85": 167981.99429405705,
           "86": 201534.66860000638,
           "87": 227342.82412695134,
           "88": 243851.3352997854,
           "89": 249611.53906129254,
           "9": -86981.10073641277,
           "90": 243318.05176433912,
           "91": 223844.906002781,
           "92": 190278.708020903,
           "93": 141949.346542703,
           "94": 78456.72700830348,
           "95": -307.11813627586173,
           "96": -94142.42602571906,
           "97": -202526.36211242952,
           "98": -324615.1714422789,
           "99": -459242.4587152551,
           "bdata": "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",
           "dtype": "f8",
           "shape": "365"
          },
          "bdata": "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",
          "dtype": "f8"
         },
         "yaxis": "y2"
        }
       ],
       "layout": {
        "height": 400,
        "showlegend": false,
        "template": {
         "data": {
          "bar": [
           {
            "error_x": {
             "color": "#2a3f5f"
            },
            "error_y": {
             "color": "#2a3f5f"
            },
            "marker": {
             "line": {
              "color": "#E5ECF6",
              "width": 0.5
             },
             "pattern": {
              "fillmode": "overlay",
              "size": 10,
              "solidity": 0.2
             }
            },
            "type": "bar"
           }
          ],
          "barpolar": [
           {
            "marker": {
             "line": {
              "color": "#E5ECF6",
              "width": 0.5
             },
             "pattern": {
              "fillmode": "overlay",
              "size": 10,
              "solidity": 0.2
             }
            },
            "type": "barpolar"
           }
          ],
          "carpet": [
           {
            "aaxis": {
             "endlinecolor": "#2a3f5f",
             "gridcolor": "white",
             "linecolor": "white",
             "minorgridcolor": "white",
             "startlinecolor": "#2a3f5f"
            },
            "baxis": {
             "endlinecolor": "#2a3f5f",
             "gridcolor": "white",
             "linecolor": "white",
             "minorgridcolor": "white",
             "startlinecolor": "#2a3f5f"
            },
            "type": "carpet"
           }
          ],
          "choropleth": [
           {
            "colorbar": {
             "outlinewidth": 0,
             "ticks": ""
            },
            "type": "choropleth"
           }
          ],
          "contour": [
           {
            "colorbar": {
             "outlinewidth": 0,
             "ticks": ""
            },
            "colorscale": [
             [
              0,
              "#0d0887"
             ],
             [
              0.1111111111111111,
              "#46039f"
             ],
             [
              0.2222222222222222,
              "#7201a8"
             ],
             [
              0.3333333333333333,
              "#9c179e"
             ],
             [
              0.4444444444444444,
              "#bd3786"
             ],
             [
              0.5555555555555556,
              "#d8576b"
             ],
             [
              0.6666666666666666,
              "#ed7953"
             ],
             [
              0.7777777777777778,
              "#fb9f3a"
             ],
             [
              0.8888888888888888,
              "#fdca26"
             ],
             [
              1,
              "#f0f921"
             ]
            ],
            "type": "contour"
           }
          ],
          "contourcarpet": [
           {
            "colorbar": {
             "outlinewidth": 0,
             "ticks": ""
            },
            "type": "contourcarpet"
           }
          ],
          "heatmap": [
           {
            "colorbar": {
             "outlinewidth": 0,
             "ticks": ""
            },
            "colorscale": [
             [
              0,
              "#0d0887"
             ],
             [
              0.1111111111111111,
              "#46039f"
             ],
             [
              0.2222222222222222,
              "#7201a8"
             ],
             [
              0.3333333333333333,
              "#9c179e"
             ],
             [
              0.4444444444444444,
              "#bd3786"
             ],
             [
              0.5555555555555556,
              "#d8576b"
             ],
             [
              0.6666666666666666,
              "#ed7953"
             ],
             [
              0.7777777777777778,
              "#fb9f3a"
             ],
             [
              0.8888888888888888,
              "#fdca26"
             ],
             [
              1,
              "#f0f921"
             ]
            ],
            "type": "heatmap"
           }
          ],
          "histogram": [
           {
            "marker": {
             "pattern": {
              "fillmode": "overlay",
              "size": 10,
              "solidity": 0.2
             }
            },
            "type": "histogram"
           }
          ],
          "histogram2d": [
           {
            "colorbar": {
             "outlinewidth": 0,
             "ticks": ""
            },
            "colorscale": [
             [
              0,
              "#0d0887"
             ],
             [
              0.1111111111111111,
              "#46039f"
             ],
             [
              0.2222222222222222,
              "#7201a8"
             ],
             [
              0.3333333333333333,
              "#9c179e"
             ],
             [
              0.4444444444444444,
              "#bd3786"
             ],
             [
              0.5555555555555556,
              "#d8576b"
             ],
             [
              0.6666666666666666,
              "#ed7953"
             ],
             [
              0.7777777777777778,
              "#fb9f3a"
             ],
             [
              0.8888888888888888,
              "#fdca26"
             ],
             [
              1,
              "#f0f921"
             ]
            ],
            "type": "histogram2d"
           }
          ],
          "histogram2dcontour": [
           {
            "colorbar": {
             "outlinewidth": 0,
             "ticks": ""
            },
            "colorscale": [
             [
              0,
              "#0d0887"
             ],
             [
              0.1111111111111111,
              "#46039f"
             ],
             [
              0.2222222222222222,
              "#7201a8"
             ],
             [
              0.3333333333333333,
              "#9c179e"
             ],
             [
              0.4444444444444444,
              "#bd3786"
             ],
             [
              0.5555555555555556,
              "#d8576b"
             ],
             [
              0.6666666666666666,
              "#ed7953"
             ],
             [
              0.7777777777777778,
              "#fb9f3a"
             ],
             [
              0.8888888888888888,
              "#fdca26"
             ],
             [
              1,
              "#f0f921"
             ]
            ],
            "type": "histogram2dcontour"
           }
          ],
          "mesh3d": [
           {
            "colorbar": {
             "outlinewidth": 0,
             "ticks": ""
            },
            "type": "mesh3d"
           }
          ],
          "parcoords": [
           {
            "line": {
             "colorbar": {
              "outlinewidth": 0,
              "ticks": ""
             }
            },
            "type": "parcoords"
           }
          ],
          "pie": [
           {
            "automargin": true,
            "type": "pie"
           }
          ],
          "scatter": [
           {
            "fillpattern": {
             "fillmode": "overlay",
             "size": 10,
             "solidity": 0.2
            },
            "type": "scatter"
           }
          ],
          "scatter3d": [
           {
            "line": {
             "colorbar": {
              "outlinewidth": 0,
              "ticks": ""
             }
            },
            "marker": {
             "colorbar": {
              "outlinewidth": 0,
              "ticks": ""
             }
            },
            "type": "scatter3d"
           }
          ],
          "scattercarpet": [
           {
            "marker": {
             "colorbar": {
              "outlinewidth": 0,
              "ticks": ""
             }
            },
            "type": "scattercarpet"
           }
          ],
          "scattergeo": [
           {
            "marker": {
             "colorbar": {
              "outlinewidth": 0,
              "ticks": ""
             }
            },
            "type": "scattergeo"
           }
          ],
          "scattergl": [
           {
            "marker": {
             "colorbar": {
              "outlinewidth": 0,
              "ticks": ""
             }
            },
            "type": "scattergl"
           }
          ],
          "scattermap": [
           {
            "marker": {
             "colorbar": {
              "outlinewidth": 0,
              "ticks": ""
             }
            },
            "type": "scattermap"
           }
          ],
          "scattermapbox": [
           {
            "marker": {
             "colorbar": {
              "outlinewidth": 0,
              "ticks": ""
             }
            },
            "type": "scattermapbox"
           }
          ],
          "scatterpolar": [
           {
            "marker": {
             "colorbar": {
              "outlinewidth": 0,
              "ticks": ""
             }
            },
            "type": "scatterpolar"
           }
          ],
          "scatterpolargl": [
           {
            "marker": {
             "colorbar": {
              "outlinewidth": 0,
              "ticks": ""
             }
            },
            "type": "scatterpolargl"
           }
          ],
          "scatterternary": [
           {
            "marker": {
             "colorbar": {
              "outlinewidth": 0,
              "ticks": ""
             }
            },
            "type": "scatterternary"
           }
          ],
          "surface": [
           {
            "colorbar": {
             "outlinewidth": 0,
             "ticks": ""
            },
            "colorscale": [
             [
              0,
              "#0d0887"
             ],
             [
              0.1111111111111111,
              "#46039f"
             ],
             [
              0.2222222222222222,
              "#7201a8"
             ],
             [
              0.3333333333333333,
              "#9c179e"
             ],
             [
              0.4444444444444444,
              "#bd3786"
             ],
             [
              0.5555555555555556,
              "#d8576b"
             ],
             [
              0.6666666666666666,
              "#ed7953"
             ],
             [
              0.7777777777777778,
              "#fb9f3a"
             ],
             [
              0.8888888888888888,
              "#fdca26"
             ],
             [
              1,
              "#f0f921"
             ]
            ],
            "type": "surface"
           }
          ],
          "table": [
           {
            "cells": {
             "fill": {
              "color": "#EBF0F8"
             },
             "line": {
              "color": "white"
             }
            },
            "header": {
             "fill": {
              "color": "#C8D4E3"
             },
             "line": {
              "color": "white"
             }
            },
            "type": "table"
           }
          ]
         },
         "layout": {
          "annotationdefaults": {
           "arrowcolor": "#2a3f5f",
           "arrowhead": 0,
           "arrowwidth": 1
          },
          "autotypenumbers": "strict",
          "coloraxis": {
           "colorbar": {
            "outlinewidth": 0,
            "ticks": ""
           }
          },
          "colorscale": {
           "diverging": [
            [
             0,
             "#8e0152"
            ],
            [
             0.1,
             "#c51b7d"
            ],
            [
             0.2,
             "#de77ae"
            ],
            [
             0.3,
             "#f1b6da"
            ],
            [
             0.4,
             "#fde0ef"
            ],
            [
             0.5,
             "#f7f7f7"
            ],
            [
             0.6,
             "#e6f5d0"
            ],
            [
             0.7,
             "#b8e186"
            ],
            [
             0.8,
             "#7fbc41"
            ],
            [
             0.9,
             "#4d9221"
            ],
            [
             1,
             "#276419"
            ]
           ],
           "sequential": [
            [
             0,
             "#0d0887"
            ],
            [
             0.1111111111111111,
             "#46039f"
            ],
            [
             0.2222222222222222,
             "#7201a8"
            ],
            [
             0.3333333333333333,
             "#9c179e"
            ],
            [
             0.4444444444444444,
             "#bd3786"
            ],
            [
             0.5555555555555556,
             "#d8576b"
            ],
            [
             0.6666666666666666,
             "#ed7953"
            ],
            [
             0.7777777777777778,
             "#fb9f3a"
            ],
            [
             0.8888888888888888,
             "#fdca26"
            ],
            [
             1,
             "#f0f921"
            ]
           ],
           "sequentialminus": [
            [
             0,
             "#0d0887"
            ],
            [
             0.1111111111111111,
             "#46039f"
            ],
            [
             0.2222222222222222,
             "#7201a8"
            ],
            [
             0.3333333333333333,
             "#9c179e"
            ],
            [
             0.4444444444444444,
             "#bd3786"
            ],
            [
             0.5555555555555556,
             "#d8576b"
            ],
            [
             0.6666666666666666,
             "#ed7953"
            ],
            [
             0.7777777777777778,
             "#fb9f3a"
            ],
            [
             0.8888888888888888,
             "#fdca26"
            ],
            [
             1,
             "#f0f921"
            ]
           ]
          },
          "colorway": [
           "#636efa",
           "#EF553B",
           "#00cc96",
           "#ab63fa",
           "#FFA15A",
           "#19d3f3",
           "#FF6692",
           "#B6E880",
           "#FF97FF",
           "#FECB52"
          ],
          "font": {
           "color": "#2a3f5f"
          },
          "geo": {
           "bgcolor": "white",
           "lakecolor": "white",
           "landcolor": "#E5ECF6",
           "showlakes": true,
           "showland": true,
           "subunitcolor": "white"
          },
          "hoverlabel": {
           "align": "left"
          },
          "hovermode": "closest",
          "mapbox": {
           "style": "light"
          },
          "paper_bgcolor": "white",
          "plot_bgcolor": "#E5ECF6",
          "polar": {
           "angularaxis": {
            "gridcolor": "white",
            "linecolor": "white",
            "ticks": ""
           },
           "bgcolor": "#E5ECF6",
           "radialaxis": {
            "gridcolor": "white",
            "linecolor": "white",
            "ticks": ""
           }
          },
          "scene": {
           "xaxis": {
            "backgroundcolor": "#E5ECF6",
            "gridcolor": "white",
            "gridwidth": 2,
            "linecolor": "white",
            "showbackground": true,
            "ticks": "",
            "zerolinecolor": "white"
           },
           "yaxis": {
            "backgroundcolor": "#E5ECF6",
            "gridcolor": "white",
            "gridwidth": 2,
            "linecolor": "white",
            "showbackground": true,
            "ticks": "",
            "zerolinecolor": "white"
           },
           "zaxis": {
            "backgroundcolor": "#E5ECF6",
            "gridcolor": "white",
            "gridwidth": 2,
            "linecolor": "white",
            "showbackground": true,
            "ticks": "",
            "zerolinecolor": "white"
           }
          },
          "shapedefaults": {
           "line": {
            "color": "#2a3f5f"
           }
          },
          "ternary": {
           "aaxis": {
            "gridcolor": "white",
            "linecolor": "white",
            "ticks": ""
           },
           "baxis": {
            "gridcolor": "white",
            "linecolor": "white",
            "ticks": ""
           },
           "bgcolor": "#E5ECF6",
           "caxis": {
            "gridcolor": "white",
            "linecolor": "white",
            "ticks": ""
           }
          },
          "title": {
           "x": 0.05
          },
          "xaxis": {
           "automargin": true,
           "gridcolor": "white",
           "linecolor": "white",
           "ticks": "",
           "title": {
            "standoff": 15
           },
           "zerolinecolor": "white",
           "zerolinewidth": 2
          },
          "yaxis": {
           "automargin": true,
           "gridcolor": "white",
           "linecolor": "white",
           "ticks": "",
           "title": {
            "standoff": 15
           },
           "zerolinecolor": "white",
           "zerolinewidth": 2
          }
         }
        },
        "width": 900,
        "xaxis": {
         "anchor": "y",
         "domain": [
          0,
          1
         ],
         "range": [
          "2013-01-03T04:48:00",
          "2018-03-27T19:12:00"
         ],
         "type": "date"
        },
        "xaxis2": {
         "anchor": "y2",
         "domain": [
          0,
          1
         ],
         "range": [
          "2016-12-13T18:54:02.958904",
          "2018-01-18T11:04:57.863013"
         ],
         "tickformat": "%B %e",
         "type": "date"
        },
        "yaxis": {
         "anchor": "x",
         "autorange": true,
         "domain": [
          0.575,
          1
         ],
         "range": [
          -150141.7559941504,
          -96419.8373717019
         ],
         "rangemode": "normal",
         "title": {
          "text": "trend"
         },
         "type": "linear",
         "zerolinecolor": "#AAA"
        },
        "yaxis2": {
         "anchor": "x2",
         "autorange": true,
         "domain": [
          0,
          0.425
         ],
         "range": [
          -2739655.3858966897,
          1766762.6321367875
         ],
         "title": {
          "text": "yearly"
         },
         "type": "linear",
         "zerolinecolor": "#AAA"
        }
       }
      },
      "image/png": "[encoded data removed]"
     },
     "metadata": {},
     "output_type": "display_data"
    },
    {
     "name": "stderr",
     "output_type": "stream",
     "text": [
      "04:52:50 - cmdstanpy - INFO - Chain [1] start processing\n"
     ]
    },
    {
     "name": "stdout",
     "output_type": "stream",
     "text": [
      "Generating Prophet components for Production       ...\n"
     ]
    },
    {
     "name": "stderr",
     "output_type": "stream",
     "text": [
      "04:52:54 - cmdstanpy - INFO - Chain [1] done processing\n"
     ]
    },
    {
     "name": "stdout",
     "output_type": "stream",
     "text": [
      "Saved components for Production       : prophet_components_production_.png\n"
     ]
    },
    {
     "data": {
      "application/vnd.plotly.v1+json": {
       "config": {
        "plotlyServerURL": "https://plot.ly"
       },
       "data": [
        {
         "line": {
          "color": "#0072B2",
          "width": 2
         },
         "mode": "lines",
         "name": "trend",
         "type": "scatter",
         "x": [
          "2013-03-31T00:00:00.000000000",
          "2013-06-30T00:00:00.000000000",
          "2013-09-30T00:00:00.000000000",
          "2013-12-31T00:00:00.000000000",
          "2014-03-31T00:00:00.000000000",
          "2014-06-30T00:00:00.000000000",
          "2014-09-30T00:00:00.000000000",
          "2014-12-31T00:00:00.000000000",
          "2015-03-31T00:00:00.000000000",
          "2015-06-30T00:00:00.000000000",
          "2015-09-30T00:00:00.000000000",
          "2015-12-31T00:00:00.000000000",
          "2016-03-31T00:00:00.000000000",
          "2016-06-30T00:00:00.000000000",
          "2016-09-30T00:00:00.000000000",
          "2016-12-31T00:00:00.000000000",
          "2017-03-31T00:00:00.000000000",
          "2017-06-30T00:00:00.000000000",
          "2017-09-30T00:00:00.000000000",
          "2017-12-31T00:00:00.000000000"
         ],
         "xaxis": "x",
         "y": {
          "_inputArray": {
           "0": -68202.890145448,
           "1": -68919.1085814026,
           "10": -51396.839448732804,
           "11": -49985.69464807131,
           "12": -47963.60427341136,
           "13": -45941.51389875141,
           "14": -43897.20275074355,
           "15": -41852.89160273569,
           "16": -39853.022001423655,
           "17": -37830.9316267637,
           "18": -35786.62047875583,
           "19": -33742.30933074798,
           "2": -68600.7289933386,
           "3": -67146.30146726187,
           "4": -65755.34298415227,
           "5": -64375.536027645576,
           "6": -62215.08756298156,
           "7": -59096.06031877491,
           "8": -56366.196257969525,
           "9": -53652.28873414011,
           "bdata": "PScJPq6m8MBS2r+8cdPwwEXr9KmLv/DA6VXP0qRk8MBR89x8tQ3wwPByIyfxbu/AxOFQzeJg7sCyoyHuAdvswBbLvkfGhevAIGFPPYky6sDClsPcmhjpwJCXjjo2aOjAdDE1VnNr58BYy9txsG7mwJkg73wmb+XA2nUCiJxv5MBiVDy0oHXjwEXu4s/deOLAhUP22lN54cDHmAnmyXngwA==",
           "dtype": "f8",
           "shape": "20"
          },
          "bdata": "PScJPq6m8MBS2r+8cdPwwEXr9KmLv/DA6VXP0qRk8MBR89x8tQ3wwPByIyfxbu/AxOFQzeJg7sCyoyHuAdvswBbLvkfGhevAIGFPPYky6sDClsPcmhjpwJCXjjo2aOjAdDE1VnNr58BYy9txsG7mwJkg73wmb+XA2nUCiJxv5MBiVDy0oHXjwEXu4s/deOLAhUP22lN54cDHmAnmyXngwA==",
          "dtype": "f8"
         },
         "yaxis": "y"
        },
        {
         "line": {
          "color": "rgba(0, 114, 178, 0.2)",
          "width": 0
         },
         "mode": "lines",
         "name": "trend_upper",
         "type": "scatter",
         "x": [
          "2013-03-31T00:00:00.000000000",
          "2013-06-30T00:00:00.000000000",
          "2013-09-30T00:00:00.000000000",
          "2013-12-31T00:00:00.000000000",
          "2014-03-31T00:00:00.000000000",
          "2014-06-30T00:00:00.000000000",
          "2014-09-30T00:00:00.000000000",
          "2014-12-31T00:00:00.000000000",
          "2015-03-31T00:00:00.000000000",
          "2015-06-30T00:00:00.000000000",
          "2015-09-30T00:00:00.000000000",
          "2015-12-31T00:00:00.000000000",
          "2016-03-31T00:00:00.000000000",
          "2016-06-30T00:00:00.000000000",
          "2016-09-30T00:00:00.000000000",
          "2016-12-31T00:00:00.000000000",
          "2017-03-31T00:00:00.000000000",
          "2017-06-30T00:00:00.000000000",
          "2017-09-30T00:00:00.000000000",
          "2017-12-31T00:00:00.000000000"
         ],
         "xaxis": "x",
         "y": {
          "_inputArray": {
           "0": -68202.890145448,
           "1": -68919.1085814026,
           "10": -51396.839448732804,
           "11": -49985.69464807131,
           "12": -47963.60427341136,
           "13": -45941.51389875141,
           "14": -43897.20275074355,
           "15": -41852.89160273569,
           "16": -39507.057678169396,
           "17": -36674.373884119406,
           "18": -33625.136035737916,
           "19": -30292.474996122146,
           "2": -68600.7289933386,
           "3": -67146.30146726187,
           "4": -65755.34298415227,
           "5": -64375.536027645576,
           "6": -62215.08756298156,
           "7": -59096.06031877491,
           "8": -56366.196257969525,
           "9": -53652.28873414011,
           "bdata": "PScJPq6m8MBS2r+8cdPwwEXr9KmLv/DA6VXP0qRk8MBR89x8tQ3wwPByIyfxbu/AxOFQzeJg7sCyoyHuAdvswBbLvkfGhevAIGFPPYky6sDClsPcmhjpwJCXjjo2aOjAdDE1VnNr58BYy9txsG7mwJkg73wmb+XA2nUCiJxv5MBo43/YYUrjwCvU2/ZL6OHArp5nWiRr4MCWIlZmHpXdwA==",
           "dtype": "f8",
           "shape": "20"
          },
          "bdata": "PScJPq6m8MBS2r+8cdPwwEXr9KmLv/DA6VXP0qRk8MBR89x8tQ3wwPByIyfxbu/AxOFQzeJg7sCyoyHuAdvswBbLvkfGhevAIGFPPYky6sDClsPcmhjpwJCXjjo2aOjAdDE1VnNr58BYy9txsG7mwJkg73wmb+XA2nUCiJxv5MBo43/YYUrjwCvU2/ZL6OHArp5nWiRr4MCWIlZmHpXdwA==",
          "dtype": "f8"
         },
         "yaxis": "y"
        },
        {
         "fill": "tonexty",
         "fillcolor": "rgba(0, 114, 178, 0.2)",
         "line": {
          "color": "rgba(0, 114, 178, 0.2)",
          "width": 0
         },
         "mode": "lines",
         "name": "trend_lower",
         "type": "scatter",
         "x": [
          "2013-03-31T00:00:00.000000000",
          "2013-06-30T00:00:00.000000000",
          "2013-09-30T00:00:00.000000000",
          "2013-12-31T00:00:00.000000000",
          "2014-03-31T00:00:00.000000000",
          "2014-06-30T00:00:00.000000000",
          "2014-09-30T00:00:00.000000000",
          "2014-12-31T00:00:00.000000000",
          "2015-03-31T00:00:00.000000000",
          "2015-06-30T00:00:00.000000000",
          "2015-09-30T00:00:00.000000000",
          "2015-12-31T00:00:00.000000000",
          "2016-03-31T00:00:00.000000000",
          "2016-06-30T00:00:00.000000000",
          "2016-09-30T00:00:00.000000000",
          "2016-12-31T00:00:00.000000000",
          "2017-03-31T00:00:00.000000000",
          "2017-06-30T00:00:00.000000000",
          "2017-09-30T00:00:00.000000000",
          "2017-12-31T00:00:00.000000000"
         ],
         "xaxis": "x",
         "y": {
          "_inputArray": {
           "0": -68202.890145448,
           "1": -68919.1085814026,
           "10": -51396.839448732804,
           "11": -49985.69464807131,
           "12": -47963.60427341136,
           "13": -45941.51389875141,
           "14": -43897.20275074355,
           "15": -41852.89160273569,
           "16": -40276.254304928014,
           "17": -39283.875576972576,
           "18": -38499.4957242958,
           "19": -37865.89897932876,
           "2": -68600.7289933386,
           "3": -67146.30146726187,
           "4": -65755.34298415227,
           "5": -64375.536027645576,
           "6": -62215.08756298156,
           "7": -59096.06031877491,
           "8": -56366.196257969525,
           "9": -53652.28873414011,
           "bdata": "PScJPq6m8MBS2r+8cdPwwEXr9KmLv/DA6VXP0qRk8MBR89x8tQ3wwPByIyfxbu/AxOFQzeJg7sCyoyHuAdvswBbLvkfGhevAIGFPPYky6sDClsPcmhjpwJCXjjo2aOjAdDE1VnNr58BYy9txsG7mwJkg73wmb+XA2nUCiJxv5MChFkQjiKrjwMv/uQR8LuPAyTL53G/M4sAaTHDEPH3iwA==",
           "dtype": "f8",
           "shape": "20"
          },
          "bdata": "PScJPq6m8MBS2r+8cdPwwEXr9KmLv/DA6VXP0qRk8MBR89x8tQ3wwPByIyfxbu/AxOFQzeJg7sCyoyHuAdvswBbLvkfGhevAIGFPPYky6sDClsPcmhjpwJCXjjo2aOjAdDE1VnNr58BYy9txsG7mwJkg73wmb+XA2nUCiJxv5MChFkQjiKrjwMv/uQR8LuPAyTL53G/M4sAaTHDEPH3iwA==",
          "dtype": "f8"
         },
         "yaxis": "y"
        },
        {
         "line": {
          "color": "#0072B2",
          "width": 2
         },
         "mode": "lines",
         "name": "yearly",
         "type": "scatter",
         "x": [
          "2017-01-01T00:00:00.000000000",
          "2017-01-02T00:00:59.178082304",
          "2017-01-03T00:01:58.356164352",
          "2017-01-04T00:02:57.534246656",
          "2017-01-05T00:03:56.712328704",
          "2017-01-06T00:04:55.890411008",
          "2017-01-07T00:05:55.068493056",
          "2017-01-08T00:06:54.246575360",
          "2017-01-09T00:07:53.424657408",
          "2017-01-10T00:08:52.602739712",
          "2017-01-11T00:09:51.780822016",
          "2017-01-12T00:10:50.958904064",
          "2017-01-13T00:11:50.136986368",
          "2017-01-14T00:12:49.315068416",
          "2017-01-15T00:13:48.493150720",
          "2017-01-16T00:14:47.671232768",
          "2017-01-17T00:15:46.849315072",
          "2017-01-18T00:16:46.027397376",
          "2017-01-19T00:17:45.205479424",
          "2017-01-20T00:18:44.383561728",
          "2017-01-21T00:19:43.561643776",
          "2017-01-22T00:20:42.739726080",
          "2017-01-23T00:21:41.917808128",
          "2017-01-24T00:22:41.095890432",
          "2017-01-25T00:23:40.273972480",
          "2017-01-26T00:24:39.452054784",
          "2017-01-27T00:25:38.630137088",
          "2017-01-28T00:26:37.808219136",
          "2017-01-29T00:27:36.986301440",
          "2017-01-30T00:28:36.164383488",
          "2017-01-31T00:29:35.342465792",
          "2017-02-01T00:30:34.520547840",
          "2017-02-02T00:31:33.698630144",
          "2017-02-03T00:32:32.876712448",
          "2017-02-04T00:33:32.054794496",
          "2017-02-05T00:34:31.232876800",
          "2017-02-06T00:35:30.410958848",
          "2017-02-07T00:36:29.589041152",
          "2017-02-08T00:37:28.767123200",
          "2017-02-09T00:38:27.945205504",
          "2017-02-10T00:39:27.123287552",
          "2017-02-11T00:40:26.301369856",
          "2017-02-12T00:41:25.479452160",
          "2017-02-13T00:42:24.657534208",
          "2017-02-14T00:43:23.835616512",
          "2017-02-15T00:44:23.013698560",
          "2017-02-16T00:45:22.191780864",
          "2017-02-17T00:46:21.369862912",
          "2017-02-18T00:47:20.547945216",
          "2017-02-19T00:48:19.726027520",
          "2017-02-20T00:49:18.904109568",
          "2017-02-21T00:50:18.082191872",
          "2017-02-22T00:51:17.260273920",
          "2017-02-23T00:52:16.438356224",
          "2017-02-24T00:53:15.616438272",
          "2017-02-25T00:54:14.794520576",
          "2017-02-26T00:55:13.972602624",
          "2017-02-27T00:56:13.150684928",
          "2017-02-28T00:57:12.328767232",
          "2017-03-01T00:58:11.506849280",
          "2017-03-02T00:59:10.684931584",
          "2017-03-03T01:00:09.863013632",
          "2017-03-04T01:01:09.041095936",
          "2017-03-05T01:02:08.219177984",
          "2017-03-06T01:03:07.397260288",
          "2017-03-07T01:04:06.575342592",
          "2017-03-08T01:05:05.753424640",
          "2017-03-09T01:06:04.931506944",
          "2017-03-10T01:07:04.109588992",
          "2017-03-11T01:08:03.287671296",
          "2017-03-12T01:09:02.465753344",
          "2017-03-13T01:10:01.643835648",
          "2017-03-14T01:11:00.821917696",
          "2017-03-15T01:12:00.000000000",
          "2017-03-16T01:12:59.178082304",
          "2017-03-17T01:13:58.356164352",
          "2017-03-18T01:14:57.534246656",
          "2017-03-19T01:15:56.712328704",
          "2017-03-20T01:16:55.890411008",
          "2017-03-21T01:17:55.068493056",
          "2017-03-22T01:18:54.246575360",
          "2017-03-23T01:19:53.424657408",
          "2017-03-24T01:20:52.602739712",
          "2017-03-25T01:21:51.780822016",
          "2017-03-26T01:22:50.958904064",
          "2017-03-27T01:23:50.136986368",
          "2017-03-28T01:24:49.315068416",
          "2017-03-29T01:25:48.493150720",
          "2017-03-30T01:26:47.671232768",
          "2017-03-31T01:27:46.849315072",
          "2017-04-01T01:28:46.027397376",
          "2017-04-02T01:29:45.205479424",
          "2017-04-03T01:30:44.383561728",
          "2017-04-04T01:31:43.561643776",
          "2017-04-05T01:32:42.739726080",
          "2017-04-06T01:33:41.917808128",
          "2017-04-07T01:34:41.095890432",
          "2017-04-08T01:35:40.273972480",
          "2017-04-09T01:36:39.452054784",
          "2017-04-10T01:37:38.630137088",
          "2017-04-11T01:38:37.808219136",
          "2017-04-12T01:39:36.986301440",
          "2017-04-13T01:40:36.164383488",
          "2017-04-14T01:41:35.342465792",
          "2017-04-15T01:42:34.520547840",
          "2017-04-16T01:43:33.698630144",
          "2017-04-17T01:44:32.876712448",
          "2017-04-18T01:45:32.054794496",
          "2017-04-19T01:46:31.232876800",
          "2017-04-20T01:47:30.410958848",
          "2017-04-21T01:48:29.589041152",
          "2017-04-22T01:49:28.767123200",
          "2017-04-23T01:50:27.945205504",
          "2017-04-24T01:51:27.123287552",
          "2017-04-25T01:52:26.301369856",
          "2017-04-26T01:53:25.479452160",
          "2017-04-27T01:54:24.657534208",
          "2017-04-28T01:55:23.835616512",
          "2017-04-29T01:56:23.013698560",
          "2017-04-30T01:57:22.191780864",
          "2017-05-01T01:58:21.369862912",
          "2017-05-02T01:59:20.547945216",
          "2017-05-03T02:00:19.726027520",
          "2017-05-04T02:01:18.904109568",
          "2017-05-05T02:02:18.082191872",
          "2017-05-06T02:03:17.260273920",
          "2017-05-07T02:04:16.438356224",
          "2017-05-08T02:05:15.616438272",
          "2017-05-09T02:06:14.794520576",
          "2017-05-10T02:07:13.972602624",
          "2017-05-11T02:08:13.150684928",
          "2017-05-12T02:09:12.328767232",
          "2017-05-13T02:10:11.506849280",
          "2017-05-14T02:11:10.684931584",
          "2017-05-15T02:12:09.863013632",
          "2017-05-16T02:13:09.041095936",
          "2017-05-17T02:14:08.219177984",
          "2017-05-18T02:15:07.397260288",
          "2017-05-19T02:16:06.575342592",
          "2017-05-20T02:17:05.753424640",
          "2017-05-21T02:18:04.931506944",
          "2017-05-22T02:19:04.109588992",
          "2017-05-23T02:20:03.287671296",
          "2017-05-24T02:21:02.465753344",
          "2017-05-25T02:22:01.643835648",
          "2017-05-26T02:23:00.821917696",
          "2017-05-27T02:24:00.000000000",
          "2017-05-28T02:24:59.178082304",
          "2017-05-29T02:25:58.356164352",
          "2017-05-30T02:26:57.534246656",
          "2017-05-31T02:27:56.712328704",
          "2017-06-01T02:28:55.890411008",
          "2017-06-02T02:29:55.068493056",
          "2017-06-03T02:30:54.246575360",
          "2017-06-04T02:31:53.424657408",
          "2017-06-05T02:32:52.602739712",
          "2017-06-06T02:33:51.780822016",
          "2017-06-07T02:34:50.958904064",
          "2017-06-08T02:35:50.136986368",
          "2017-06-09T02:36:49.315068416",
          "2017-06-10T02:37:48.493150720",
          "2017-06-11T02:38:47.671232768",
          "2017-06-12T02:39:46.849315072",
          "2017-06-13T02:40:46.027397376",
          "2017-06-14T02:41:45.205479424",
          "2017-06-15T02:42:44.383561728",
          "2017-06-16T02:43:43.561643776",
          "2017-06-17T02:44:42.739726080",
          "2017-06-18T02:45:41.917808128",
          "2017-06-19T02:46:41.095890432",
          "2017-06-20T02:47:40.273972480",
          "2017-06-21T02:48:39.452054784",
          "2017-06-22T02:49:38.630137088",
          "2017-06-23T02:50:37.808219136",
          "2017-06-24T02:51:36.986301440",
          "2017-06-25T02:52:36.164383488",
          "2017-06-26T02:53:35.342465792",
          "2017-06-27T02:54:34.520547840",
          "2017-06-28T02:55:33.698630144",
          "2017-06-29T02:56:32.876712448",
          "2017-06-30T02:57:32.054794496",
          "2017-07-01T02:58:31.232876800",
          "2017-07-02T02:59:30.410958848",
          "2017-07-03T03:00:29.589041152",
          "2017-07-04T03:01:28.767123200",
          "2017-07-05T03:02:27.945205504",
          "2017-07-06T03:03:27.123287552",
          "2017-07-07T03:04:26.301369856",
          "2017-07-08T03:05:25.479452160",
          "2017-07-09T03:06:24.657534208",
          "2017-07-10T03:07:23.835616512",
          "2017-07-11T03:08:23.013698560",
          "2017-07-12T03:09:22.191780864",
          "2017-07-13T03:10:21.369862912",
          "2017-07-14T03:11:20.547945216",
          "2017-07-15T03:12:19.726027520",
          "2017-07-16T03:13:18.904109568",
          "2017-07-17T03:14:18.082191872",
          "2017-07-18T03:15:17.260273920",
          "2017-07-19T03:16:16.438356224",
          "2017-07-20T03:17:15.616438272",
          "2017-07-21T03:18:14.794520576",
          "2017-07-22T03:19:13.972602624",
          "2017-07-23T03:20:13.150684928",
          "2017-07-24T03:21:12.328767232",
          "2017-07-25T03:22:11.506849280",
          "2017-07-26T03:23:10.684931584",
          "2017-07-27T03:24:09.863013632",
          "2017-07-28T03:25:09.041095936",
          "2017-07-29T03:26:08.219177984",
          "2017-07-30T03:27:07.397260288",
          "2017-07-31T03:28:06.575342592",
          "2017-08-01T03:29:05.753424640",
          "2017-08-02T03:30:04.931506944",
          "2017-08-03T03:31:04.109588992",
          "2017-08-04T03:32:03.287671296",
          "2017-08-05T03:33:02.465753344",
          "2017-08-06T03:34:01.643835648",
          "2017-08-07T03:35:00.821917696",
          "2017-08-08T03:36:00.000000000",
          "2017-08-09T03:36:59.178082304",
          "2017-08-10T03:37:58.356164352",
          "2017-08-11T03:38:57.534246656",
          "2017-08-12T03:39:56.712328704",
          "2017-08-13T03:40:55.890411008",
          "2017-08-14T03:41:55.068493056",
          "2017-08-15T03:42:54.246575360",
          "2017-08-16T03:43:53.424657408",
          "2017-08-17T03:44:52.602739712",
          "2017-08-18T03:45:51.780822016",
          "2017-08-19T03:46:50.958904064",
          "2017-08-20T03:47:50.136986368",
          "2017-08-21T03:48:49.315068416",
          "2017-08-22T03:49:48.493150720",
          "2017-08-23T03:50:47.671232768",
          "2017-08-24T03:51:46.849315072",
          "2017-08-25T03:52:46.027397376",
          "2017-08-26T03:53:45.205479424",
          "2017-08-27T03:54:44.383561728",
          "2017-08-28T03:55:43.561643776",
          "2017-08-29T03:56:42.739726080",
          "2017-08-30T03:57:41.917808128",
          "2017-08-31T03:58:41.095890432",
          "2017-09-01T03:59:40.273972480",
          "2017-09-02T04:00:39.452054784",
          "2017-09-03T04:01:38.630137088",
          "2017-09-04T04:02:37.808219136",
          "2017-09-05T04:03:36.986301440",
          "2017-09-06T04:04:36.164383488",
          "2017-09-07T04:05:35.342465792",
          "2017-09-08T04:06:34.520547840",
          "2017-09-09T04:07:33.698630144",
          "2017-09-10T04:08:32.876712448",
          "2017-09-11T04:09:32.054794496",
          "2017-09-12T04:10:31.232876800",
          "2017-09-13T04:11:30.410958848",
          "2017-09-14T04:12:29.589041152",
          "2017-09-15T04:13:28.767123200",
          "2017-09-16T04:14:27.945205504",
          "2017-09-17T04:15:27.123287552",
          "2017-09-18T04:16:26.301369856",
          "2017-09-19T04:17:25.479452160",
          "2017-09-20T04:18:24.657534208",
          "2017-09-21T04:19:23.835616512",
          "2017-09-22T04:20:23.013698560",
          "2017-09-23T04:21:22.191780864",
          "2017-09-24T04:22:21.369862912",
          "2017-09-25T04:23:20.547945216",
          "2017-09-26T04:24:19.726027520",
          "2017-09-27T04:25:18.904109568",
          "2017-09-28T04:26:18.082191872",
          "2017-09-29T04:27:17.260273920",
          "2017-09-30T04:28:16.438356224",
          "2017-10-01T04:29:15.616438272",
          "2017-10-02T04:30:14.794520576",
          "2017-10-03T04:31:13.972602624",
          "2017-10-04T04:32:13.150684928",
          "2017-10-05T04:33:12.328767232",
          "2017-10-06T04:34:11.506849280",
          "2017-10-07T04:35:10.684931584",
          "2017-10-08T04:36:09.863013632",
          "2017-10-09T04:37:09.041095936",
          "2017-10-10T04:38:08.219177984",
          "2017-10-11T04:39:07.397260288",
          "2017-10-12T04:40:06.575342592",
          "2017-10-13T04:41:05.753424640",
          "2017-10-14T04:42:04.931506944",
          "2017-10-15T04:43:04.109588992",
          "2017-10-16T04:44:03.287671296",
          "2017-10-17T04:45:02.465753344",
          "2017-10-18T04:46:01.643835648",
          "2017-10-19T04:47:00.821917696",
          "2017-10-20T04:48:00.000000000",
          "2017-10-21T04:48:59.178082304",
          "2017-10-22T04:49:58.356164352",
          "2017-10-23T04:50:57.534246656",
          "2017-10-24T04:51:56.712328704",
          "2017-10-25T04:52:55.890411008",
          "2017-10-26T04:53:55.068493056",
          "2017-10-27T04:54:54.246575360",
          "2017-10-28T04:55:53.424657408",
          "2017-10-29T04:56:52.602739712",
          "2017-10-30T04:57:51.780822016",
          "2017-10-31T04:58:50.958904064",
          "2017-11-01T04:59:50.136986368",
          "2017-11-02T05:00:49.315068416",
          "2017-11-03T05:01:48.493150720",
          "2017-11-04T05:02:47.671232768",
          "2017-11-05T05:03:46.849315072",
          "2017-11-06T05:04:46.027397376",
          "2017-11-07T05:05:45.205479424",
          "2017-11-08T05:06:44.383561728",
          "2017-11-09T05:07:43.561643776",
          "2017-11-10T05:08:42.739726080",
          "2017-11-11T05:09:41.917808128",
          "2017-11-12T05:10:41.095890432",
          "2017-11-13T05:11:40.273972480",
          "2017-11-14T05:12:39.452054784",
          "2017-11-15T05:13:38.630137088",
          "2017-11-16T05:14:37.808219136",
          "2017-11-17T05:15:36.986301440",
          "2017-11-18T05:16:36.164383488",
          "2017-11-19T05:17:35.342465792",
          "2017-11-20T05:18:34.520547840",
          "2017-11-21T05:19:33.698630144",
          "2017-11-22T05:20:32.876712448",
          "2017-11-23T05:21:32.054794496",
          "2017-11-24T05:22:31.232876800",
          "2017-11-25T05:23:30.410958848",
          "2017-11-26T05:24:29.589041152",
          "2017-11-27T05:25:28.767123200",
          "2017-11-28T05:26:27.945205504",
          "2017-11-29T05:27:27.123287552",
          "2017-11-30T05:28:26.301369856",
          "2017-12-01T05:29:25.479452160",
          "2017-12-02T05:30:24.657534208",
          "2017-12-03T05:31:23.835616512",
          "2017-12-04T05:32:23.013698560",
          "2017-12-05T05:33:22.191780864",
          "2017-12-06T05:34:21.369862912",
          "2017-12-07T05:35:20.547945216",
          "2017-12-08T05:36:19.726027520",
          "2017-12-09T05:37:18.904109568",
          "2017-12-10T05:38:18.082191872",
          "2017-12-11T05:39:17.260273920",
          "2017-12-12T05:40:16.438356224",
          "2017-12-13T05:41:15.616438272",
          "2017-12-14T05:42:14.794520576",
          "2017-12-15T05:43:13.972602624",
          "2017-12-16T05:44:13.150684928",
          "2017-12-17T05:45:12.328767232",
          "2017-12-18T05:46:11.506849280",
          "2017-12-19T05:47:10.684931584",
          "2017-12-20T05:48:09.863013632",
          "2017-12-21T05:49:09.041095936",
          "2017-12-22T05:50:08.219177984",
          "2017-12-23T05:51:07.397260288",
          "2017-12-24T05:52:06.575342592",
          "2017-12-25T05:53:05.753424640",
          "2017-12-26T05:54:04.931506944",
          "2017-12-27T05:55:04.109588992",
          "2017-12-28T05:56:03.287671296",
          "2017-12-29T05:57:02.465753344",
          "2017-12-30T05:58:01.643835648",
          "2017-12-31T05:59:00.821917696"
         ],
         "xaxis": "x2",
         "y": {
          "_inputArray": {
           "0": 136431.17954090002,
           "1": 121237.88661180755,
           "10": -988294.7147631566,
           "100": 1366941.268160748,
           "101": 1642174.397135486,
           "102": 1941030.5901490382,
           "103": 2259454.4147379077,
           "104": 2592625.4898188454,
           "105": 2935059.1250902866,
           "106": 3280744.7266589077,
           "107": 3623301.854496384,
           "108": 3956129.30022078,
           "109": 4272601.954691333,
           "11": -1246381.699252385,
           "110": 4566230.949641501,
           "111": 4830841.848046894,
           "112": 5060741.915803913,
           "113": 5250877.5977760665,
           "114": 5396965.465574125,
           "115": 5495624.507453673,
           "116": 5544462.116099161,
           "117": 5542145.361609183,
           "118": 5488440.440059635,
           "119": 5384226.483695135,
           "12": -1526384.6253611709,
           "120": 5231472.580563379,
           "121": 5033191.022242646,
           "122": 4793360.326917659,
           "123": 4516822.789305243,
           "124": 4209155.468183393,
           "125": 3876540.255853331,
           "126": 3525582.786396835,
           "127": 3163156.2389042075,
           "128": 2796222.142136837,
           "129": 2431653.9191404227,
           "13": -1824123.4947224832,
           "130": 2076060.7466836877,
           "131": 1735641.0071338357,
           "132": 1416008.354726826,
           "133": 1122077.0908977988,
           "134": 857948.1779750097,
           "135": 626821.338490979,
           "136": 430946.50230044266,
           "137": 271576.82110041846,
           "138": 148977.3769890214,
           "139": 62448.111434191924,
           "14": -2134684.52247074,
           "140": 10376.688073076964,
           "141": -9683.575142724481,
           "142": -912.7142217336692,
           "143": 32894.118556103735,
           "144": 87462.74230935003,
           "145": 158185.3120698331,
           "146": 240273.44079885885,
           "147": 328907.98170241684,
           "148": 419395.36149781005,
           "149": 507306.6062709483,
           "15": -2452540.255037239,
           "150": 588608.8504307062,
           "151": 659779.8757485664,
           "152": 717903.7571483362,
           "153": 760741.1345381007,
           "154": 786781.7951358053,
           "155": 795264.7394097663,
           "156": 786175.8574907846,
           "157": 760219.216411991,
           "158": 718763.3483115793,
           "159": 663767.7480713788,
           "16": -2771704.708701207,
           "160": 597684.5930148715,
           "161": 523348.70297365903,
           "162": 443852.77151393995,
           "163": 362413.7383892674,
           "164": 282240.1237811147,
           "165": 206390.75071288197,
           "166": 137648.5063010689,
           "167": 78399.40303630506,
           "168": 30526.779849807695,
           "169": -4676.8893625917835,
           "17": -3085903.693039844,
           "170": -26575.26712402358,
           "171": -35233.73820784133,
           "172": -31435.377874314512,
           "173": -16672.872871674113,
           "174": 6886.454774381777,
           "175": 36461.64112528851,
           "176": 68741.30906103273,
           "177": 99992.09799168403,
           "178": 126182.1468559222,
           "179": 143120.95162748278,
           "18": -3388736.9206028692,
           "180": 146609.26439405084,
           "181": 132594.7245781007,
           "182": 97328.52673048644,
           "183": 37517.022374639244,
           "184": -49535.602357959506,
           "185": -165799.04135753287,
           "186": -312409.2110705326,
           "187": -489574.3265441097,
           "188": -696524.4021818943,
           "189": -931472.9036523672,
           "19": -3673881.2225795495,
           "190": -1191616.883367912,
           "191": -1473170.4079976054,
           "192": -1771412.7505771522,
           "193": -2080799.929218871,
           "194": -2395072.3098898856,
           "195": -2707403.897720998,
           "196": -3010570.570539526,
           "197": -3297139.228475211,
           "198": -3559653.4349429095,
           "199": -3790859.476050937,
           "2": 93396.87719024604,
           "20": -3935256.5648431643,
           "200": -3983900.4132313663,
           "201": -4132522.7571507143,
           "202": -4231269.458876509,
           "203": -4275657.108954033,
           "204": -4262330.185701751,
           "205": -4189193.665579158,
           "206": -4055509.3604691867,
           "207": -3861962.020114377,
           "208": -3610685.0490611303,
           "209": -3305263.9014735715,
           "21": -4167204.52776446,
           "210": -2950671.2997381226,
           "211": -2553193.1380106905,
           "212": -2120304.615528216,
           "213": -1660515.385791308,
           "214": -1183179.1554068222,
           "215": -698305.6765040742,
           "216": -216296.84829768018,
           "217": 252276.31420014697,
           "218": 696932.3112666847,
           "219": 1107538.4336975778,
           "22": -4364652.1028086925,
           "220": 1474541.7850340612,
           "221": 1789235.8426358076,
           "222": 2043960.7379597474,
           "223": 2232304.0122726513,
           "224": 2349267.075853376,
           "225": 2391397.8159176307,
           "226": 2356884.5029062224,
           "227": 2245613.4470156594,
           "228": 2059178.9351849868,
           "229": 1800854.5151106382,
           "23": -4523261.27948113,
           "230": 1475521.5379529009,
           "231": 1089552.831424844,
           "232": 650682.4648972213,
           "233": 167796.54222232447,
           "234": -349260.6007638669,
           "235": -889924.8664624909,
           "236": -1443170.3629678674,
           "237": -1997745.827355852,
           "238": -2542479.22452347,
           "239": -3066515.06393708,
           "24": -4639550.007622461,
           "240": -3559573.7614257773,
           "241": -4012188.224203969,
           "242": -4415922.303679192,
           "243": -4763538.852433109,
           "244": -5049181.466149246,
           "245": -5268472.400660901,
           "246": -5418595.726669991,
           "247": -5498334.75687767,
           "248": -5508067.861362643,
           "249": -5449724.17697144,
           "25": -4711007.227766388,
           "250": -5326700.476730461,
           "251": -5143739.756493663,
           "252": -4906778.865972405,
           "253": -4622763.91931101,
           "254": -4299460.026914402,
           "255": -3945210.409638543,
           "256": -3568717.238155523,
           "257": -3178802.41792533,
           "258": -2784173.598530694,
           "259": -2393194.3036665265,
           "26": -4736162.054918088,
           "260": -2013691.2563394806,
           "261": -1652736.6420337239,
           "262": -1316501.102762883,
           "263": -1010113.3352970178,
           "264": -737554.0066066718,
           "265": -501599.860746207,
           "266": -303772.98251311167,
           "267": -144358.65201720837,
           "268": -22442.570402002355,
           "269": 64014.61139433329,
           "27": -4714633.670890472,
           "270": 118072.04974757406,
           "271": 143673.38333700458,
           "272": 145494.08708764013,
           "273": 128764.22106534833,
           "274": 99082.2061981611,
           "275": 62220.97453691527,
           "276": 23932.788246594977,
           "277": -10238.745210403751,
           "278": -35140.58245800777,
           "279": -46171.667173057496,
           "28": -4647148.54170895,
           "280": -39425.99125216109,
           "281": -11810.05221954183,
           "282": 38865.71149021912,
           "283": 113829.28825085903,
           "284": 213318.45509942333,
           "285": 336585.6956229665,
           "286": 481934.7941624346,
           "287": 646789.8514267677,
           "288": 827782.4743651329,
           "289": 1020883.1724091178,
           "29": -4535524.974713699,
           "290": 1221534.7170714114,
           "291": 1424811.0964015943,
           "292": 1625588.2908009023,
           "293": 1818709.4865274073,
           "294": 1999174.0828450888,
           "295": 2162298.3045688802,
           "296": 2303877.258518357,
           "297": 2420329.3810511692,
           "298": 2508821.988485742,
           "299": 2567368.585609748,
           "3": 48314.14853516561,
           "30": -4382634.1672031535,
           "300": 2594909.357983009,
           "301": 2591351.963146865,
           "302": 2557587.466749032,
           "303": 2495474.1031515035,
           "304": 2407789.356896057,
           "305": 2298158.41265476,
           "306": 2170945.2153625074,
           "307": 2031129.693159684,
           "308": 1884160.3227443933,
           "309": 1735790.298079301,
           "31": -4192318.323835007,
           "310": 1591911.6113977996,
           "311": 1458366.3732615826,
           "312": 1340775.3714094476,
           "313": 1244363.2830680422,
           "314": 1173796.1395629025,
           "315": 1133033.9601208107,
           "316": 1125205.1314193194,
           "317": 1152500.1551434095,
           "318": 1216097.516456626,
           "319": 1316115.9436081322,
           "32": -3969293.950382097,
           "320": 1451598.1318112426,
           "321": 1620527.9933980934,
           "322": 1819868.5889210429,
           "323": 2045649.804454432,
           "324": 2293064.3820309127,
           "325": 2556597.7861735434,
           "326": 2830180.3989177113,
           "327": 3107340.2924391353,
           "328": 3381399.627816981,
           "329": 3645645.895473554,
           "33": -3719025.051379427,
           "330": 3893520.0991096497,
           "331": 4118797.61879634,
           "332": 4315761.688183901,
           "333": 4479351.512281285,
           "334": 4605313.887155519,
           "335": 4690308.500029623,
           "336": 4731998.824711608,
           "337": 4729111.358690503,
           "338": 4681465.2090816945,
           "339": 4589969.437619202,
           "34": -3447573.396794098,
           "340": 4456588.964703391,
           "341": 4284280.908914762,
           "342": 4076902.4679103545,
           "343": 3839090.440037493,
           "344": 3576133.0955213527,
           "345": 3293796.325529226,
           "346": 2998164.0330391056,
           "347": 2695457.215037818,
           "348": 2391852.9127684766,
           "349": 2093302.4059861363,
           "35": -3161448.3440483953,
           "350": 1805374.489255994,
           "351": 1533077.120423768,
           "352": 1280731.4193879135,
           "353": 1051849.914729425,
           "354": 849041.2409971048,
           "355": 673953.9462101073,
           "356": 527226.8345289546,
           "357": 408493.8226403517,
           "358": 316407.34429167083,
           "359": 248694.16850188185,
           "36": -2867413.093184678,
           "360": 202238.96223976597,
           "361": 173195.76777837198,
           "362": 157116.69017153213,
           "363": 149104.34676394114,
           "364": 143975.0313471866,
           "37": -2572315.532330934,
           "38": -2282902.1147327353,
           "39": -2005638.4733897233,
           "4": -18044.755100777373,
           "40": -1746535.9983334544,
           "41": -1511006.7491397473,
           "42": -1303706.626533509,
           "43": -1128430.9006044588,
           "44": -988019.5870292861,
           "45": -884292.6687090377,
           "46": -818020.0435704968,
           "47": -788910.0592935553,
           "48": -795640.5716737461,
           "49": -835912.4397200783,
           "5": -109016.15186359415,
           "50": -906531.7014206039,
           "51": -1003517.6543840746,
           "52": -1122226.1928576601,
           "53": -1257502.1416317988,
           "54": -1403833.4873793195,
           "55": -1555518.9906443092,
           "56": -1706837.9836876758,
           "57": -1852219.8952745073,
           "58": -1986398.6099058993,
           "59": -2104572.0584525773,
           "6": -227122.10130615736,
           "60": -2202528.781120894,
           "61": -2276763.2499485994,
           "62": -2324566.782946619,
           "63": -2344090.5643024677,
           "64": -2334386.578932576,
           "65": -2295414.4077040083,
           "66": -2228022.999113125,
           "67": -2133904.264177873,
           "68": -2015519.3537697382,
           "69": -1876008.8085165035,
           "7": -373971.48157719115,
           "70": -1719068.404265778,
           "71": -1548821.9721397418,
           "72": -1369675.4472199322,
           "73": -1186162.3071555542,
           "74": -1002796.7865623342,
           "75": -823907.7131556659,
           "76": -653500.4592449731,
           "77": -495119.6816826763,
           "78": -351729.80119195126,
           "79": -225613.51403520568,
           "8": -550202.3701706879,
           "80": -118299.82259699795,
           "81": -30502.645532824783,
           "82": 37899.057389342684,
           "83": 87861.24631853684,
           "84": 121145.64759186683,
           "85": 140264.03214541677,
           "86": 148396.5721770177,
           "87": 149289.54929404674,
           "88": 147131.28621585455,
           "89": 146413.63181480105,
           "9": -755440.52128226,
           "90": 151781.74493523702,
           "91": 167876.536294559,
           "92": 199175.62732856296,
           "93": 249836.7342745404,
           "94": 323548.8656726001,
           "95": 423395.8210840726,
           "96": 551737.9517478145,
           "97": 710106.4056066689,
           "98": 899136.1424675814,
           "99": 1118510.6227683409,
           "bdata": "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",
           "dtype": "f8",
           "shape": "365"
          },
          "bdata": "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",
          "dtype": "f8"
         },
         "yaxis": "y2"
        }
       ],
       "layout": {
        "height": 400,
        "showlegend": false,
        "template": {
         "data": {
          "bar": [
           {
            "error_x": {
             "color": "#2a3f5f"
            },
            "error_y": {
             "color": "#2a3f5f"
            },
            "marker": {
             "line": {
              "color": "#E5ECF6",
              "width": 0.5
             },
             "pattern": {
              "fillmode": "overlay",
              "size": 10,
              "solidity": 0.2
             }
            },
            "type": "bar"
           }
          ],
          "barpolar": [
           {
            "marker": {
             "line": {
              "color": "#E5ECF6",
              "width": 0.5
             },
             "pattern": {
              "fillmode": "overlay",
              "size": 10,
              "solidity": 0.2
             }
            },
            "type": "barpolar"
           }
          ],
          "carpet": [
           {
            "aaxis": {
             "endlinecolor": "#2a3f5f",
             "gridcolor": "white",
             "linecolor": "white",
             "minorgridcolor": "white",
             "startlinecolor": "#2a3f5f"
            },
            "baxis": {
             "endlinecolor": "#2a3f5f",
             "gridcolor": "white",
             "linecolor": "white",
             "minorgridcolor": "white",
             "startlinecolor": "#2a3f5f"
            },
            "type": "carpet"
           }
          ],
          "choropleth": [
           {
            "colorbar": {
             "outlinewidth": 0,
             "ticks": ""
            },
            "type": "choropleth"
           }
          ],
          "contour": [
           {
            "colorbar": {
             "outlinewidth": 0,
             "ticks": ""
            },
            "colorscale": [
             [
              0,
              "#0d0887"
             ],
             [
              0.1111111111111111,
              "#46039f"
             ],
             [
              0.2222222222222222,
              "#7201a8"
             ],
             [
              0.3333333333333333,
              "#9c179e"
             ],
             [
              0.4444444444444444,
              "#bd3786"
             ],
             [
              0.5555555555555556,
              "#d8576b"
             ],
             [
              0.6666666666666666,
              "#ed7953"
             ],
             [
              0.7777777777777778,
              "#fb9f3a"
             ],
             [
              0.8888888888888888,
              "#fdca26"
             ],
             [
              1,
              "#f0f921"
             ]
            ],
            "type": "contour"
           }
          ],
          "contourcarpet": [
           {
            "colorbar": {
             "outlinewidth": 0,
             "ticks": ""
            },
            "type": "contourcarpet"
           }
          ],
          "heatmap": [
           {
            "colorbar": {
             "outlinewidth": 0,
             "ticks": ""
            },
            "colorscale": [
             [
              0,
              "#0d0887"
             ],
             [
              0.1111111111111111,
              "#46039f"
             ],
             [
              0.2222222222222222,
              "#7201a8"
             ],
             [
              0.3333333333333333,
              "#9c179e"
             ],
             [
              0.4444444444444444,
              "#bd3786"
             ],
             [
              0.5555555555555556,
              "#d8576b"
             ],
             [
              0.6666666666666666,
              "#ed7953"
             ],
             [
              0.7777777777777778,
              "#fb9f3a"
             ],
             [
              0.8888888888888888,
              "#fdca26"
             ],
             [
              1,
              "#f0f921"
             ]
            ],
            "type": "heatmap"
           }
          ],
          "histogram": [
           {
            "marker": {
             "pattern": {
              "fillmode": "overlay",
              "size": 10,
              "solidity": 0.2
             }
            },
            "type": "histogram"
           }
          ],
          "histogram2d": [
           {
            "colorbar": {
             "outlinewidth": 0,
             "ticks": ""
            },
            "colorscale": [
             [
              0,
              "#0d0887"
             ],
             [
              0.1111111111111111,
              "#46039f"
             ],
             [
              0.2222222222222222,
              "#7201a8"
             ],
             [
              0.3333333333333333,
              "#9c179e"
             ],
             [
              0.4444444444444444,
              "#bd3786"
             ],
             [
              0.5555555555555556,
              "#d8576b"
             ],
             [
              0.6666666666666666,
              "#ed7953"
             ],
             [
              0.7777777777777778,
              "#fb9f3a"
             ],
             [
              0.8888888888888888,
              "#fdca26"
             ],
             [
              1,
              "#f0f921"
             ]
            ],
            "type": "histogram2d"
           }
          ],
          "histogram2dcontour": [
           {
            "colorbar": {
             "outlinewidth": 0,
             "ticks": ""
            },
            "colorscale": [
             [
              0,
              "#0d0887"
             ],
             [
              0.1111111111111111,
              "#46039f"
             ],
             [
              0.2222222222222222,
              "#7201a8"
             ],
             [
              0.3333333333333333,
              "#9c179e"
             ],
             [
              0.4444444444444444,
              "#bd3786"
             ],
             [
              0.5555555555555556,
              "#d8576b"
             ],
             [
              0.6666666666666666,
              "#ed7953"
             ],
             [
              0.7777777777777778,
              "#fb9f3a"
             ],
             [
              0.8888888888888888,
              "#fdca26"
             ],
             [
              1,
              "#f0f921"
             ]
            ],
            "type": "histogram2dcontour"
           }
          ],
          "mesh3d": [
           {
            "colorbar": {
             "outlinewidth": 0,
             "ticks": ""
            },
            "type": "mesh3d"
           }
          ],
          "parcoords": [
           {
            "line": {
             "colorbar": {
              "outlinewidth": 0,
              "ticks": ""
             }
            },
            "type": "parcoords"
           }
          ],
          "pie": [
           {
            "automargin": true,
            "type": "pie"
           }
          ],
          "scatter": [
           {
            "fillpattern": {
             "fillmode": "overlay",
             "size": 10,
             "solidity": 0.2
            },
            "type": "scatter"
           }
          ],
          "scatter3d": [
           {
            "line": {
             "colorbar": {
              "outlinewidth": 0,
              "ticks": ""
             }
            },
            "marker": {
             "colorbar": {
              "outlinewidth": 0,
              "ticks": ""
             }
            },
            "type": "scatter3d"
           }
          ],
          "scattercarpet": [
           {
            "marker": {
             "colorbar": {
              "outlinewidth": 0,
              "ticks": ""
             }
            },
            "type": "scattercarpet"
           }
          ],
          "scattergeo": [
           {
            "marker": {
             "colorbar": {
              "outlinewidth": 0,
              "ticks": ""
             }
            },
            "type": "scattergeo"
           }
          ],
          "scattergl": [
           {
            "marker": {
             "colorbar": {
              "outlinewidth": 0,
              "ticks": ""
             }
            },
            "type": "scattergl"
           }
          ],
          "scattermap": [
           {
            "marker": {
             "colorbar": {
              "outlinewidth": 0,
              "ticks": ""
             }
            },
            "type": "scattermap"
           }
          ],
          "scattermapbox": [
           {
            "marker": {
             "colorbar": {
              "outlinewidth": 0,
              "ticks": ""
             }
            },
            "type": "scattermapbox"
           }
          ],
          "scatterpolar": [
           {
            "marker": {
             "colorbar": {
              "outlinewidth": 0,
              "ticks": ""
             }
            },
            "type": "scatterpolar"
           }
          ],
          "scatterpolargl": [
           {
            "marker": {
             "colorbar": {
              "outlinewidth": 0,
              "ticks": ""
             }
            },
            "type": "scatterpolargl"
           }
          ],
          "scatterternary": [
           {
            "marker": {
             "colorbar": {
              "outlinewidth": 0,
              "ticks": ""
             }
            },
            "type": "scatterternary"
           }
          ],
          "surface": [
           {
            "colorbar": {
             "outlinewidth": 0,
             "ticks": ""
            },
            "colorscale": [
             [
              0,
              "#0d0887"
             ],
             [
              0.1111111111111111,
              "#46039f"
             ],
             [
              0.2222222222222222,
              "#7201a8"
             ],
             [
              0.3333333333333333,
              "#9c179e"
             ],
             [
              0.4444444444444444,
              "#bd3786"
             ],
             [
              0.5555555555555556,
              "#d8576b"
             ],
             [
              0.6666666666666666,
              "#ed7953"
             ],
             [
              0.7777777777777778,
              "#fb9f3a"
             ],
             [
              0.8888888888888888,
              "#fdca26"
             ],
             [
              1,
              "#f0f921"
             ]
            ],
            "type": "surface"
           }
          ],
          "table": [
           {
            "cells": {
             "fill": {
              "color": "#EBF0F8"
             },
             "line": {
              "color": "white"
             }
            },
            "header": {
             "fill": {
              "color": "#C8D4E3"
             },
             "line": {
              "color": "white"
             }
            },
            "type": "table"
           }
          ]
         },
         "layout": {
          "annotationdefaults": {
           "arrowcolor": "#2a3f5f",
           "arrowhead": 0,
           "arrowwidth": 1
          },
          "autotypenumbers": "strict",
          "coloraxis": {
           "colorbar": {
            "outlinewidth": 0,
            "ticks": ""
           }
          },
          "colorscale": {
           "diverging": [
            [
             0,
             "#8e0152"
            ],
            [
             0.1,
             "#c51b7d"
            ],
            [
             0.2,
             "#de77ae"
            ],
            [
             0.3,
             "#f1b6da"
            ],
            [
             0.4,
             "#fde0ef"
            ],
            [
             0.5,
             "#f7f7f7"
            ],
            [
             0.6,
             "#e6f5d0"
            ],
            [
             0.7,
             "#b8e186"
            ],
            [
             0.8,
             "#7fbc41"
            ],
            [
             0.9,
             "#4d9221"
            ],
            [
             1,
             "#276419"
            ]
           ],
           "sequential": [
            [
             0,
             "#0d0887"
            ],
            [
             0.1111111111111111,
             "#46039f"
            ],
            [
             0.2222222222222222,
             "#7201a8"
            ],
            [
             0.3333333333333333,
             "#9c179e"
            ],
            [
             0.4444444444444444,
             "#bd3786"
            ],
            [
             0.5555555555555556,
             "#d8576b"
            ],
            [
             0.6666666666666666,
             "#ed7953"
            ],
            [
             0.7777777777777778,
             "#fb9f3a"
            ],
            [
             0.8888888888888888,
             "#fdca26"
            ],
            [
             1,
             "#f0f921"
            ]
           ],
           "sequentialminus": [
            [
             0,
             "#0d0887"
            ],
            [
             0.1111111111111111,
             "#46039f"
            ],
            [
             0.2222222222222222,
             "#7201a8"
            ],
            [
             0.3333333333333333,
             "#9c179e"
            ],
            [
             0.4444444444444444,
             "#bd3786"
            ],
            [
             0.5555555555555556,
             "#d8576b"
            ],
            [
             0.6666666666666666,
             "#ed7953"
            ],
            [
             0.7777777777777778,
             "#fb9f3a"
            ],
            [
             0.8888888888888888,
             "#fdca26"
            ],
            [
             1,
             "#f0f921"
            ]
           ]
          },
          "colorway": [
           "#636efa",
           "#EF553B",
           "#00cc96",
           "#ab63fa",
           "#FFA15A",
           "#19d3f3",
           "#FF6692",
           "#B6E880",
           "#FF97FF",
           "#FECB52"
          ],
          "font": {
           "color": "#2a3f5f"
          },
          "geo": {
           "bgcolor": "white",
           "lakecolor": "white",
           "landcolor": "#E5ECF6",
           "showlakes": true,
           "showland": true,
           "subunitcolor": "white"
          },
          "hoverlabel": {
           "align": "left"
          },
          "hovermode": "closest",
          "mapbox": {
           "style": "light"
          },
          "paper_bgcolor": "white",
          "plot_bgcolor": "#E5ECF6",
          "polar": {
           "angularaxis": {
            "gridcolor": "white",
            "linecolor": "white",
            "ticks": ""
           },
           "bgcolor": "#E5ECF6",
           "radialaxis": {
            "gridcolor": "white",
            "linecolor": "white",
            "ticks": ""
           }
          },
          "scene": {
           "xaxis": {
            "backgroundcolor": "#E5ECF6",
            "gridcolor": "white",
            "gridwidth": 2,
            "linecolor": "white",
            "showbackground": true,
            "ticks": "",
            "zerolinecolor": "white"
           },
           "yaxis": {
            "backgroundcolor": "#E5ECF6",
            "gridcolor": "white",
            "gridwidth": 2,
            "linecolor": "white",
            "showbackground": true,
            "ticks": "",
            "zerolinecolor": "white"
           },
           "zaxis": {
            "backgroundcolor": "#E5ECF6",
            "gridcolor": "white",
            "gridwidth": 2,
            "linecolor": "white",
            "showbackground": true,
            "ticks": "",
            "zerolinecolor": "white"
           }
          },
          "shapedefaults": {
           "line": {
            "color": "#2a3f5f"
           }
          },
          "ternary": {
           "aaxis": {
            "gridcolor": "white",
            "linecolor": "white",
            "ticks": ""
           },
           "baxis": {
            "gridcolor": "white",
            "linecolor": "white",
            "ticks": ""
           },
           "bgcolor": "#E5ECF6",
           "caxis": {
            "gridcolor": "white",
            "linecolor": "white",
            "ticks": ""
           }
          },
          "title": {
           "x": 0.05
          },
          "xaxis": {
           "automargin": true,
           "gridcolor": "white",
           "linecolor": "white",
           "ticks": "",
           "title": {
            "standoff": 15
           },
           "zerolinecolor": "white",
           "zerolinewidth": 2
          },
          "yaxis": {
           "automargin": true,
           "gridcolor": "white",
           "linecolor": "white",
           "ticks": "",
           "title": {
            "standoff": 15
           },
           "zerolinecolor": "white",
           "zerolinewidth": 2
          }
         }
        },
        "width": 900,
        "xaxis": {
         "anchor": "y",
         "domain": [
          0,
          1
         ],
         "range": [
          "2013-01-03T04:48:00",
          "2018-03-27T19:12:00"
         ],
         "type": "date"
        },
        "xaxis2": {
         "anchor": "y2",
         "domain": [
          0,
          1
         ],
         "range": [
          "2016-12-13T18:54:02.958904",
          "2018-01-18T11:04:57.863013"
         ],
         "tickformat": "%B %e",
         "type": "date"
        },
        "yaxis": {
         "anchor": "x",
         "autorange": true,
         "domain": [
          0.575,
          1
         ],
         "range": [
          -71065.03266947373,
          -28146.55090805101
         ],
         "rangemode": "normal",
         "title": {
          "text": "trend"
         },
         "type": "linear",
         "zerolinecolor": "#AAA"
        },
        "yaxis2": {
         "anchor": "x2",
         "autorange": true,
         "domain": [
          0,
          0.425
         ],
         "range": [
          -6122097.304554965,
          6158491.559291484
         ],
         "title": {
          "text": "yearly"
         },
         "type": "linear",
         "zerolinecolor": "#AAA"
        }
       }
      },
      "image/png": "[encoded data removed]"
     },
     "metadata": {},
     "output_type": "display_data"
    },
    {
     "name": "stderr",
     "output_type": "stream",
     "text": [
      "04:52:55 - cmdstanpy - INFO - Chain [1] start processing\n"
     ]
    },
    {
     "name": "stdout",
     "output_type": "stream",
     "text": [
      "Generating Prophet components for Sales...\n"
     ]
    },
    {
     "name": "stderr",
     "output_type": "stream",
     "text": [
      "04:52:59 - cmdstanpy - INFO - Chain [1] done processing\n"
     ]
    },
    {
     "name": "stdout",
     "output_type": "stream",
     "text": [
      "Saved components for Sales: prophet_components_sales.png\n"
     ]
    },
    {
     "data": {
      "application/vnd.plotly.v1+json": {
       "config": {
        "plotlyServerURL": "https://plot.ly"
       },
       "data": [
        {
         "line": {
          "color": "#0072B2",
          "width": 2
         },
         "mode": "lines",
         "name": "trend",
         "type": "scatter",
         "x": [
          "2013-03-31T00:00:00.000000000",
          "2013-06-30T00:00:00.000000000",
          "2013-09-30T00:00:00.000000000",
          "2013-12-31T00:00:00.000000000",
          "2014-03-31T00:00:00.000000000",
          "2014-06-30T00:00:00.000000000",
          "2014-09-30T00:00:00.000000000",
          "2014-12-31T00:00:00.000000000",
          "2015-03-31T00:00:00.000000000",
          "2015-06-30T00:00:00.000000000",
          "2015-09-30T00:00:00.000000000",
          "2015-12-31T00:00:00.000000000",
          "2016-03-31T00:00:00.000000000",
          "2016-06-30T00:00:00.000000000",
          "2016-09-30T00:00:00.000000000",
          "2016-12-31T00:00:00.000000000",
          "2017-03-31T00:00:00.000000000",
          "2017-06-30T00:00:00.000000000",
          "2017-09-30T00:00:00.000000000",
          "2017-12-31T00:00:00.000000000"
         ],
         "xaxis": "x",
         "y": {
          "_inputArray": {
           "0": 489888.3207582001,
           "1": 490422.8234196554,
           "10": 513723.2387815708,
           "11": 508772.4117135333,
           "12": 503517.7942230983,
           "13": 498263.1767326633,
           "14": 492950.81619288283,
           "15": 487638.4556531025,
           "16": 482441.5812120129,
           "17": 477186.9637215779,
           "18": 471874.6031817974,
           "19": 466562.242642017,
           "2": 492961.6847956426,
           "3": 495718.91711076547,
           "4": 497547.9738532616,
           "5": 502662.15779826004,
           "6": 507374.1882833703,
           "7": 512146.855434295,
           "8": 515524.69340643584,
           "9": 518297.5809069159,
           "bdata": "bdZ0SIHmHUGrhS5L2+4dQaYRO72GFh5BohUfq5tBHkEXyjnlL14eQfndlaEYrh5BF1vNwLj3HkHE9/ZrS0IfQTNWDMYSdx9BN0PZUmaiH0H2J4P07FofQYM7mKWRDR9B5NFILXe7HkFEaPm0XGkeQSwRyENbFh5BFrqW0lnDHUHuPSlTJnIdQU7U2doLIB1BNn2oaQrNHEEfJnf4CHocQQ==",
           "dtype": "f8",
           "shape": "20"
          },
          "bdata": "bdZ0SIHmHUGrhS5L2+4dQaYRO72GFh5BohUfq5tBHkEXyjnlL14eQfndlaEYrh5BF1vNwLj3HkHE9/ZrS0IfQTNWDMYSdx9BN0PZUmaiH0H2J4P07FofQYM7mKWRDR9B5NFILXe7HkFEaPm0XGkeQSwRyENbFh5BFrqW0lnDHUHuPSlTJnIdQU7U2doLIB1BNn2oaQrNHEEfJnf4CHocQQ==",
          "dtype": "f8"
         },
         "yaxis": "y"
        },
        {
         "line": {
          "color": "rgba(0, 114, 178, 0.2)",
          "width": 0
         },
         "mode": "lines",
         "name": "trend_upper",
         "type": "scatter",
         "x": [
          "2013-03-31T00:00:00.000000000",
          "2013-06-30T00:00:00.000000000",
          "2013-09-30T00:00:00.000000000",
          "2013-12-31T00:00:00.000000000",
          "2014-03-31T00:00:00.000000000",
          "2014-06-30T00:00:00.000000000",
          "2014-09-30T00:00:00.000000000",
          "2014-12-31T00:00:00.000000000",
          "2015-03-31T00:00:00.000000000",
          "2015-06-30T00:00:00.000000000",
          "2015-09-30T00:00:00.000000000",
          "2015-12-31T00:00:00.000000000",
          "2016-03-31T00:00:00.000000000",
          "2016-06-30T00:00:00.000000000",
          "2016-09-30T00:00:00.000000000",
          "2016-12-31T00:00:00.000000000",
          "2017-03-31T00:00:00.000000000",
          "2017-06-30T00:00:00.000000000",
          "2017-09-30T00:00:00.000000000",
          "2017-12-31T00:00:00.000000000"
         ],
         "xaxis": "x",
         "y": {
          "_inputArray": {
           "0": 489888.3207582001,
           "1": 490422.8234196554,
           "10": 513723.2387815708,
           "11": 508772.4117135333,
           "12": 503517.7942230983,
           "13": 498263.1767326633,
           "14": 492950.81619288283,
           "15": 487638.4556531025,
           "16": 483389.21419903805,
           "17": 480229.205250545,
           "18": 477811.1197561151,
           "19": 476304.70107911463,
           "2": 492961.6847956426,
           "3": 495718.91711076547,
           "4": 497547.9738532616,
           "5": 502662.15779826004,
           "6": 507374.1882833703,
           "7": 512146.855434295,
           "8": 515524.69340643584,
           "9": 518297.5809069159,
           "bdata": "bdZ0SIHmHUGrhS5L2+4dQaYRO72GFh5BohUfq5tBHkEXyjnlL14eQfndlaEYrh5BF1vNwLj3HkHE9/ZrS0IfQTNWDMYSdx9BN0PZUmaiH0H2J4P07FofQYM7mKWRDR9B5NFILXe7HkFEaPm0XGkeQSwRyENbFh5BFrqW0lnDHUEd/lbb9IAdQekyLdKUTx1B11iheswpHUH1rufNQhIdQQ==",
           "dtype": "f8",
           "shape": "20"
          },
          "bdata": "bdZ0SIHmHUGrhS5L2+4dQaYRO72GFh5BohUfq5tBHkEXyjnlL14eQfndlaEYrh5BF1vNwLj3HkHE9/ZrS0IfQTNWDMYSdx9BN0PZUmaiH0H2J4P07FofQYM7mKWRDR9B5NFILXe7HkFEaPm0XGkeQSwRyENbFh5BFrqW0lnDHUEd/lbb9IAdQekyLdKUTx1B11iheswpHUH1rufNQhIdQQ==",
          "dtype": "f8"
         },
         "yaxis": "y"
        },
        {
         "fill": "tonexty",
         "fillcolor": "rgba(0, 114, 178, 0.2)",
         "line": {
          "color": "rgba(0, 114, 178, 0.2)",
          "width": 0
         },
         "mode": "lines",
         "name": "trend_lower",
         "type": "scatter",
         "x": [
          "2013-03-31T00:00:00.000000000",
          "2013-06-30T00:00:00.000000000",
          "2013-09-30T00:00:00.000000000",
          "2013-12-31T00:00:00.000000000",
          "2014-03-31T00:00:00.000000000",
          "2014-06-30T00:00:00.000000000",
          "2014-09-30T00:00:00.000000000",
          "2014-12-31T00:00:00.000000000",
          "2015-03-31T00:00:00.000000000",
          "2015-06-30T00:00:00.000000000",
          "2015-09-30T00:00:00.000000000",
          "2015-12-31T00:00:00.000000000",
          "2016-03-31T00:00:00.000000000",
          "2016-06-30T00:00:00.000000000",
          "2016-09-30T00:00:00.000000000",
          "2016-12-31T00:00:00.000000000",
          "2017-03-31T00:00:00.000000000",
          "2017-06-30T00:00:00.000000000",
          "2017-09-30T00:00:00.000000000",
          "2017-12-31T00:00:00.000000000"
         ],
         "xaxis": "x",
         "y": {
          "_inputArray": {
           "0": 489888.3207582001,
           "1": 490422.8234196554,
           "10": 513723.2387815708,
           "11": 508772.4117135333,
           "12": 503517.7942230983,
           "13": 498263.1767326633,
           "14": 492950.81619288283,
           "15": 487638.4556531025,
           "16": 481500.4282973134,
           "17": 474028.85631045094,
           "18": 465798.3788226688,
           "19": 456465.82454622054,
           "2": 492961.6847956426,
           "3": 495718.91711076547,
           "4": 497547.9738532616,
           "5": 502662.15779826004,
           "6": 507374.1882833703,
           "7": 512146.855434295,
           "8": 515524.69340643584,
           "9": 518297.5809069159,
           "bdata": "bdZ0SIHmHUGrhS5L2+4dQaYRO72GFh5BohUfq5tBHkEXyjnlL14eQfndlaEYrh5BF1vNwLj3HkHE9/ZrS0IfQTNWDMYSdx9BN0PZUmaiH0H2J4P07FofQYM7mKWRDR9B5NFILXe7HkFEaPm0XGkeQSwRyENbFh5BFrqW0lnDHUEokpO2cWMdQZil3Gyz7hxB9hbqgxluHEEt2FVMR9wbQQ==",
           "dtype": "f8",
           "shape": "20"
          },
          "bdata": "bdZ0SIHmHUGrhS5L2+4dQaYRO72GFh5BohUfq5tBHkEXyjnlL14eQfndlaEYrh5BF1vNwLj3HkHE9/ZrS0IfQTNWDMYSdx9BN0PZUmaiH0H2J4P07FofQYM7mKWRDR9B5NFILXe7HkFEaPm0XGkeQSwRyENbFh5BFrqW0lnDHUEokpO2cWMdQZil3Gyz7hxB9hbqgxluHEEt2FVMR9wbQQ==",
          "dtype": "f8"
         },
         "yaxis": "y"
        },
        {
         "line": {
          "color": "#0072B2",
          "width": 2
         },
         "mode": "lines",
         "name": "yearly",
         "type": "scatter",
         "x": [
          "2017-01-01T00:00:00.000000000",
          "2017-01-02T00:00:59.178082304",
          "2017-01-03T00:01:58.356164352",
          "2017-01-04T00:02:57.534246656",
          "2017-01-05T00:03:56.712328704",
          "2017-01-06T00:04:55.890411008",
          "2017-01-07T00:05:55.068493056",
          "2017-01-08T00:06:54.246575360",
          "2017-01-09T00:07:53.424657408",
          "2017-01-10T00:08:52.602739712",
          "2017-01-11T00:09:51.780822016",
          "2017-01-12T00:10:50.958904064",
          "2017-01-13T00:11:50.136986368",
          "2017-01-14T00:12:49.315068416",
          "2017-01-15T00:13:48.493150720",
          "2017-01-16T00:14:47.671232768",
          "2017-01-17T00:15:46.849315072",
          "2017-01-18T00:16:46.027397376",
          "2017-01-19T00:17:45.205479424",
          "2017-01-20T00:18:44.383561728",
          "2017-01-21T00:19:43.561643776",
          "2017-01-22T00:20:42.739726080",
          "2017-01-23T00:21:41.917808128",
          "2017-01-24T00:22:41.095890432",
          "2017-01-25T00:23:40.273972480",
          "2017-01-26T00:24:39.452054784",
          "2017-01-27T00:25:38.630137088",
          "2017-01-28T00:26:37.808219136",
          "2017-01-29T00:27:36.986301440",
          "2017-01-30T00:28:36.164383488",
          "2017-01-31T00:29:35.342465792",
          "2017-02-01T00:30:34.520547840",
          "2017-02-02T00:31:33.698630144",
          "2017-02-03T00:32:32.876712448",
          "2017-02-04T00:33:32.054794496",
          "2017-02-05T00:34:31.232876800",
          "2017-02-06T00:35:30.410958848",
          "2017-02-07T00:36:29.589041152",
          "2017-02-08T00:37:28.767123200",
          "2017-02-09T00:38:27.945205504",
          "2017-02-10T00:39:27.123287552",
          "2017-02-11T00:40:26.301369856",
          "2017-02-12T00:41:25.479452160",
          "2017-02-13T00:42:24.657534208",
          "2017-02-14T00:43:23.835616512",
          "2017-02-15T00:44:23.013698560",
          "2017-02-16T00:45:22.191780864",
          "2017-02-17T00:46:21.369862912",
          "2017-02-18T00:47:20.547945216",
          "2017-02-19T00:48:19.726027520",
          "2017-02-20T00:49:18.904109568",
          "2017-02-21T00:50:18.082191872",
          "2017-02-22T00:51:17.260273920",
          "2017-02-23T00:52:16.438356224",
          "2017-02-24T00:53:15.616438272",
          "2017-02-25T00:54:14.794520576",
          "2017-02-26T00:55:13.972602624",
          "2017-02-27T00:56:13.150684928",
          "2017-02-28T00:57:12.328767232",
          "2017-03-01T00:58:11.506849280",
          "2017-03-02T00:59:10.684931584",
          "2017-03-03T01:00:09.863013632",
          "2017-03-04T01:01:09.041095936",
          "2017-03-05T01:02:08.219177984",
          "2017-03-06T01:03:07.397260288",
          "2017-03-07T01:04:06.575342592",
          "2017-03-08T01:05:05.753424640",
          "2017-03-09T01:06:04.931506944",
          "2017-03-10T01:07:04.109588992",
          "2017-03-11T01:08:03.287671296",
          "2017-03-12T01:09:02.465753344",
          "2017-03-13T01:10:01.643835648",
          "2017-03-14T01:11:00.821917696",
          "2017-03-15T01:12:00.000000000",
          "2017-03-16T01:12:59.178082304",
          "2017-03-17T01:13:58.356164352",
          "2017-03-18T01:14:57.534246656",
          "2017-03-19T01:15:56.712328704",
          "2017-03-20T01:16:55.890411008",
          "2017-03-21T01:17:55.068493056",
          "2017-03-22T01:18:54.246575360",
          "2017-03-23T01:19:53.424657408",
          "2017-03-24T01:20:52.602739712",
          "2017-03-25T01:21:51.780822016",
          "2017-03-26T01:22:50.958904064",
          "2017-03-27T01:23:50.136986368",
          "2017-03-28T01:24:49.315068416",
          "2017-03-29T01:25:48.493150720",
          "2017-03-30T01:26:47.671232768",
          "2017-03-31T01:27:46.849315072",
          "2017-04-01T01:28:46.027397376",
          "2017-04-02T01:29:45.205479424",
          "2017-04-03T01:30:44.383561728",
          "2017-04-04T01:31:43.561643776",
          "2017-04-05T01:32:42.739726080",
          "2017-04-06T01:33:41.917808128",
          "2017-04-07T01:34:41.095890432",
          "2017-04-08T01:35:40.273972480",
          "2017-04-09T01:36:39.452054784",
          "2017-04-10T01:37:38.630137088",
          "2017-04-11T01:38:37.808219136",
          "2017-04-12T01:39:36.986301440",
          "2017-04-13T01:40:36.164383488",
          "2017-04-14T01:41:35.342465792",
          "2017-04-15T01:42:34.520547840",
          "2017-04-16T01:43:33.698630144",
          "2017-04-17T01:44:32.876712448",
          "2017-04-18T01:45:32.054794496",
          "2017-04-19T01:46:31.232876800",
          "2017-04-20T01:47:30.410958848",
          "2017-04-21T01:48:29.589041152",
          "2017-04-22T01:49:28.767123200",
          "2017-04-23T01:50:27.945205504",
          "2017-04-24T01:51:27.123287552",
          "2017-04-25T01:52:26.301369856",
          "2017-04-26T01:53:25.479452160",
          "2017-04-27T01:54:24.657534208",
          "2017-04-28T01:55:23.835616512",
          "2017-04-29T01:56:23.013698560",
          "2017-04-30T01:57:22.191780864",
          "2017-05-01T01:58:21.369862912",
          "2017-05-02T01:59:20.547945216",
          "2017-05-03T02:00:19.726027520",
          "2017-05-04T02:01:18.904109568",
          "2017-05-05T02:02:18.082191872",
          "2017-05-06T02:03:17.260273920",
          "2017-05-07T02:04:16.438356224",
          "2017-05-08T02:05:15.616438272",
          "2017-05-09T02:06:14.794520576",
          "2017-05-10T02:07:13.972602624",
          "2017-05-11T02:08:13.150684928",
          "2017-05-12T02:09:12.328767232",
          "2017-05-13T02:10:11.506849280",
          "2017-05-14T02:11:10.684931584",
          "2017-05-15T02:12:09.863013632",
          "2017-05-16T02:13:09.041095936",
          "2017-05-17T02:14:08.219177984",
          "2017-05-18T02:15:07.397260288",
          "2017-05-19T02:16:06.575342592",
          "2017-05-20T02:17:05.753424640",
          "2017-05-21T02:18:04.931506944",
          "2017-05-22T02:19:04.109588992",
          "2017-05-23T02:20:03.287671296",
          "2017-05-24T02:21:02.465753344",
          "2017-05-25T02:22:01.643835648",
          "2017-05-26T02:23:00.821917696",
          "2017-05-27T02:24:00.000000000",
          "2017-05-28T02:24:59.178082304",
          "2017-05-29T02:25:58.356164352",
          "2017-05-30T02:26:57.534246656",
          "2017-05-31T02:27:56.712328704",
          "2017-06-01T02:28:55.890411008",
          "2017-06-02T02:29:55.068493056",
          "2017-06-03T02:30:54.246575360",
          "2017-06-04T02:31:53.424657408",
          "2017-06-05T02:32:52.602739712",
          "2017-06-06T02:33:51.780822016",
          "2017-06-07T02:34:50.958904064",
          "2017-06-08T02:35:50.136986368",
          "2017-06-09T02:36:49.315068416",
          "2017-06-10T02:37:48.493150720",
          "2017-06-11T02:38:47.671232768",
          "2017-06-12T02:39:46.849315072",
          "2017-06-13T02:40:46.027397376",
          "2017-06-14T02:41:45.205479424",
          "2017-06-15T02:42:44.383561728",
          "2017-06-16T02:43:43.561643776",
          "2017-06-17T02:44:42.739726080",
          "2017-06-18T02:45:41.917808128",
          "2017-06-19T02:46:41.095890432",
          "2017-06-20T02:47:40.273972480",
          "2017-06-21T02:48:39.452054784",
          "2017-06-22T02:49:38.630137088",
          "2017-06-23T02:50:37.808219136",
          "2017-06-24T02:51:36.986301440",
          "2017-06-25T02:52:36.164383488",
          "2017-06-26T02:53:35.342465792",
          "2017-06-27T02:54:34.520547840",
          "2017-06-28T02:55:33.698630144",
          "2017-06-29T02:56:32.876712448",
          "2017-06-30T02:57:32.054794496",
          "2017-07-01T02:58:31.232876800",
          "2017-07-02T02:59:30.410958848",
          "2017-07-03T03:00:29.589041152",
          "2017-07-04T03:01:28.767123200",
          "2017-07-05T03:02:27.945205504",
          "2017-07-06T03:03:27.123287552",
          "2017-07-07T03:04:26.301369856",
          "2017-07-08T03:05:25.479452160",
          "2017-07-09T03:06:24.657534208",
          "2017-07-10T03:07:23.835616512",
          "2017-07-11T03:08:23.013698560",
          "2017-07-12T03:09:22.191780864",
          "2017-07-13T03:10:21.369862912",
          "2017-07-14T03:11:20.547945216",
          "2017-07-15T03:12:19.726027520",
          "2017-07-16T03:13:18.904109568",
          "2017-07-17T03:14:18.082191872",
          "2017-07-18T03:15:17.260273920",
          "2017-07-19T03:16:16.438356224",
          "2017-07-20T03:17:15.616438272",
          "2017-07-21T03:18:14.794520576",
          "2017-07-22T03:19:13.972602624",
          "2017-07-23T03:20:13.150684928",
          "2017-07-24T03:21:12.328767232",
          "2017-07-25T03:22:11.506849280",
          "2017-07-26T03:23:10.684931584",
          "2017-07-27T03:24:09.863013632",
          "2017-07-28T03:25:09.041095936",
          "2017-07-29T03:26:08.219177984",
          "2017-07-30T03:27:07.397260288",
          "2017-07-31T03:28:06.575342592",
          "2017-08-01T03:29:05.753424640",
          "2017-08-02T03:30:04.931506944",
          "2017-08-03T03:31:04.109588992",
          "2017-08-04T03:32:03.287671296",
          "2017-08-05T03:33:02.465753344",
          "2017-08-06T03:34:01.643835648",
          "2017-08-07T03:35:00.821917696",
          "2017-08-08T03:36:00.000000000",
          "2017-08-09T03:36:59.178082304",
          "2017-08-10T03:37:58.356164352",
          "2017-08-11T03:38:57.534246656",
          "2017-08-12T03:39:56.712328704",
          "2017-08-13T03:40:55.890411008",
          "2017-08-14T03:41:55.068493056",
          "2017-08-15T03:42:54.246575360",
          "2017-08-16T03:43:53.424657408",
          "2017-08-17T03:44:52.602739712",
          "2017-08-18T03:45:51.780822016",
          "2017-08-19T03:46:50.958904064",
          "2017-08-20T03:47:50.136986368",
          "2017-08-21T03:48:49.315068416",
          "2017-08-22T03:49:48.493150720",
          "2017-08-23T03:50:47.671232768",
          "2017-08-24T03:51:46.849315072",
          "2017-08-25T03:52:46.027397376",
          "2017-08-26T03:53:45.205479424",
          "2017-08-27T03:54:44.383561728",
          "2017-08-28T03:55:43.561643776",
          "2017-08-29T03:56:42.739726080",
          "2017-08-30T03:57:41.917808128",
          "2017-08-31T03:58:41.095890432",
          "2017-09-01T03:59:40.273972480",
          "2017-09-02T04:00:39.452054784",
          "2017-09-03T04:01:38.630137088",
          "2017-09-04T04:02:37.808219136",
          "2017-09-05T04:03:36.986301440",
          "2017-09-06T04:04:36.164383488",
          "2017-09-07T04:05:35.342465792",
          "2017-09-08T04:06:34.520547840",
          "2017-09-09T04:07:33.698630144",
          "2017-09-10T04:08:32.876712448",
          "2017-09-11T04:09:32.054794496",
          "2017-09-12T04:10:31.232876800",
          "2017-09-13T04:11:30.410958848",
          "2017-09-14T04:12:29.589041152",
          "2017-09-15T04:13:28.767123200",
          "2017-09-16T04:14:27.945205504",
          "2017-09-17T04:15:27.123287552",
          "2017-09-18T04:16:26.301369856",
          "2017-09-19T04:17:25.479452160",
          "2017-09-20T04:18:24.657534208",
          "2017-09-21T04:19:23.835616512",
          "2017-09-22T04:20:23.013698560",
          "2017-09-23T04:21:22.191780864",
          "2017-09-24T04:22:21.369862912",
          "2017-09-25T04:23:20.547945216",
          "2017-09-26T04:24:19.726027520",
          "2017-09-27T04:25:18.904109568",
          "2017-09-28T04:26:18.082191872",
          "2017-09-29T04:27:17.260273920",
          "2017-09-30T04:28:16.438356224",
          "2017-10-01T04:29:15.616438272",
          "2017-10-02T04:30:14.794520576",
          "2017-10-03T04:31:13.972602624",
          "2017-10-04T04:32:13.150684928",
          "2017-10-05T04:33:12.328767232",
          "2017-10-06T04:34:11.506849280",
          "2017-10-07T04:35:10.684931584",
          "2017-10-08T04:36:09.863013632",
          "2017-10-09T04:37:09.041095936",
          "2017-10-10T04:38:08.219177984",
          "2017-10-11T04:39:07.397260288",
          "2017-10-12T04:40:06.575342592",
          "2017-10-13T04:41:05.753424640",
          "2017-10-14T04:42:04.931506944",
          "2017-10-15T04:43:04.109588992",
          "2017-10-16T04:44:03.287671296",
          "2017-10-17T04:45:02.465753344",
          "2017-10-18T04:46:01.643835648",
          "2017-10-19T04:47:00.821917696",
          "2017-10-20T04:48:00.000000000",
          "2017-10-21T04:48:59.178082304",
          "2017-10-22T04:49:58.356164352",
          "2017-10-23T04:50:57.534246656",
          "2017-10-24T04:51:56.712328704",
          "2017-10-25T04:52:55.890411008",
          "2017-10-26T04:53:55.068493056",
          "2017-10-27T04:54:54.246575360",
          "2017-10-28T04:55:53.424657408",
          "2017-10-29T04:56:52.602739712",
          "2017-10-30T04:57:51.780822016",
          "2017-10-31T04:58:50.958904064",
          "2017-11-01T04:59:50.136986368",
          "2017-11-02T05:00:49.315068416",
          "2017-11-03T05:01:48.493150720",
          "2017-11-04T05:02:47.671232768",
          "2017-11-05T05:03:46.849315072",
          "2017-11-06T05:04:46.027397376",
          "2017-11-07T05:05:45.205479424",
          "2017-11-08T05:06:44.383561728",
          "2017-11-09T05:07:43.561643776",
          "2017-11-10T05:08:42.739726080",
          "2017-11-11T05:09:41.917808128",
          "2017-11-12T05:10:41.095890432",
          "2017-11-13T05:11:40.273972480",
          "2017-11-14T05:12:39.452054784",
          "2017-11-15T05:13:38.630137088",
          "2017-11-16T05:14:37.808219136",
          "2017-11-17T05:15:36.986301440",
          "2017-11-18T05:16:36.164383488",
          "2017-11-19T05:17:35.342465792",
          "2017-11-20T05:18:34.520547840",
          "2017-11-21T05:19:33.698630144",
          "2017-11-22T05:20:32.876712448",
          "2017-11-23T05:21:32.054794496",
          "2017-11-24T05:22:31.232876800",
          "2017-11-25T05:23:30.410958848",
          "2017-11-26T05:24:29.589041152",
          "2017-11-27T05:25:28.767123200",
          "2017-11-28T05:26:27.945205504",
          "2017-11-29T05:27:27.123287552",
          "2017-11-30T05:28:26.301369856",
          "2017-12-01T05:29:25.479452160",
          "2017-12-02T05:30:24.657534208",
          "2017-12-03T05:31:23.835616512",
          "2017-12-04T05:32:23.013698560",
          "2017-12-05T05:33:22.191780864",
          "2017-12-06T05:34:21.369862912",
          "2017-12-07T05:35:20.547945216",
          "2017-12-08T05:36:19.726027520",
          "2017-12-09T05:37:18.904109568",
          "2017-12-10T05:38:18.082191872",
          "2017-12-11T05:39:17.260273920",
          "2017-12-12T05:40:16.438356224",
          "2017-12-13T05:41:15.616438272",
          "2017-12-14T05:42:14.794520576",
          "2017-12-15T05:43:13.972602624",
          "2017-12-16T05:44:13.150684928",
          "2017-12-17T05:45:12.328767232",
          "2017-12-18T05:46:11.506849280",
          "2017-12-19T05:47:10.684931584",
          "2017-12-20T05:48:09.863013632",
          "2017-12-21T05:49:09.041095936",
          "2017-12-22T05:50:08.219177984",
          "2017-12-23T05:51:07.397260288",
          "2017-12-24T05:52:06.575342592",
          "2017-12-25T05:53:05.753424640",
          "2017-12-26T05:54:04.931506944",
          "2017-12-27T05:55:04.109588992",
          "2017-12-28T05:56:03.287671296",
          "2017-12-29T05:57:02.465753344",
          "2017-12-30T05:58:01.643835648",
          "2017-12-31T05:59:00.821917696"
         ],
         "xaxis": "x2",
         "y": {
          "_inputArray": {
           "0": -457006.62204079743,
           "1": -504021.85454184405,
           "10": -804770.5639047977,
           "100": 2404056.953825603,
           "101": 2764987.2042426844,
           "102": 3112507.158461466,
           "103": 3440262.906276133,
           "104": 3742592.686263869,
           "105": 4014613.2413843153,
           "106": 4252303.400887624,
           "107": 4452561.125427139,
           "108": 4613224.487375871,
           "109": 4733090.32503658,
           "11": -806147.9891645153,
           "110": 4811884.863484865,
           "111": 4850223.601281286,
           "112": 4849547.593888699,
           "113": 4812040.491302151,
           "114": 4740532.666245369,
           "115": 4638388.039738652,
           "116": 4509385.910240928,
           "117": 4357595.853971896,
           "118": 4187249.1010833983,
           "119": 4002621.9951874125,
           "12": -802616.2664625095,
           "120": 3807904.8151592305,
           "121": 3607098.765814185,
           "122": 3403914.765518962,
           "123": 3201687.9262545733,
           "124": 3003305.547378996,
           "125": 2811163.718281393,
           "126": 2627119.078941925,
           "127": 2452482.0770874713,
           "128": 2288016.8460193067,
           "129": 2133960.8419894204,
           "13": -796098.0354405273,
           "130": 1990059.0473342754,
           "131": 1855620.775687438,
           "132": 1729572.3219179169,
           "133": 1610536.286175115,
           "134": 1496909.6782990608,
           "135": 1386946.9455615547,
           "136": 1278850.8812978475,
           "137": 1170849.6221901958,
           "138": 1061282.3370674292,
           "139": 948671.9567157143,
           "14": -788939.0634503725,
           "140": 831790.3445680762,
           "141": 709711.2195798113,
           "142": 581857.8597961846,
           "143": 448023.11583903397,
           "144": 308389.2519159421,
           "145": 163526.39195373465,
           "146": 14376.402939197476,
           "147": -137768.0304088036,
           "148": -291314.0568088445,
           "149": -444412.97724003263,
           "15": -783834.141984981,
           "150": -595022.2181219372,
           "151": -740972.6013059552,
           "152": -880041.88797552,
           "153": -1010022.708059141,
           "154": -1128806.3831724587,
           "155": -1234447.933179521,
           "156": -1325234.3719806469,
           "157": -1399744.2956816172,
           "158": -1456899.0661282972,
           "159": -1496000.4234547606,
           "16": -783737.4476288762,
           "160": -1516762.6826810183,
           "161": -1519325.3741842113,
           "162": -1504256.3057994493,
           "163": -1472540.1418461793,
           "164": -1425556.1954904536,
           "165": -1365040.1720391854,
           "166": -1293038.3949358359,
           "167": -1211850.89728802,
           "168": -1123966.9652813815,
           "169": -1031993.7663394003,
           "17": -791760.1882348243,
           "170": -938586.676714662,
           "171": -846367.4429715772,
           "172": -757853.8756795614,
           "173": -675387.3657044476,
           "174": -601066.7031603741,
           "175": -536688.4486884641,
           "176": -483699.8295619393,
           "177": -443154.72636446654,
           "178": -415688.8587448154,
           "179": -401503.4284836093,
           "18": -811057.712093889,
           "180": -400362.41775274026,
           "181": -411602.5400167761,
           "182": -434155.6828293575,
           "183": -466583.3442174957,
           "184": -507121.4375208988,
           "185": -553734.4542660345,
           "186": -604177.8440404276,
           "187": -656063.1714682486,
           "188": -706932.9364471604,
           "189": -754331.1547357858,
           "19": -844710.9745414538,
           "190": -795876.3055571506,
           "191": -829331.4179401838,
           "192": -852667.7310098786,
           "193": -864125.6770975093,
           "194": -862263.7045389791,
           "195": -845999.6929206649,
           "196": -814641.3279301826,
           "197": -767904.4837699538,
           "198": -705922.8000545541,
           "199": -629239.828950096,
           "2": -553289.2530601843,
           "20": -895604.2622916356,
           "200": -538794.8594162043,
           "201": -435895.3821896298,
           "202": -322180.0225058968,
           "203": -199571.25052945872,
           "204": -70228.03697389124,
           "205": 63521.45872527208,
           "206": 199236.89948170562,
           "207": 334431.7109961169,
           "208": 466639.20978676795,
           "209": 593469.3259883353,
           "21": -966303.9520333845,
           "210": 712677.0282897903,
           "211": 822210.1081124482,
           "212": 920258.009784898,
           "213": 1005291.2034705674,
           "214": 1076092.433402295,
           "215": 1131774.6045745092,
           "216": 1171796.833805145,
           "217": 1195962.1979551688,
           "218": 1204410.1823300198,
           "219": 1197598.957345503,
           "22": -1058941.816779065,
           "220": 1176280.033253738,
           "221": 1141464.712395947,
           "222": 1094385.2118998603,
           "223": 1036451.0997128703,
           "224": 969202.6935693432,
           "225": 894262.1003248934,
           "226": 813288.8405619278,
           "227": 727928.3314752275,
           "228": 639772.0740534073,
           "229": 550317.9707850011,
           "23": -1175108.180551058,
           "230": 460936.9225695356,
           "231": 372844.75134722603,
           "232": 287086.15949855925,
           "233": 204515.83936701564,
           "234": 125797.26813762731,
           "235": 51403.65331607519,
           "236": -18374.00890026417,
           "237": -83408.71757432849,
           "238": -143721.93721156326,
           "239": -199455.65742634647,
           "24": -1315749.9174327024,
           "240": -250845.47804825558,
           "241": -298191.0487673988,
           "242": -341826.50995843636,
           "243": -382089.31509777775,
           "244": -419296.16491898306,
           "245": -453717.15103232174,
           "246": -485556.8025525082,
           "247": -514939.7788908298,
           "248": -541902.6702881245,
           "249": -566390.4912000434,
           "25": -1481097.4654290944,
           "250": -588262.6236184321,
           "251": -607301.8557328284,
           "252": -623230.8902160592,
           "253": -635733.8950863591,
           "254": -644481.7841889277,
           "255": -649162.2501580454,
           "256": -649510.4225723126,
           "257": -645341.0937891441,
           "258": -636580.1427948166,
           "259": -623293.7004628323,
           "26": -1670597.000127222,
           "260": -605714.6676612508,
           "261": -584262.8069291359,
           "262": -559560.2859166366,
           "263": -532439.4611979646,
           "264": -503942.5791283711,
           "265": -475314.71488626645,
           "266": -447984.6687515545,
           "267": -423540.50356388313,
           "268": -403695.1051193719,
           "269": -390244.3812286729,
           "27": -1882869.686425818,
           "270": -385018.71868243447,
           "271": -389829.0855348731,
           "272": -406408.5509241384,
           "273": -436352.2007278469,
           "274": -481056.055544282,
           "275": -541657.5152175162,
           "276": -618980.1956719666,
           "277": -713479.3655840962,
           "278": -825203.765250427,
           "279": -953757.6876503393,
           "28": -2115692.466330606,
           "280": -1098277.7651463044,
           "281": -1257422.6952860074,
           "282": -1429366.3021387393,
           "283": -1611822.6359153024,
           "284": -1802066.4593877622,
           "285": -1996976.2420418113,
           "286": -2193088.3815350276,
           "287": -2386665.6722749234,
           "288": -2573765.334256212,
           "289": -2750338.493766819,
           "29": -2366005.908041881,
           "290": -2912314.1308559696,
           "291": -3055699.0551063204,
           "292": -3176679.121722852,
           "293": -3271713.468043192,
           "294": -3337639.470114469,
           "295": -3371757.5624357197,
           "296": -3371915.1169109717,
           "297": -3336577.951152747,
           "298": -3264887.7421466443,
           "299": -3156709.2503095423,
           "3": -602467.1748803296,
           "30": -2629932.0301378244,
           "300": -3012652.2980230264,
           "301": -2834083.9342186316,
           "302": -2623118.7262917366,
           "303": -2382591.095283727,
           "304": -2116006.1462898343,
           "305": -1827488.8656875936,
           "306": -1521685.8735228102,
           "307": -1203683.337554943,
           "308": -878897.5216621485,
           "309": -552954.6941432543,
           "31": -2902846.0933736456,
           "310": -231582.88797345854,
           "311": 79538.12067290563,
           "312": 374889.732874051,
           "313": 649243.8668534006,
           "314": 897782.7928590445,
           "315": 1116212.4565338467,
           "316": 1300851.9406637782,
           "317": 1448733.5109975154,
           "318": 1557660.2595622046,
           "319": 1626258.4439721594,
           "32": -3179443.5348481056,
           "320": 1654007.2273754543,
           "321": 1641247.298739374,
           "322": 1589169.8940856839,
           "323": 1499783.0552457862,
           "324": 1375858.950243772,
           "325": 1220862.52052421,
           "326": 1038861.0236752074,
           "327": 834430.0949906427,
           "328": 612526.5820956202,
           "329": 378373.5015569065,
           "33": -3453843.705932225,
           "330": 137329.37222056108,
           "331": -105242.5924276329,
           "332": -344106.65632265323,
           "333": -574268.2256139902,
           "334": -791107.1457776501,
           "335": -990472.0778110981,
           "336": -1168775.0051049502,
           "337": -1323068.4136896438,
           "338": -1451095.9223644794,
           "339": -1551341.0882679191,
           "34": -3719714.291064876,
           "340": -1623037.7551527915,
           "341": -1666169.266687792,
           "342": -1681445.5569741125,
           "343": -1670260.6605973863,
           "344": -1634633.455146107,
           "345": -1577130.8161961224,
           "346": -1500778.2489662087,
           "347": -1408959.4862517258,
           "348": -1305308.289446427,
           "349": -1193594.398066533,
           "35": -3970398.2703815307,
           "350": -1077614.9041096985,
           "351": -961074.7430651382,
           "352": -847485.6209759661,
           "353": -740067.1553183064,
           "354": -641659.6139147556,
           "355": -554656.0720005838,
           "356": -480939.1814267839,
           "357": -421846.9849606552,
           "358": -378151.3341453004,
           "359": -350056.4368189391,
           "36": -4199086.146383282,
           "360": -337216.1361423706,
           "361": -338769.74130443967,
           "362": -353393.37020523276,
           "363": -379367.9329663783,
           "364": -414658.85406455287,
           "37": -4398967.841496873,
           "38": -4563406.807698268,
           "39": -4686113.179066907,
           "4": -649386.6859678196,
           "40": -4761315.11523714,
           "41": -4783919.656678828,
           "42": -4749670.338110348,
           "43": -4655279.619705582,
           "44": -4498546.854744139,
           "45": -4278448.96524548,
           "46": -3995218.7769252113,
           "47": -3650368.6526357774,
           "48": -3246708.735229806,
           "49": -2788322.602562937,
           "5": -692143.9591934329,
           "50": -2280514.069536192,
           "51": -1729717.1035017928,
           "52": -1143409.5632925117,
           "53": -529936.1007170961,
           "54": 101628.99519999167,
           "55": 741670.0282430301,
           "56": 1380227.674979244,
           "57": 2007214.9781737318,
           "58": 2612603.4269733024,
           "59": 3186682.592988876,
           "6": -729183.7136674292,
           "60": 3720242.5687920623,
           "61": 4204783.640112946,
           "62": 4632708.88489081,
           "63": 4997474.077641715,
           "64": 5293763.423377659,
           "65": 5517588.184063575,
           "66": 5666381.429139347,
           "67": 5739055.538715874,
           "68": 5736025.828615816,
           "69": 5659201.631940101,
           "7": -759368.3886356658,
           "70": 5511942.276056178,
           "71": 5298979.7992932135,
           "72": 5026311.8621601565,
           "73": 4701061.911333377,
           "74": 4331334.053833959,
           "75": 3926008.4515660703,
           "76": 3494557.301203487,
           "77": 3046830.9405289083,
           "78": 2592840.6439199755,
           "79": 2142534.6973905507,
           "8": -782036.804914609,
           "80": 1705604.0720765267,
           "81": 1291244.6005153963,
           "82": 907985.1350083087,
           "83": 563507.4481584834,
           "84": 264493.33776908874,
           "85": 16494.50161235634,
           "86": -176156.12283973725,
           "87": -310431.18558597047,
           "88": -384635.1320464218,
           "89": -398414.10740181035,
           "9": -797041.6069936103,
           "90": -352730.6034242055,
           "91": -249811.72904562604,
           "92": -93063.29905187964,
           "93": 113037.0038592727,
           "94": 363070.50855363754,
           "95": 650826.9716614424,
           "96": 969472.4658139257,
           "97": 1311708.5705405273,
           "98": 1669974.6201396966,
           "99": 2036614.3252039773,
           "bdata": "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",
           "dtype": "f8",
           "shape": "365"
          },
          "bdata": "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",
          "dtype": "f8"
         },
         "yaxis": "y2"
        }
       ],
       "layout": {
        "height": 400,
        "showlegend": false,
        "template": {
         "data": {
          "bar": [
           {
            "error_x": {
             "color": "#2a3f5f"
            },
            "error_y": {
             "color": "#2a3f5f"
            },
            "marker": {
             "line": {
              "color": "#E5ECF6",
              "width": 0.5
             },
             "pattern": {
              "fillmode": "overlay",
              "size": 10,
              "solidity": 0.2
             }
            },
            "type": "bar"
           }
          ],
          "barpolar": [
           {
            "marker": {
             "line": {
              "color": "#E5ECF6",
              "width": 0.5
             },
             "pattern": {
              "fillmode": "overlay",
              "size": 10,
              "solidity": 0.2
             }
            },
            "type": "barpolar"
           }
          ],
          "carpet": [
           {
            "aaxis": {
             "endlinecolor": "#2a3f5f",
             "gridcolor": "white",
             "linecolor": "white",
             "minorgridcolor": "white",
             "startlinecolor": "#2a3f5f"
            },
            "baxis": {
             "endlinecolor": "#2a3f5f",
             "gridcolor": "white",
             "linecolor": "white",
             "minorgridcolor": "white",
             "startlinecolor": "#2a3f5f"
            },
            "type": "carpet"
           }
          ],
          "choropleth": [
           {
            "colorbar": {
             "outlinewidth": 0,
             "ticks": ""
            },
            "type": "choropleth"
           }
          ],
          "contour": [
           {
            "colorbar": {
             "outlinewidth": 0,
             "ticks": ""
            },
            "colorscale": [
             [
              0,
              "#0d0887"
             ],
             [
              0.1111111111111111,
              "#46039f"
             ],
             [
              0.2222222222222222,
              "#7201a8"
             ],
             [
              0.3333333333333333,
              "#9c179e"
             ],
             [
              0.4444444444444444,
              "#bd3786"
             ],
             [
              0.5555555555555556,
              "#d8576b"
             ],
             [
              0.6666666666666666,
              "#ed7953"
             ],
             [
              0.7777777777777778,
              "#fb9f3a"
             ],
             [
              0.8888888888888888,
              "#fdca26"
             ],
             [
              1,
              "#f0f921"
             ]
            ],
            "type": "contour"
           }
          ],
          "contourcarpet": [
           {
            "colorbar": {
             "outlinewidth": 0,
             "ticks": ""
            },
            "type": "contourcarpet"
           }
          ],
          "heatmap": [
           {
            "colorbar": {
             "outlinewidth": 0,
             "ticks": ""
            },
            "colorscale": [
             [
              0,
              "#0d0887"
             ],
             [
              0.1111111111111111,
              "#46039f"
             ],
             [
              0.2222222222222222,
              "#7201a8"
             ],
             [
              0.3333333333333333,
              "#9c179e"
             ],
             [
              0.4444444444444444,
              "#bd3786"
             ],
             [
              0.5555555555555556,
              "#d8576b"
             ],
             [
              0.6666666666666666,
              "#ed7953"
             ],
             [
              0.7777777777777778,
              "#fb9f3a"
             ],
             [
              0.8888888888888888,
              "#fdca26"
             ],
             [
              1,
              "#f0f921"
             ]
            ],
            "type": "heatmap"
           }
          ],
          "histogram": [
           {
            "marker": {
             "pattern": {
              "fillmode": "overlay",
              "size": 10,
              "solidity": 0.2
             }
            },
            "type": "histogram"
           }
          ],
          "histogram2d": [
           {
            "colorbar": {
             "outlinewidth": 0,
             "ticks": ""
            },
            "colorscale": [
             [
              0,
              "#0d0887"
             ],
             [
              0.1111111111111111,
              "#46039f"
             ],
             [
              0.2222222222222222,
              "#7201a8"
             ],
             [
              0.3333333333333333,
              "#9c179e"
             ],
             [
              0.4444444444444444,
              "#bd3786"
             ],
             [
              0.5555555555555556,
              "#d8576b"
             ],
             [
              0.6666666666666666,
              "#ed7953"
             ],
             [
              0.7777777777777778,
              "#fb9f3a"
             ],
             [
              0.8888888888888888,
              "#fdca26"
             ],
             [
              1,
              "#f0f921"
             ]
            ],
            "type": "histogram2d"
           }
          ],
          "histogram2dcontour": [
           {
            "colorbar": {
             "outlinewidth": 0,
             "ticks": ""
            },
            "colorscale": [
             [
              0,
              "#0d0887"
             ],
             [
              0.1111111111111111,
              "#46039f"
             ],
             [
              0.2222222222222222,
              "#7201a8"
             ],
             [
              0.3333333333333333,
              "#9c179e"
             ],
             [
              0.4444444444444444,
              "#bd3786"
             ],
             [
              0.5555555555555556,
              "#d8576b"
             ],
             [
              0.6666666666666666,
              "#ed7953"
             ],
             [
              0.7777777777777778,
              "#fb9f3a"
             ],
             [
              0.8888888888888888,
              "#fdca26"
             ],
             [
              1,
              "#f0f921"
             ]
            ],
            "type": "histogram2dcontour"
           }
          ],
          "mesh3d": [
           {
            "colorbar": {
             "outlinewidth": 0,
             "ticks": ""
            },
            "type": "mesh3d"
           }
          ],
          "parcoords": [
           {
            "line": {
             "colorbar": {
              "outlinewidth": 0,
              "ticks": ""
             }
            },
            "type": "parcoords"
           }
          ],
          "pie": [
           {
            "automargin": true,
            "type": "pie"
           }
          ],
          "scatter": [
           {
            "fillpattern": {
             "fillmode": "overlay",
             "size": 10,
             "solidity": 0.2
            },
            "type": "scatter"
           }
          ],
          "scatter3d": [
           {
            "line": {
             "colorbar": {
              "outlinewidth": 0,
              "ticks": ""
             }
            },
            "marker": {
             "colorbar": {
              "outlinewidth": 0,
              "ticks": ""
             }
            },
            "type": "scatter3d"
           }
          ],
          "scattercarpet": [
           {
            "marker": {
             "colorbar": {
              "outlinewidth": 0,
              "ticks": ""
             }
            },
            "type": "scattercarpet"
           }
          ],
          "scattergeo": [
           {
            "marker": {
             "colorbar": {
              "outlinewidth": 0,
              "ticks": ""
             }
            },
            "type": "scattergeo"
           }
          ],
          "scattergl": [
           {
            "marker": {
             "colorbar": {
              "outlinewidth": 0,
              "ticks": ""
             }
            },
            "type": "scattergl"
           }
          ],
          "scattermap": [
           {
            "marker": {
             "colorbar": {
              "outlinewidth": 0,
              "ticks": ""
             }
            },
            "type": "scattermap"
           }
          ],
          "scattermapbox": [
           {
            "marker": {
             "colorbar": {
              "outlinewidth": 0,
              "ticks": ""
             }
            },
            "type": "scattermapbox"
           }
          ],
          "scatterpolar": [
           {
            "marker": {
             "colorbar": {
              "outlinewidth": 0,
              "ticks": ""
             }
            },
            "type": "scatterpolar"
           }
          ],
          "scatterpolargl": [
           {
            "marker": {
             "colorbar": {
              "outlinewidth": 0,
              "ticks": ""
             }
            },
            "type": "scatterpolargl"
           }
          ],
          "scatterternary": [
           {
            "marker": {
             "colorbar": {
              "outlinewidth": 0,
              "ticks": ""
             }
            },
            "type": "scatterternary"
           }
          ],
          "surface": [
           {
            "colorbar": {
             "outlinewidth": 0,
             "ticks": ""
            },
            "colorscale": [
             [
              0,
              "#0d0887"
             ],
             [
              0.1111111111111111,
              "#46039f"
             ],
             [
              0.2222222222222222,
              "#7201a8"
             ],
             [
              0.3333333333333333,
              "#9c179e"
             ],
             [
              0.4444444444444444,
              "#bd3786"
             ],
             [
              0.5555555555555556,
              "#d8576b"
             ],
             [
              0.6666666666666666,
              "#ed7953"
             ],
             [
              0.7777777777777778,
              "#fb9f3a"
             ],
             [
              0.8888888888888888,
              "#fdca26"
             ],
             [
              1,
              "#f0f921"
             ]
            ],
            "type": "surface"
           }
          ],
          "table": [
           {
            "cells": {
             "fill": {
              "color": "#EBF0F8"
             },
             "line": {
              "color": "white"
             }
            },
            "header": {
             "fill": {
              "color": "#C8D4E3"
             },
             "line": {
              "color": "white"
             }
            },
            "type": "table"
           }
          ]
         },
         "layout": {
          "annotationdefaults": {
           "arrowcolor": "#2a3f5f",
           "arrowhead": 0,
           "arrowwidth": 1
          },
          "autotypenumbers": "strict",
          "coloraxis": {
           "colorbar": {
            "outlinewidth": 0,
            "ticks": ""
           }
          },
          "colorscale": {
           "diverging": [
            [
             0,
             "#8e0152"
            ],
            [
             0.1,
             "#c51b7d"
            ],
            [
             0.2,
             "#de77ae"
            ],
            [
             0.3,
             "#f1b6da"
            ],
            [
             0.4,
             "#fde0ef"
            ],
            [
             0.5,
             "#f7f7f7"
            ],
            [
             0.6,
             "#e6f5d0"
            ],
            [
             0.7,
             "#b8e186"
            ],
            [
             0.8,
             "#7fbc41"
            ],
            [
             0.9,
             "#4d9221"
            ],
            [
             1,
             "#276419"
            ]
           ],
           "sequential": [
            [
             0,
             "#0d0887"
            ],
            [
             0.1111111111111111,
             "#46039f"
            ],
            [
             0.2222222222222222,
             "#7201a8"
            ],
            [
             0.3333333333333333,
             "#9c179e"
            ],
            [
             0.4444444444444444,
             "#bd3786"
            ],
            [
             0.5555555555555556,
             "#d8576b"
            ],
            [
             0.6666666666666666,
             "#ed7953"
            ],
            [
             0.7777777777777778,
             "#fb9f3a"
            ],
            [
             0.8888888888888888,
             "#fdca26"
            ],
            [
             1,
             "#f0f921"
            ]
           ],
           "sequentialminus": [
            [
             0,
             "#0d0887"
            ],
            [
             0.1111111111111111,
             "#46039f"
            ],
            [
             0.2222222222222222,
             "#7201a8"
            ],
            [
             0.3333333333333333,
             "#9c179e"
            ],
            [
             0.4444444444444444,
             "#bd3786"
            ],
            [
             0.5555555555555556,
             "#d8576b"
            ],
            [
             0.6666666666666666,
             "#ed7953"
            ],
            [
             0.7777777777777778,
             "#fb9f3a"
            ],
            [
             0.8888888888888888,
             "#fdca26"
            ],
            [
             1,
             "#f0f921"
            ]
           ]
          },
          "colorway": [
           "#636efa",
           "#EF553B",
           "#00cc96",
           "#ab63fa",
           "#FFA15A",
           "#19d3f3",
           "#FF6692",
           "#B6E880",
           "#FF97FF",
           "#FECB52"
          ],
          "font": {
           "color": "#2a3f5f"
          },
          "geo": {
           "bgcolor": "white",
           "lakecolor": "white",
           "landcolor": "#E5ECF6",
           "showlakes": true,
           "showland": true,
           "subunitcolor": "white"
          },
          "hoverlabel": {
           "align": "left"
          },
          "hovermode": "closest",
          "mapbox": {
           "style": "light"
          },
          "paper_bgcolor": "white",
          "plot_bgcolor": "#E5ECF6",
          "polar": {
           "angularaxis": {
            "gridcolor": "white",
            "linecolor": "white",
            "ticks": ""
           },
           "bgcolor": "#E5ECF6",
           "radialaxis": {
            "gridcolor": "white",
            "linecolor": "white",
            "ticks": ""
           }
          },
          "scene": {
           "xaxis": {
            "backgroundcolor": "#E5ECF6",
            "gridcolor": "white",
            "gridwidth": 2,
            "linecolor": "white",
            "showbackground": true,
            "ticks": "",
            "zerolinecolor": "white"
           },
           "yaxis": {
            "backgroundcolor": "#E5ECF6",
            "gridcolor": "white",
            "gridwidth": 2,
            "linecolor": "white",
            "showbackground": true,
            "ticks": "",
            "zerolinecolor": "white"
           },
           "zaxis": {
            "backgroundcolor": "#E5ECF6",
            "gridcolor": "white",
            "gridwidth": 2,
            "linecolor": "white",
            "showbackground": true,
            "ticks": "",
            "zerolinecolor": "white"
           }
          },
          "shapedefaults": {
           "line": {
            "color": "#2a3f5f"
           }
          },
          "ternary": {
           "aaxis": {
            "gridcolor": "white",
            "linecolor": "white",
            "ticks": ""
           },
           "baxis": {
            "gridcolor": "white",
            "linecolor": "white",
            "ticks": ""
           },
           "bgcolor": "#E5ECF6",
           "caxis": {
            "gridcolor": "white",
            "linecolor": "white",
            "ticks": ""
           }
          },
          "title": {
           "x": 0.05
          },
          "xaxis": {
           "automargin": true,
           "gridcolor": "white",
           "linecolor": "white",
           "ticks": "",
           "title": {
            "standoff": 15
           },
           "zerolinecolor": "white",
           "zerolinewidth": 2
          },
          "yaxis": {
           "automargin": true,
           "gridcolor": "white",
           "linecolor": "white",
           "ticks": "",
           "title": {
            "standoff": 15
           },
           "zerolinecolor": "white",
           "zerolinewidth": 2
          }
         }
        },
        "width": 900,
        "xaxis": {
         "anchor": "y",
         "domain": [
          0,
          1
         ],
         "range": [
          "2013-01-03T04:48:00",
          "2018-03-27T19:12:00"
         ],
         "type": "date"
        },
        "xaxis2": {
         "anchor": "y2",
         "domain": [
          0,
          1
         ],
         "range": [
          "2016-12-13T18:54:02.958904",
          "2018-01-18T11:04:57.863013"
         ],
         "tickformat": "%B %e",
         "type": "date"
        },
        "yaxis": {
         "anchor": "x",
         "autorange": true,
         "domain": [
          0.575,
          1
         ],
         "range": [
          453030.72697062633,
          521732.6784825101
         ],
         "rangemode": "normal",
         "title": {
          "text": "trend"
         },
         "type": "linear",
         "zerolinecolor": "#AAA"
        },
        "yaxis2": {
         "anchor": "x2",
         "autorange": true,
         "domain": [
          0,
          0.425
         ],
         "range": [
          -5368529.389756312,
          6323665.271793357
         ],
         "title": {
          "text": "yearly"
         },
         "type": "linear",
         "zerolinecolor": "#AAA"
        }
       }
      },
      "image/png": "[encoded data removed]"
     },
     "metadata": {},
     "output_type": "display_data"
    },
    {
     "name": "stderr",
     "output_type": "stream",
     "text": [
      "04:53:00 - cmdstanpy - INFO - Chain [1] start processing\n"
     ]
    },
    {
     "name": "stdout",
     "output_type": "stream",
     "text": [
      "Generating Prophet components for Software Engineering...\n"
     ]
    },
    {
     "name": "stderr",
     "output_type": "stream",
     "text": [
      "04:53:04 - cmdstanpy - INFO - Chain [1] done processing\n"
     ]
    },
    {
     "name": "stdout",
     "output_type": "stream",
     "text": [
      "Saved components for Software Engineering: prophet_components_software_engineering.png\n"
     ]
    },
    {
     "data": {
      "application/vnd.plotly.v1+json": {
       "config": {
        "plotlyServerURL": "https://plot.ly"
       },
       "data": [
        {
         "line": {
          "color": "#0072B2",
          "width": 2
         },
         "mode": "lines",
         "name": "trend",
         "type": "scatter",
         "x": [
          "2013-03-31T00:00:00.000000000",
          "2013-06-30T00:00:00.000000000",
          "2013-09-30T00:00:00.000000000",
          "2013-12-31T00:00:00.000000000",
          "2014-03-31T00:00:00.000000000",
          "2014-06-30T00:00:00.000000000",
          "2014-09-30T00:00:00.000000000",
          "2014-12-31T00:00:00.000000000",
          "2015-03-31T00:00:00.000000000",
          "2015-06-30T00:00:00.000000000",
          "2015-09-30T00:00:00.000000000",
          "2015-12-31T00:00:00.000000000",
          "2016-03-31T00:00:00.000000000",
          "2016-06-30T00:00:00.000000000",
          "2016-09-30T00:00:00.000000000",
          "2016-12-31T00:00:00.000000000",
          "2017-03-31T00:00:00.000000000",
          "2017-06-30T00:00:00.000000000",
          "2017-09-30T00:00:00.000000000",
          "2017-12-31T00:00:00.000000000"
         ],
         "xaxis": "x",
         "y": {
          "_inputArray": {
           "0": -45204.76068767501,
           "1": -46267.230599361006,
           "10": 2584.996986006678,
           "11": 18769.65348473177,
           "12": 17909.19066350462,
           "13": 17048.727842277476,
           "14": 16178.809385652225,
           "15": 15308.890929026973,
           "16": 14457.883743197926,
           "17": 13597.420921970775,
           "18": 12727.502465345524,
           "19": 11857.584008720276,
           "2": -47217.75425437325,
           "3": -47223.854607832945,
           "4": -46744.46530341003,
           "5": -48291.12373560082,
           "6": -49172.56078701605,
           "7": -50171.41212666416,
           "8": -34479.22187027768,
           "9": -16764.94971102168,
           "bdata": "1K2NV5gS5sBA6RFhZ5fmwD8R2iI4DufArYbyWPsO58AZ+sPjDtPmwNxcpPVjlOfAv5z38ZEC6MAMQiQwbX/owFOyjxnn1eDAsbwQyDxf0MCBKvN0/jGkQNmfsdJpVNJAObPUM0x90UCaxveULqbQQBT18plnmc9A9Fz2CXLmzUCUQn8e8TzMQFNpxeC1jspAM9HIUMDbyEAVOczAyijHQA==",
           "dtype": "f8",
           "shape": "20"
          },
          "bdata": "1K2NV5gS5sBA6RFhZ5fmwD8R2iI4DufArYbyWPsO58AZ+sPjDtPmwNxcpPVjlOfAv5z38ZEC6MAMQiQwbX/owFOyjxnn1eDAsbwQyDxf0MCBKvN0/jGkQNmfsdJpVNJAObPUM0x90UCaxveULqbQQBT18plnmc9A9Fz2CXLmzUCUQn8e8TzMQFNpxeC1jspAM9HIUMDbyEAVOczAyijHQA==",
          "dtype": "f8"
         },
         "yaxis": "y"
        },
        {
         "line": {
          "color": "rgba(0, 114, 178, 0.2)",
          "width": 0
         },
         "mode": "lines",
         "name": "trend_upper",
         "type": "scatter",
         "x": [
          "2013-03-31T00:00:00.000000000",
          "2013-06-30T00:00:00.000000000",
          "2013-09-30T00:00:00.000000000",
          "2013-12-31T00:00:00.000000000",
          "2014-03-31T00:00:00.000000000",
          "2014-06-30T00:00:00.000000000",
          "2014-09-30T00:00:00.000000000",
          "2014-12-31T00:00:00.000000000",
          "2015-03-31T00:00:00.000000000",
          "2015-06-30T00:00:00.000000000",
          "2015-09-30T00:00:00.000000000",
          "2015-12-31T00:00:00.000000000",
          "2016-03-31T00:00:00.000000000",
          "2016-06-30T00:00:00.000000000",
          "2016-09-30T00:00:00.000000000",
          "2016-12-31T00:00:00.000000000",
          "2017-03-31T00:00:00.000000000",
          "2017-06-30T00:00:00.000000000",
          "2017-09-30T00:00:00.000000000",
          "2017-12-31T00:00:00.000000000"
         ],
         "xaxis": "x",
         "y": {
          "_inputArray": {
           "0": -45204.76068767501,
           "1": -46267.230599361006,
           "10": 2584.996986006678,
           "11": 18769.65348473177,
           "12": 17909.19066350462,
           "13": 17048.727842277476,
           "14": 16178.809385652225,
           "15": 15308.890929026973,
           "16": 17292.322227067903,
           "17": 21999.9665856156,
           "18": 29321.895593863424,
           "19": 37815.17183321152,
           "2": -47217.75425437325,
           "3": -47223.854607832945,
           "4": -46744.46530341003,
           "5": -48291.12373560082,
           "6": -49172.56078701605,
           "7": -50171.41212666416,
           "8": -34479.22187027768,
           "9": -16764.94971102168,
           "bdata": "1K2NV5gS5sBA6RFhZ5fmwD8R2iI4DufArYbyWPsO58AZ+sPjDtPmwNxcpPVjlOfAv5z38ZEC6MAMQiQwbX/owFOyjxnn1eDAsbwQyDxf0MCBKvN0/jGkQNmfsdJpVNJAObPUM0x90UCaxveULqbQQBT18plnmc9A9Fz2CXLmzUCiR16fFOPQQPLpidz9e9VAeuxoUXmi3ED7XKh/5XbiQA==",
           "dtype": "f8",
           "shape": "20"
          },
          "bdata": "1K2NV5gS5sBA6RFhZ5fmwD8R2iI4DufArYbyWPsO58AZ+sPjDtPmwNxcpPVjlOfAv5z38ZEC6MAMQiQwbX/owFOyjxnn1eDAsbwQyDxf0MCBKvN0/jGkQNmfsdJpVNJAObPUM0x90UCaxveULqbQQBT18plnmc9A9Fz2CXLmzUCiR16fFOPQQPLpidz9e9VAeuxoUXmi3ED7XKh/5XbiQA==",
          "dtype": "f8"
         },
         "yaxis": "y"
        },
        {
         "fill": "tonexty",
         "fillcolor": "rgba(0, 114, 178, 0.2)",
         "line": {
          "color": "rgba(0, 114, 178, 0.2)",
          "width": 0
         },
         "mode": "lines",
         "name": "trend_lower",
         "type": "scatter",
         "x": [
          "2013-03-31T00:00:00.000000000",
          "2013-06-30T00:00:00.000000000",
          "2013-09-30T00:00:00.000000000",
          "2013-12-31T00:00:00.000000000",
          "2014-03-31T00:00:00.000000000",
          "2014-06-30T00:00:00.000000000",
          "2014-09-30T00:00:00.000000000",
          "2014-12-31T00:00:00.000000000",
          "2015-03-31T00:00:00.000000000",
          "2015-06-30T00:00:00.000000000",
          "2015-09-30T00:00:00.000000000",
          "2015-12-31T00:00:00.000000000",
          "2016-03-31T00:00:00.000000000",
          "2016-06-30T00:00:00.000000000",
          "2016-09-30T00:00:00.000000000",
          "2016-12-31T00:00:00.000000000",
          "2017-03-31T00:00:00.000000000",
          "2017-06-30T00:00:00.000000000",
          "2017-09-30T00:00:00.000000000",
          "2017-12-31T00:00:00.000000000"
         ],
         "xaxis": "x",
         "y": {
          "_inputArray": {
           "0": -45204.76068767501,
           "1": -46267.230599361006,
           "10": 2584.996986006678,
           "11": 18769.65348473177,
           "12": 17909.19066350462,
           "13": 17048.727842277476,
           "14": 16178.809385652225,
           "15": 15308.890929026973,
           "16": 11430.420255995901,
           "17": 4356.22821483905,
           "18": -5444.904504929398,
           "19": -15660.381482115501,
           "2": -47217.75425437325,
           "3": -47223.854607832945,
           "4": -46744.46530341003,
           "5": -48291.12373560082,
           "6": -49172.56078701605,
           "7": -50171.41212666416,
           "8": -34479.22187027768,
           "9": -16764.94971102168,
           "bdata": "1K2NV5gS5sBA6RFhZ5fmwD8R2iI4DufArYbyWPsO58AZ+sPjDtPmwNxcpPVjlOfAv5z38ZEC6MAMQiQwbX/owFOyjxnn1eDAsbwQyDxf0MCBKvN0/jGkQNmfsdJpVNJAObPUM0x90UCaxveULqbQQBT18plnmc9A9Fz2CXLmzUAsz/LKNVPGQC+mSWw6BLFA1pKijedEtcAL7WfUMJbOwA==",
           "dtype": "f8",
           "shape": "20"
          },
          "bdata": "1K2NV5gS5sBA6RFhZ5fmwD8R2iI4DufArYbyWPsO58AZ+sPjDtPmwNxcpPVjlOfAv5z38ZEC6MAMQiQwbX/owFOyjxnn1eDAsbwQyDxf0MCBKvN0/jGkQNmfsdJpVNJAObPUM0x90UCaxveULqbQQBT18plnmc9A9Fz2CXLmzUAsz/LKNVPGQC+mSWw6BLFA1pKijedEtcAL7WfUMJbOwA==",
          "dtype": "f8"
         },
         "yaxis": "y"
        },
        {
         "line": {
          "color": "#0072B2",
          "width": 2
         },
         "mode": "lines",
         "name": "yearly",
         "type": "scatter",
         "x": [
          "2017-01-01T00:00:00.000000000",
          "2017-01-02T00:00:59.178082304",
          "2017-01-03T00:01:58.356164352",
          "2017-01-04T00:02:57.534246656",
          "2017-01-05T00:03:56.712328704",
          "2017-01-06T00:04:55.890411008",
          "2017-01-07T00:05:55.068493056",
          "2017-01-08T00:06:54.246575360",
          "2017-01-09T00:07:53.424657408",
          "2017-01-10T00:08:52.602739712",
          "2017-01-11T00:09:51.780822016",
          "2017-01-12T00:10:50.958904064",
          "2017-01-13T00:11:50.136986368",
          "2017-01-14T00:12:49.315068416",
          "2017-01-15T00:13:48.493150720",
          "2017-01-16T00:14:47.671232768",
          "2017-01-17T00:15:46.849315072",
          "2017-01-18T00:16:46.027397376",
          "2017-01-19T00:17:45.205479424",
          "2017-01-20T00:18:44.383561728",
          "2017-01-21T00:19:43.561643776",
          "2017-01-22T00:20:42.739726080",
          "2017-01-23T00:21:41.917808128",
          "2017-01-24T00:22:41.095890432",
          "2017-01-25T00:23:40.273972480",
          "2017-01-26T00:24:39.452054784",
          "2017-01-27T00:25:38.630137088",
          "2017-01-28T00:26:37.808219136",
          "2017-01-29T00:27:36.986301440",
          "2017-01-30T00:28:36.164383488",
          "2017-01-31T00:29:35.342465792",
          "2017-02-01T00:30:34.520547840",
          "2017-02-02T00:31:33.698630144",
          "2017-02-03T00:32:32.876712448",
          "2017-02-04T00:33:32.054794496",
          "2017-02-05T00:34:31.232876800",
          "2017-02-06T00:35:30.410958848",
          "2017-02-07T00:36:29.589041152",
          "2017-02-08T00:37:28.767123200",
          "2017-02-09T00:38:27.945205504",
          "2017-02-10T00:39:27.123287552",
          "2017-02-11T00:40:26.301369856",
          "2017-02-12T00:41:25.479452160",
          "2017-02-13T00:42:24.657534208",
          "2017-02-14T00:43:23.835616512",
          "2017-02-15T00:44:23.013698560",
          "2017-02-16T00:45:22.191780864",
          "2017-02-17T00:46:21.369862912",
          "2017-02-18T00:47:20.547945216",
          "2017-02-19T00:48:19.726027520",
          "2017-02-20T00:49:18.904109568",
          "2017-02-21T00:50:18.082191872",
          "2017-02-22T00:51:17.260273920",
          "2017-02-23T00:52:16.438356224",
          "2017-02-24T00:53:15.616438272",
          "2017-02-25T00:54:14.794520576",
          "2017-02-26T00:55:13.972602624",
          "2017-02-27T00:56:13.150684928",
          "2017-02-28T00:57:12.328767232",
          "2017-03-01T00:58:11.506849280",
          "2017-03-02T00:59:10.684931584",
          "2017-03-03T01:00:09.863013632",
          "2017-03-04T01:01:09.041095936",
          "2017-03-05T01:02:08.219177984",
          "2017-03-06T01:03:07.397260288",
          "2017-03-07T01:04:06.575342592",
          "2017-03-08T01:05:05.753424640",
          "2017-03-09T01:06:04.931506944",
          "2017-03-10T01:07:04.109588992",
          "2017-03-11T01:08:03.287671296",
          "2017-03-12T01:09:02.465753344",
          "2017-03-13T01:10:01.643835648",
          "2017-03-14T01:11:00.821917696",
          "2017-03-15T01:12:00.000000000",
          "2017-03-16T01:12:59.178082304",
          "2017-03-17T01:13:58.356164352",
          "2017-03-18T01:14:57.534246656",
          "2017-03-19T01:15:56.712328704",
          "2017-03-20T01:16:55.890411008",
          "2017-03-21T01:17:55.068493056",
          "2017-03-22T01:18:54.246575360",
          "2017-03-23T01:19:53.424657408",
          "2017-03-24T01:20:52.602739712",
          "2017-03-25T01:21:51.780822016",
          "2017-03-26T01:22:50.958904064",
          "2017-03-27T01:23:50.136986368",
          "2017-03-28T01:24:49.315068416",
          "2017-03-29T01:25:48.493150720",
          "2017-03-30T01:26:47.671232768",
          "2017-03-31T01:27:46.849315072",
          "2017-04-01T01:28:46.027397376",
          "2017-04-02T01:29:45.205479424",
          "2017-04-03T01:30:44.383561728",
          "2017-04-04T01:31:43.561643776",
          "2017-04-05T01:32:42.739726080",
          "2017-04-06T01:33:41.917808128",
          "2017-04-07T01:34:41.095890432",
          "2017-04-08T01:35:40.273972480",
          "2017-04-09T01:36:39.452054784",
          "2017-04-10T01:37:38.630137088",
          "2017-04-11T01:38:37.808219136",
          "2017-04-12T01:39:36.986301440",
          "2017-04-13T01:40:36.164383488",
          "2017-04-14T01:41:35.342465792",
          "2017-04-15T01:42:34.520547840",
          "2017-04-16T01:43:33.698630144",
          "2017-04-17T01:44:32.876712448",
          "2017-04-18T01:45:32.054794496",
          "2017-04-19T01:46:31.232876800",
          "2017-04-20T01:47:30.410958848",
          "2017-04-21T01:48:29.589041152",
          "2017-04-22T01:49:28.767123200",
          "2017-04-23T01:50:27.945205504",
          "2017-04-24T01:51:27.123287552",
          "2017-04-25T01:52:26.301369856",
          "2017-04-26T01:53:25.479452160",
          "2017-04-27T01:54:24.657534208",
          "2017-04-28T01:55:23.835616512",
          "2017-04-29T01:56:23.013698560",
          "2017-04-30T01:57:22.191780864",
          "2017-05-01T01:58:21.369862912",
          "2017-05-02T01:59:20.547945216",
          "2017-05-03T02:00:19.726027520",
          "2017-05-04T02:01:18.904109568",
          "2017-05-05T02:02:18.082191872",
          "2017-05-06T02:03:17.260273920",
          "2017-05-07T02:04:16.438356224",
          "2017-05-08T02:05:15.616438272",
          "2017-05-09T02:06:14.794520576",
          "2017-05-10T02:07:13.972602624",
          "2017-05-11T02:08:13.150684928",
          "2017-05-12T02:09:12.328767232",
          "2017-05-13T02:10:11.506849280",
          "2017-05-14T02:11:10.684931584",
          "2017-05-15T02:12:09.863013632",
          "2017-05-16T02:13:09.041095936",
          "2017-05-17T02:14:08.219177984",
          "2017-05-18T02:15:07.397260288",
          "2017-05-19T02:16:06.575342592",
          "2017-05-20T02:17:05.753424640",
          "2017-05-21T02:18:04.931506944",
          "2017-05-22T02:19:04.109588992",
          "2017-05-23T02:20:03.287671296",
          "2017-05-24T02:21:02.465753344",
          "2017-05-25T02:22:01.643835648",
          "2017-05-26T02:23:00.821917696",
          "2017-05-27T02:24:00.000000000",
          "2017-05-28T02:24:59.178082304",
          "2017-05-29T02:25:58.356164352",
          "2017-05-30T02:26:57.534246656",
          "2017-05-31T02:27:56.712328704",
          "2017-06-01T02:28:55.890411008",
          "2017-06-02T02:29:55.068493056",
          "2017-06-03T02:30:54.246575360",
          "2017-06-04T02:31:53.424657408",
          "2017-06-05T02:32:52.602739712",
          "2017-06-06T02:33:51.780822016",
          "2017-06-07T02:34:50.958904064",
          "2017-06-08T02:35:50.136986368",
          "2017-06-09T02:36:49.315068416",
          "2017-06-10T02:37:48.493150720",
          "2017-06-11T02:38:47.671232768",
          "2017-06-12T02:39:46.849315072",
          "2017-06-13T02:40:46.027397376",
          "2017-06-14T02:41:45.205479424",
          "2017-06-15T02:42:44.383561728",
          "2017-06-16T02:43:43.561643776",
          "2017-06-17T02:44:42.739726080",
          "2017-06-18T02:45:41.917808128",
          "2017-06-19T02:46:41.095890432",
          "2017-06-20T02:47:40.273972480",
          "2017-06-21T02:48:39.452054784",
          "2017-06-22T02:49:38.630137088",
          "2017-06-23T02:50:37.808219136",
          "2017-06-24T02:51:36.986301440",
          "2017-06-25T02:52:36.164383488",
          "2017-06-26T02:53:35.342465792",
          "2017-06-27T02:54:34.520547840",
          "2017-06-28T02:55:33.698630144",
          "2017-06-29T02:56:32.876712448",
          "2017-06-30T02:57:32.054794496",
          "2017-07-01T02:58:31.232876800",
          "2017-07-02T02:59:30.410958848",
          "2017-07-03T03:00:29.589041152",
          "2017-07-04T03:01:28.767123200",
          "2017-07-05T03:02:27.945205504",
          "2017-07-06T03:03:27.123287552",
          "2017-07-07T03:04:26.301369856",
          "2017-07-08T03:05:25.479452160",
          "2017-07-09T03:06:24.657534208",
          "2017-07-10T03:07:23.835616512",
          "2017-07-11T03:08:23.013698560",
          "2017-07-12T03:09:22.191780864",
          "2017-07-13T03:10:21.369862912",
          "2017-07-14T03:11:20.547945216",
          "2017-07-15T03:12:19.726027520",
          "2017-07-16T03:13:18.904109568",
          "2017-07-17T03:14:18.082191872",
          "2017-07-18T03:15:17.260273920",
          "2017-07-19T03:16:16.438356224",
          "2017-07-20T03:17:15.616438272",
          "2017-07-21T03:18:14.794520576",
          "2017-07-22T03:19:13.972602624",
          "2017-07-23T03:20:13.150684928",
          "2017-07-24T03:21:12.328767232",
          "2017-07-25T03:22:11.506849280",
          "2017-07-26T03:23:10.684931584",
          "2017-07-27T03:24:09.863013632",
          "2017-07-28T03:25:09.041095936",
          "2017-07-29T03:26:08.219177984",
          "2017-07-30T03:27:07.397260288",
          "2017-07-31T03:28:06.575342592",
          "2017-08-01T03:29:05.753424640",
          "2017-08-02T03:30:04.931506944",
          "2017-08-03T03:31:04.109588992",
          "2017-08-04T03:32:03.287671296",
          "2017-08-05T03:33:02.465753344",
          "2017-08-06T03:34:01.643835648",
          "2017-08-07T03:35:00.821917696",
          "2017-08-08T03:36:00.000000000",
          "2017-08-09T03:36:59.178082304",
          "2017-08-10T03:37:58.356164352",
          "2017-08-11T03:38:57.534246656",
          "2017-08-12T03:39:56.712328704",
          "2017-08-13T03:40:55.890411008",
          "2017-08-14T03:41:55.068493056",
          "2017-08-15T03:42:54.246575360",
          "2017-08-16T03:43:53.424657408",
          "2017-08-17T03:44:52.602739712",
          "2017-08-18T03:45:51.780822016",
          "2017-08-19T03:46:50.958904064",
          "2017-08-20T03:47:50.136986368",
          "2017-08-21T03:48:49.315068416",
          "2017-08-22T03:49:48.493150720",
          "2017-08-23T03:50:47.671232768",
          "2017-08-24T03:51:46.849315072",
          "2017-08-25T03:52:46.027397376",
          "2017-08-26T03:53:45.205479424",
          "2017-08-27T03:54:44.383561728",
          "2017-08-28T03:55:43.561643776",
          "2017-08-29T03:56:42.739726080",
          "2017-08-30T03:57:41.917808128",
          "2017-08-31T03:58:41.095890432",
          "2017-09-01T03:59:40.273972480",
          "2017-09-02T04:00:39.452054784",
          "2017-09-03T04:01:38.630137088",
          "2017-09-04T04:02:37.808219136",
          "2017-09-05T04:03:36.986301440",
          "2017-09-06T04:04:36.164383488",
          "2017-09-07T04:05:35.342465792",
          "2017-09-08T04:06:34.520547840",
          "2017-09-09T04:07:33.698630144",
          "2017-09-10T04:08:32.876712448",
          "2017-09-11T04:09:32.054794496",
          "2017-09-12T04:10:31.232876800",
          "2017-09-13T04:11:30.410958848",
          "2017-09-14T04:12:29.589041152",
          "2017-09-15T04:13:28.767123200",
          "2017-09-16T04:14:27.945205504",
          "2017-09-17T04:15:27.123287552",
          "2017-09-18T04:16:26.301369856",
          "2017-09-19T04:17:25.479452160",
          "2017-09-20T04:18:24.657534208",
          "2017-09-21T04:19:23.835616512",
          "2017-09-22T04:20:23.013698560",
          "2017-09-23T04:21:22.191780864",
          "2017-09-24T04:22:21.369862912",
          "2017-09-25T04:23:20.547945216",
          "2017-09-26T04:24:19.726027520",
          "2017-09-27T04:25:18.904109568",
          "2017-09-28T04:26:18.082191872",
          "2017-09-29T04:27:17.260273920",
          "2017-09-30T04:28:16.438356224",
          "2017-10-01T04:29:15.616438272",
          "2017-10-02T04:30:14.794520576",
          "2017-10-03T04:31:13.972602624",
          "2017-10-04T04:32:13.150684928",
          "2017-10-05T04:33:12.328767232",
          "2017-10-06T04:34:11.506849280",
          "2017-10-07T04:35:10.684931584",
          "2017-10-08T04:36:09.863013632",
          "2017-10-09T04:37:09.041095936",
          "2017-10-10T04:38:08.219177984",
          "2017-10-11T04:39:07.397260288",
          "2017-10-12T04:40:06.575342592",
          "2017-10-13T04:41:05.753424640",
          "2017-10-14T04:42:04.931506944",
          "2017-10-15T04:43:04.109588992",
          "2017-10-16T04:44:03.287671296",
          "2017-10-17T04:45:02.465753344",
          "2017-10-18T04:46:01.643835648",
          "2017-10-19T04:47:00.821917696",
          "2017-10-20T04:48:00.000000000",
          "2017-10-21T04:48:59.178082304",
          "2017-10-22T04:49:58.356164352",
          "2017-10-23T04:50:57.534246656",
          "2017-10-24T04:51:56.712328704",
          "2017-10-25T04:52:55.890411008",
          "2017-10-26T04:53:55.068493056",
          "2017-10-27T04:54:54.246575360",
          "2017-10-28T04:55:53.424657408",
          "2017-10-29T04:56:52.602739712",
          "2017-10-30T04:57:51.780822016",
          "2017-10-31T04:58:50.958904064",
          "2017-11-01T04:59:50.136986368",
          "2017-11-02T05:00:49.315068416",
          "2017-11-03T05:01:48.493150720",
          "2017-11-04T05:02:47.671232768",
          "2017-11-05T05:03:46.849315072",
          "2017-11-06T05:04:46.027397376",
          "2017-11-07T05:05:45.205479424",
          "2017-11-08T05:06:44.383561728",
          "2017-11-09T05:07:43.561643776",
          "2017-11-10T05:08:42.739726080",
          "2017-11-11T05:09:41.917808128",
          "2017-11-12T05:10:41.095890432",
          "2017-11-13T05:11:40.273972480",
          "2017-11-14T05:12:39.452054784",
          "2017-11-15T05:13:38.630137088",
          "2017-11-16T05:14:37.808219136",
          "2017-11-17T05:15:36.986301440",
          "2017-11-18T05:16:36.164383488",
          "2017-11-19T05:17:35.342465792",
          "2017-11-20T05:18:34.520547840",
          "2017-11-21T05:19:33.698630144",
          "2017-11-22T05:20:32.876712448",
          "2017-11-23T05:21:32.054794496",
          "2017-11-24T05:22:31.232876800",
          "2017-11-25T05:23:30.410958848",
          "2017-11-26T05:24:29.589041152",
          "2017-11-27T05:25:28.767123200",
          "2017-11-28T05:26:27.945205504",
          "2017-11-29T05:27:27.123287552",
          "2017-11-30T05:28:26.301369856",
          "2017-12-01T05:29:25.479452160",
          "2017-12-02T05:30:24.657534208",
          "2017-12-03T05:31:23.835616512",
          "2017-12-04T05:32:23.013698560",
          "2017-12-05T05:33:22.191780864",
          "2017-12-06T05:34:21.369862912",
          "2017-12-07T05:35:20.547945216",
          "2017-12-08T05:36:19.726027520",
          "2017-12-09T05:37:18.904109568",
          "2017-12-10T05:38:18.082191872",
          "2017-12-11T05:39:17.260273920",
          "2017-12-12T05:40:16.438356224",
          "2017-12-13T05:41:15.616438272",
          "2017-12-14T05:42:14.794520576",
          "2017-12-15T05:43:13.972602624",
          "2017-12-16T05:44:13.150684928",
          "2017-12-17T05:45:12.328767232",
          "2017-12-18T05:46:11.506849280",
          "2017-12-19T05:47:10.684931584",
          "2017-12-20T05:48:09.863013632",
          "2017-12-21T05:49:09.041095936",
          "2017-12-22T05:50:08.219177984",
          "2017-12-23T05:51:07.397260288",
          "2017-12-24T05:52:06.575342592",
          "2017-12-25T05:53:05.753424640",
          "2017-12-26T05:54:04.931506944",
          "2017-12-27T05:55:04.109588992",
          "2017-12-28T05:56:03.287671296",
          "2017-12-29T05:57:02.465753344",
          "2017-12-30T05:58:01.643835648",
          "2017-12-31T05:59:00.821917696"
         ],
         "xaxis": "x2",
         "y": {
          "_inputArray": {
           "0": 109607.21687443067,
           "1": 115984.86790557932,
           "10": 367990.6193008143,
           "100": 757986.7859703231,
           "101": 822690.4809477186,
           "102": 875859.3618269265,
           "103": 914655.6317597668,
           "104": 936403.9854486082,
           "105": 938641.1661585355,
           "106": 919166.6951622878,
           "107": 876089.1273717326,
           "108": 807871.0931401729,
           "109": 713364.0599475096,
           "11": 422769.4357108699,
           "110": 591841.8352318468,
           "111": 443025.31699537527,
           "112": 267100.23118471575,
           "113": 64724.457278883856,
           "114": -162960.81444416527,
           "115": -414352.2534247234,
           "116": -687391.1086537249,
           "117": -979589.7885821038,
           "118": -1288068.2480730745,
           "119": -1609580.1723824518,
           "12": 482298.3081061001,
           "120": -1940582.405638486,
           "121": -2277275.335919973,
           "122": -2615666.5096777435,
           "123": -2951635.3361463128,
           "124": -3281004.943852198,
           "125": -3599597.2424697108,
           "126": -3903326.8774434617,
           "127": -4188256.2993888822,
           "128": -4450668.085849093,
           "129": -4687130.060807139,
           "13": 546082.7200792957,
           "130": -4894557.964461599,
           "131": -5070260.724699032,
           "132": -5212002.379476866,
           "133": -5318031.528735302,
           "134": -5387114.428878501,
           "135": -5418556.092415507,
           "136": -5412210.192072751,
           "137": -5368481.87081849,
           "138": -5288316.137064459,
           "139": -5173178.585076004,
           "14": 613575.6732164224,
           "140": -5025025.780311738,
           "141": -4846264.270081323,
           "142": -4639712.132328204,
           "143": -4408532.103417409,
           "144": -4156178.933774072,
           "145": -3886332.009549207,
           "146": -3602823.0366886137,
           "147": -3309578.3308788445,
           "148": -3010527.5741169904,
           "149": -2709546.3330181916,
           "15": 684198.50032079,
           "150": -2410384.852230647,
           "151": -2116603.9690419156,
           "152": -1831513.0277530444,
           "153": -1558130.5477782388,
           "154": -1299119.4225138458,
           "155": -1056763.5993955845,
           "156": -832937.0336342222,
           "157": -629085.389080196,
           "158": -446215.3482632127,
           "159": -284903.7064983238,
           "16": 757364.5900617961,
           "160": -145294.87761935848,
           "161": -27128.671578252244,
           "162": 70234.69887357649,
           "163": 147780.8433424073,
           "164": 206796.98925028063,
           "165": 248831.3658985361,
           "166": 275639.5754374353,
           "167": 289133.26537229563,
           "168": 291326.6626286467,
           "169": 284283.2327074337,
           "17": 832502.2054003216,
           "170": 270064.5000509218,
           "171": 250680.78076309877,
           "172": 228046.733812646,
           "173": 203941.71939875523,
           "174": 179976.1558993567,
           "175": 157564.2970732405,
           "176": 137905.44072170407,
           "177": 121969.99971145028,
           "178": 110495.7561104109,
           "179": 103990.16715997431,
           "18": 909071.1879782876,
           "180": 102740.00603220874,
           "181": 106827.48490575056,
           "182": 116152.07316661,
           "183": 130457.42212720707,
           "184": 149362.00821610435,
           "185": 172392.59334424895,
           "186": 199019.60328762286,
           "187": 228691.2827211818,
           "188": 260870.14941861955,
           "189": 295064.3874037614,
           "19": 986586.1048688508,
           "190": 330857.62021956855,
           "191": 367934.7304132142,
           "192": 406100.5521889452,
           "193": 445297.2068502949,
           "194": 485610.9736243945,
           "195": 527274.7781409418,
           "196": 570663.632729756,
           "197": 616284.0860622455,
           "198": 664754.7636198952,
           "199": 716786.4681204134,
           "2": 124938.77816587148,
           "20": 1064627.965649288,
           "200": 773152.0080635883,
           "201": 834654.4351494918,
           "202": 902091.587392217,
           "203": 976219.4669600015,
           "204": 1057710.348685177,
           "205": 1147119.9112411453,
           "206": 1244847.538591935,
           "207": 1351103.6613802896,
           "208": 1465881.7117753301,
           "209": 1588928.4233627776,
           "21": 1142857.141647958,
           "210": 1719733.5919653762,
           "211": 1857513.5238566918,
           "212": 2001208.450451733,
           "213": 2149486.540401359,
           "214": 2300757.729581211,
           "215": 2453186.7648605225,
           "216": 2604731.552289757,
           "217": 2753171.2236625208,
           "218": 2896149.443137333,
           "219": 3031223.086937749,
           "22": 1221022.0350103672,
           "220": 3155907.7628179844,
           "221": 3267742.1766151306,
           "222": 3364338.6164481393,
           "223": 3443441.891557461,
           "224": 3502985.642269417,
           "225": 3541146.4573207623,
           "226": 3556392.205412207,
           "227": 3547529.2294944217,
           "228": 3513738.237866122,
           "229": 3454605.095782017,
           "23": 1298965.0854053767,
           "230": 3370142.4150093356,
           "231": 3260800.3823117977,
           "232": 3127474.497686684,
           "233": 2971490.264587301,
           "234": 2794590.179518687,
           "235": 2598905.003568891,
           "236": 2386914.3244823054,
           "237": 2161411.125098996,
           "238": 1925434.0427204492,
           "239": 1682217.6865022187,
           "24": 1376620.645890871,
           "240": 1435125.941744297,
           "241": 1187584.139285723,
           "242": 943006.5271074066,
           "243": 704737.5856819948,
           "244": 475966.4593144306,
           "245": 259672.8965226815,
           "246": 58563.60501282757,
           "247": -124982.4082028708,
           "248": -288962.8186273581,
           "249": -431783.234710915,
           "25": 1454018.2810793186,
           "250": -552297.6934275508,
           "251": -649819.69805909,
           "252": -724132.4581355529,
           "253": -775486.7617890972,
           "254": -804585.5630169229,
           "255": -812563.8801933023,
           "256": -800952.7916497322,
           "257": -771637.9485284807,
           "258": -726809.610260442,
           "259": -668905.4771002296,
           "26": 1531273.5919456617,
           "260": -600552.0689073052,
           "261": -524495.7405966808,
           "262": -443538.5040473659,
           "263": -360470.5493799376,
           "264": -278003.95871114713,
           "265": -198714.3294141339,
           "266": -124977.50677085004,
           "267": -58922.03271572723,
           "268": -2384.0971697709915,
           "269": 43128.190339016066,
           "27": 1608580.3312894416,
           "270": 76461.67296156481,
           "271": 96833.5742419236,
           "272": 103840.61274994706,
           "273": 97454.01186863691,
           "274": 78006.80536979383,
           "275": 46171.306981577014,
           "276": 2927.363794011312,
           "277": -50474.40022994548,
           "278": -112561.0662485745,
           "279": -181686.2537081543,
           "28": 1686198.7090189226,
           "280": -256085.09412588962,
           "281": -333931.9747792593,
           "282": -413394.4406141879,
           "283": -492695.3073462862,
           "284": -570163.3365704741,
           "285": -644284.4915629283,
           "286": -713747.0615799254,
           "287": -777481.0321551627,
           "288": -834686.3932963493,
           "289": -884860.4696695695,
           "29": 1764442.089479109,
           "290": -927808.9017338068,
           "291": -963651.1984356004,
           "292": -992816.4980764181,
           "293": -1016028.5985339972,
           "294": -1034285.5133797426,
           "295": -1048827.4861827337,
           "296": -1061099.545940901,
           "297": -1072707.486620402,
           "298": -1085369.020411078,
           "299": -1100860.537668577,
           "3": 137422.64074706667,
           "30": 1843657.085952554,
           "300": -1120963.1092431352,
           "301": -1147406.387951739,
           "302": -1181814.0046413061,
           "303": -1225651.1215471788,
           "304": -1280176.3991758244,
           "305": -1346395.6585318556,
           "306": -1425028.1798482481,
           "307": -1516474.0954376957,
           "308": -1620792.803018327,
           "309": -1737690.9194361453,
           "31": 1924211.1378225125,
           "310": -1866512.324219969,
           "311": -2006251.1033001875,
           "312": -2155560.227942423,
           "313": -2312775.5830544597,
           "314": -2475946.962229656,
           "315": -2642878.489171552,
           "316": -2811165.853001252,
           "317": -2978258.3551381957,
           "318": -3141505.781323916,
           "319": -3298217.7085311282,
           "32": 2006470.022532621,
           "320": -3445722.2933553387,
           "321": -3581426.502761588,
           "322": -3702867.223546076,
           "323": -3807775.10352192,
           "324": -3894118.300359697,
           "325": -3960148.9442435238,
           "326": -4004441.9092602087,
           "327": -4025924.09043589,
           "328": -4023900.558974732,
           "329": -3998066.8039485537,
           "33": 2090779.3962583377,
           "330": -3948515.1517401603,
           "331": -3875731.705762928,
           "332": -3780583.380180562,
           "333": -3664302.513397181,
           "334": -3528452.4477705667,
           "335": -3374896.89645576,
           "336": -3205758.09421806,
           "337": -3023368.702422417,
           "338": -2830230.594842527,
           "339": -2628949.6773799835,
           "34": 2177446.5288040773,
           "340": -2422190.3264891054,
           "341": -2212619.35207924,
           "342": -2002853.135104351,
           "343": -1795404.730493477,
           "344": -1592646.385399245,
           "345": -1396752.5252887197,
           "346": -1209672.1968277087,
           "347": -1033095.5286985822,
           "348": -868429.2676619181,
           "349": -716777.6849585257,
           "35": 2266717.6110612797,
           "350": -578939.2737392783,
           "351": -455393.31706233934,
           "352": -346311.2888659088,
           "353": -251566.03068957702,
           "354": -170748.2024362117,
           "355": -103192.83483076812,
           "356": -48001.62985169998,
           "357": -4078.819442099959,
           "358": 29834.740167972075,
           "359": 55124.29197618634,
           "36": 2358766.261346764,
           "360": 73262.90574694681,
           "361": 85772.1016303043,
           "362": 94185.2475533442,
           "363": 100010.52266122954,
           "364": 104697.56611069034,
           "37": 2453673.6853419207,
           "38": 2551415.8877884597,
           "39": 2651852.3674763776,
           "4": 154223.42436734386,
           "40": 2754718.808049607,
           "41": 2859616.82210122,
           "42": 2966018.8503936683,
           "43": 3073264.5001547085,
           "44": 3180566.135880637,
           "45": 3287017.801960373,
           "46": 3391601.1621527513,
           "47": 3493206.7216943637,
           "48": 3590645.3960368317,
           "49": 3682668.6482331906,
           "5": 175954.26621333268,
           "50": 3767989.4067594702,
           "51": 3845305.440484071,
           "52": 3913319.583257693,
           "53": 3970769.555915523,
           "54": 4016448.966391792,
           "55": 4049232.720647552,
           "56": 4068100.8032943914,
           "57": 4072160.874415255,
           "58": 4060669.3148497664,
           "59": 4033050.599410794,
           "6": 203052.76659989104,
           "60": 3988913.647426853,
           "61": 3928065.9849609016,
           "62": 3850523.7949724686,
           "63": 3756523.512065807,
           "64": 3646520.822671446,
           "65": 3521194.8755368395,
           "66": 3381444.6347960862,
           "67": 3228382.3368099215,
           "68": 3063321.2966709635,
           "69": 2887769.8638679544,
           "7": 235782.4962212107,
           "70": 2703402.6433205567,
           "71": 2512047.421871482,
           "72": 2315659.678300081,
           "73": 2116293.8480176926,
           "74": 1916083.7247765441,
           "75": 1717197.6647117482,
           "76": 1521815.2366202043,
           "77": 1332091.175694923,
           "78": 1150120.933734743,
           "79": 977904.1234617151,
           "8": 274242.2653894882,
           "80": 817318.1109084651,
           "81": 670072.6861757863,
           "82": 537686.3094413871,
           "83": 421454.2488127259,
           "84": 322421.37890005467,
           "85": 241357.29796749967,
           "86": 178739.4829588736,
           "87": 134731.413832016,
           "88": 109174.87602512003,
           "89": 101582.20734638177,
           "9": 318376.4826209313,
           "90": 111135.05816894764,
           "91": 136687.80205555123,
           "92": 176777.9272633062,
           "93": 229641.20256403595,
           "94": 293232.78968365194,
           "95": 365253.87965597445,
           "96": 443184.54608734703,
           "97": 524316.932067988,
           "98": 605802.05295372,
           "99": 684691.4897968505,
           "bdata": "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",
           "dtype": "f8",
           "shape": "365"
          },
          "bdata": "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",
          "dtype": "f8"
         },
         "yaxis": "y2"
        }
       ],
       "layout": {
        "height": 400,
        "showlegend": false,
        "template": {
         "data": {
          "bar": [
           {
            "error_x": {
             "color": "#2a3f5f"
            },
            "error_y": {
             "color": "#2a3f5f"
            },
            "marker": {
             "line": {
              "color": "#E5ECF6",
              "width": 0.5
             },
             "pattern": {
              "fillmode": "overlay",
              "size": 10,
              "solidity": 0.2
             }
            },
            "type": "bar"
           }
          ],
          "barpolar": [
           {
            "marker": {
             "line": {
              "color": "#E5ECF6",
              "width": 0.5
             },
             "pattern": {
              "fillmode": "overlay",
              "size": 10,
              "solidity": 0.2
             }
            },
            "type": "barpolar"
           }
          ],
          "carpet": [
           {
            "aaxis": {
             "endlinecolor": "#2a3f5f",
             "gridcolor": "white",
             "linecolor": "white",
             "minorgridcolor": "white",
             "startlinecolor": "#2a3f5f"
            },
            "baxis": {
             "endlinecolor": "#2a3f5f",
             "gridcolor": "white",
             "linecolor": "white",
             "minorgridcolor": "white",
             "startlinecolor": "#2a3f5f"
            },
            "type": "carpet"
           }
          ],
          "choropleth": [
           {
            "colorbar": {
             "outlinewidth": 0,
             "ticks": ""
            },
            "type": "choropleth"
           }
          ],
          "contour": [
           {
            "colorbar": {
             "outlinewidth": 0,
             "ticks": ""
            },
            "colorscale": [
             [
              0,
              "#0d0887"
             ],
             [
              0.1111111111111111,
              "#46039f"
             ],
             [
              0.2222222222222222,
              "#7201a8"
             ],
             [
              0.3333333333333333,
              "#9c179e"
             ],
             [
              0.4444444444444444,
              "#bd3786"
             ],
             [
              0.5555555555555556,
              "#d8576b"
             ],
             [
              0.6666666666666666,
              "#ed7953"
             ],
             [
              0.7777777777777778,
              "#fb9f3a"
             ],
             [
              0.8888888888888888,
              "#fdca26"
             ],
             [
              1,
              "#f0f921"
             ]
            ],
            "type": "contour"
           }
          ],
          "contourcarpet": [
           {
            "colorbar": {
             "outlinewidth": 0,
             "ticks": ""
            },
            "type": "contourcarpet"
           }
          ],
          "heatmap": [
           {
            "colorbar": {
             "outlinewidth": 0,
             "ticks": ""
            },
            "colorscale": [
             [
              0,
              "#0d0887"
             ],
             [
              0.1111111111111111,
              "#46039f"
             ],
             [
              0.2222222222222222,
              "#7201a8"
             ],
             [
              0.3333333333333333,
              "#9c179e"
             ],
             [
              0.4444444444444444,
              "#bd3786"
             ],
             [
              0.5555555555555556,
              "#d8576b"
             ],
             [
              0.6666666666666666,
              "#ed7953"
             ],
             [
              0.7777777777777778,
              "#fb9f3a"
             ],
             [
              0.8888888888888888,
              "#fdca26"
             ],
             [
              1,
              "#f0f921"
             ]
            ],
            "type": "heatmap"
           }
          ],
          "histogram": [
           {
            "marker": {
             "pattern": {
              "fillmode": "overlay",
              "size": 10,
              "solidity": 0.2
             }
            },
            "type": "histogram"
           }
          ],
          "histogram2d": [
           {
            "colorbar": {
             "outlinewidth": 0,
             "ticks": ""
            },
            "colorscale": [
             [
              0,
              "#0d0887"
             ],
             [
              0.1111111111111111,
              "#46039f"
             ],
             [
              0.2222222222222222,
              "#7201a8"
             ],
             [
              0.3333333333333333,
              "#9c179e"
             ],
             [
              0.4444444444444444,
              "#bd3786"
             ],
             [
              0.5555555555555556,
              "#d8576b"
             ],
             [
              0.6666666666666666,
              "#ed7953"
             ],
             [
              0.7777777777777778,
              "#fb9f3a"
             ],
             [
              0.8888888888888888,
              "#fdca26"
             ],
             [
              1,
              "#f0f921"
             ]
            ],
            "type": "histogram2d"
           }
          ],
          "histogram2dcontour": [
           {
            "colorbar": {
             "outlinewidth": 0,
             "ticks": ""
            },
            "colorscale": [
             [
              0,
              "#0d0887"
             ],
             [
              0.1111111111111111,
              "#46039f"
             ],
             [
              0.2222222222222222,
              "#7201a8"
             ],
             [
              0.3333333333333333,
              "#9c179e"
             ],
             [
              0.4444444444444444,
              "#bd3786"
             ],
             [
              0.5555555555555556,
              "#d8576b"
             ],
             [
              0.6666666666666666,
              "#ed7953"
             ],
             [
              0.7777777777777778,
              "#fb9f3a"
             ],
             [
              0.8888888888888888,
              "#fdca26"
             ],
             [
              1,
              "#f0f921"
             ]
            ],
            "type": "histogram2dcontour"
           }
          ],
          "mesh3d": [
           {
            "colorbar": {
             "outlinewidth": 0,
             "ticks": ""
            },
            "type": "mesh3d"
           }
          ],
          "parcoords": [
           {
            "line": {
             "colorbar": {
              "outlinewidth": 0,
              "ticks": ""
             }
            },
            "type": "parcoords"
           }
          ],
          "pie": [
           {
            "automargin": true,
            "type": "pie"
           }
          ],
          "scatter": [
           {
            "fillpattern": {
             "fillmode": "overlay",
             "size": 10,
             "solidity": 0.2
            },
            "type": "scatter"
           }
          ],
          "scatter3d": [
           {
            "line": {
             "colorbar": {
              "outlinewidth": 0,
              "ticks": ""
             }
            },
            "marker": {
             "colorbar": {
              "outlinewidth": 0,
              "ticks": ""
             }
            },
            "type": "scatter3d"
           }
          ],
          "scattercarpet": [
           {
            "marker": {
             "colorbar": {
              "outlinewidth": 0,
              "ticks": ""
             }
            },
            "type": "scattercarpet"
           }
          ],
          "scattergeo": [
           {
            "marker": {
             "colorbar": {
              "outlinewidth": 0,
              "ticks": ""
             }
            },
            "type": "scattergeo"
           }
          ],
          "scattergl": [
           {
            "marker": {
             "colorbar": {
              "outlinewidth": 0,
              "ticks": ""
             }
            },
            "type": "scattergl"
           }
          ],
          "scattermap": [
           {
            "marker": {
             "colorbar": {
              "outlinewidth": 0,
              "ticks": ""
             }
            },
            "type": "scattermap"
           }
          ],
          "scattermapbox": [
           {
            "marker": {
             "colorbar": {
              "outlinewidth": 0,
              "ticks": ""
             }
            },
            "type": "scattermapbox"
           }
          ],
          "scatterpolar": [
           {
            "marker": {
             "colorbar": {
              "outlinewidth": 0,
              "ticks": ""
             }
            },
            "type": "scatterpolar"
           }
          ],
          "scatterpolargl": [
           {
            "marker": {
             "colorbar": {
              "outlinewidth": 0,
              "ticks": ""
             }
            },
            "type": "scatterpolargl"
           }
          ],
          "scatterternary": [
           {
            "marker": {
             "colorbar": {
              "outlinewidth": 0,
              "ticks": ""
             }
            },
            "type": "scatterternary"
           }
          ],
          "surface": [
           {
            "colorbar": {
             "outlinewidth": 0,
             "ticks": ""
            },
            "colorscale": [
             [
              0,
              "#0d0887"
             ],
             [
              0.1111111111111111,
              "#46039f"
             ],
             [
              0.2222222222222222,
              "#7201a8"
             ],
             [
              0.3333333333333333,
              "#9c179e"
             ],
             [
              0.4444444444444444,
              "#bd3786"
             ],
             [
              0.5555555555555556,
              "#d8576b"
             ],
             [
              0.6666666666666666,
              "#ed7953"
             ],
             [
              0.7777777777777778,
              "#fb9f3a"
             ],
             [
              0.8888888888888888,
              "#fdca26"
             ],
             [
              1,
              "#f0f921"
             ]
            ],
            "type": "surface"
           }
          ],
          "table": [
           {
            "cells": {
             "fill": {
              "color": "#EBF0F8"
             },
             "line": {
              "color": "white"
             }
            },
            "header": {
             "fill": {
              "color": "#C8D4E3"
             },
             "line": {
              "color": "white"
             }
            },
            "type": "table"
           }
          ]
         },
         "layout": {
          "annotationdefaults": {
           "arrowcolor": "#2a3f5f",
           "arrowhead": 0,
           "arrowwidth": 1
          },
          "autotypenumbers": "strict",
          "coloraxis": {
           "colorbar": {
            "outlinewidth": 0,
            "ticks": ""
           }
          },
          "colorscale": {
           "diverging": [
            [
             0,
             "#8e0152"
            ],
            [
             0.1,
             "#c51b7d"
            ],
            [
             0.2,
             "#de77ae"
            ],
            [
             0.3,
             "#f1b6da"
            ],
            [
             0.4,
             "#fde0ef"
            ],
            [
             0.5,
             "#f7f7f7"
            ],
            [
             0.6,
             "#e6f5d0"
            ],
            [
             0.7,
             "#b8e186"
            ],
            [
             0.8,
             "#7fbc41"
            ],
            [
             0.9,
             "#4d9221"
            ],
            [
             1,
             "#276419"
            ]
           ],
           "sequential": [
            [
             0,
             "#0d0887"
            ],
            [
             0.1111111111111111,
             "#46039f"
            ],
            [
             0.2222222222222222,
             "#7201a8"
            ],
            [
             0.3333333333333333,
             "#9c179e"
            ],
            [
             0.4444444444444444,
             "#bd3786"
            ],
            [
             0.5555555555555556,
             "#d8576b"
            ],
            [
             0.6666666666666666,
             "#ed7953"
            ],
            [
             0.7777777777777778,
             "#fb9f3a"
            ],
            [
             0.8888888888888888,
             "#fdca26"
            ],
            [
             1,
             "#f0f921"
            ]
           ],
           "sequentialminus": [
            [
             0,
             "#0d0887"
            ],
            [
             0.1111111111111111,
             "#46039f"
            ],
            [
             0.2222222222222222,
             "#7201a8"
            ],
            [
             0.3333333333333333,
             "#9c179e"
            ],
            [
             0.4444444444444444,
             "#bd3786"
            ],
            [
             0.5555555555555556,
             "#d8576b"
            ],
            [
             0.6666666666666666,
             "#ed7953"
            ],
            [
             0.7777777777777778,
             "#fb9f3a"
            ],
            [
             0.8888888888888888,
             "#fdca26"
            ],
            [
             1,
             "#f0f921"
            ]
           ]
          },
          "colorway": [
           "#636efa",
           "#EF553B",
           "#00cc96",
           "#ab63fa",
           "#FFA15A",
           "#19d3f3",
           "#FF6692",
           "#B6E880",
           "#FF97FF",
           "#FECB52"
          ],
          "font": {
           "color": "#2a3f5f"
          },
          "geo": {
           "bgcolor": "white",
           "lakecolor": "white",
           "landcolor": "#E5ECF6",
           "showlakes": true,
           "showland": true,
           "subunitcolor": "white"
          },
          "hoverlabel": {
           "align": "left"
          },
          "hovermode": "closest",
          "mapbox": {
           "style": "light"
          },
          "paper_bgcolor": "white",
          "plot_bgcolor": "#E5ECF6",
          "polar": {
           "angularaxis": {
            "gridcolor": "white",
            "linecolor": "white",
            "ticks": ""
           },
           "bgcolor": "#E5ECF6",
           "radialaxis": {
            "gridcolor": "white",
            "linecolor": "white",
            "ticks": ""
           }
          },
          "scene": {
           "xaxis": {
            "backgroundcolor": "#E5ECF6",
            "gridcolor": "white",
            "gridwidth": 2,
            "linecolor": "white",
            "showbackground": true,
            "ticks": "",
            "zerolinecolor": "white"
           },
           "yaxis": {
            "backgroundcolor": "#E5ECF6",
            "gridcolor": "white",
            "gridwidth": 2,
            "linecolor": "white",
            "showbackground": true,
            "ticks": "",
            "zerolinecolor": "white"
           },
           "zaxis": {
            "backgroundcolor": "#E5ECF6",
            "gridcolor": "white",
            "gridwidth": 2,
            "linecolor": "white",
            "showbackground": true,
            "ticks": "",
            "zerolinecolor": "white"
           }
          },
          "shapedefaults": {
           "line": {
            "color": "#2a3f5f"
           }
          },
          "ternary": {
           "aaxis": {
            "gridcolor": "white",
            "linecolor": "white",
            "ticks": ""
           },
           "baxis": {
            "gridcolor": "white",
            "linecolor": "white",
            "ticks": ""
           },
           "bgcolor": "#E5ECF6",
           "caxis": {
            "gridcolor": "white",
            "linecolor": "white",
            "ticks": ""
           }
          },
          "title": {
           "x": 0.05
          },
          "xaxis": {
           "automargin": true,
           "gridcolor": "white",
           "linecolor": "white",
           "ticks": "",
           "title": {
            "standoff": 15
           },
           "zerolinecolor": "white",
           "zerolinewidth": 2
          },
          "yaxis": {
           "automargin": true,
           "gridcolor": "white",
           "linecolor": "white",
           "ticks": "",
           "title": {
            "standoff": 15
           },
           "zerolinecolor": "white",
           "zerolinewidth": 2
          }
         }
        },
        "width": 900,
        "xaxis": {
         "anchor": "y",
         "domain": [
          0,
          1
         ],
         "range": [
          "2013-01-03T04:48:00",
          "2018-03-27T19:12:00"
         ],
         "type": "date"
        },
        "xaxis2": {
         "anchor": "y2",
         "domain": [
          0,
          1
         ],
         "range": [
          "2016-12-13T18:54:02.958904",
          "2018-01-18T11:04:57.863013"
         ],
         "tickformat": "%B %e",
         "type": "date"
        },
        "yaxis": {
         "anchor": "x",
         "autorange": true,
         "domain": [
          0.575,
          1
         ],
         "range": [
          -55059.55567999059,
          42703.31538653794
         ],
         "rangemode": "normal",
         "title": {
          "text": "trend"
         },
         "type": "linear",
         "zerolinecolor": "#AAA"
        },
        "yaxis2": {
         "anchor": "x2",
         "autorange": true,
         "domain": [
          0,
          0.425
         ],
         "range": [
          -5945818.146128327,
          4599422.928128075
         ],
         "title": {
          "text": "yearly"
         },
         "type": "linear",
         "zerolinecolor": "#AAA"
        }
       }
      },
      "image/png": "[encoded data removed]"
     },
     "metadata": {},
     "output_type": "display_data"
    },
    {
     "name": "stdout",
     "output_type": "stream",
     "text": [
      "\n",
      "Prophet component plots generated for all departments.\n"
     ]
    }
   ],
   "source": [
    "# Prophet Components Plot\n",
    "\n",
    "# Loop through each department and create Prophet component plots\n",
    "for dept in departments:\n",
    "    print(f\"Generating Prophet components for {dept}...\")\n",
    "    \n",
    "    # Filter and prepare data\n",
    "    sub = df[df[\"department\"] == dept][[\"ds\", \"y\"]].sort_values(\"ds\")\n",
    "    \n",
    "    # Initialize Prophet model (same configuration as used earlier)\n",
    "    model = Prophet(\n",
    "        yearly_seasonality=True,\n",
    "        weekly_seasonality=False,\n",
    "        daily_seasonality=False,\n",
    "        seasonality_mode=\"additive\",\n",
    "        changepoint_prior_scale=0.3\n",
    "    )\n",
    "    model.fit(sub)\n",
    "    \n",
    "    # Create quarterly future periods (e.g., 1 year ahead = 4 quarters)\n",
    "    future = model.make_future_dataframe(periods=4, freq=\"Q\")\n",
    "    forecast = model.predict(future)\n",
    "    \n",
    "    # Generate interactive components plot (trend + seasonality)\n",
    "    fig = plot_components_plotly(model, forecast)\n",
    "    \n",
    "    # Save figure\n",
    "    safe_dept = re.sub(r'[^a-zA-Z0-9_]+', '_', dept)\n",
    "    save_path = VISUAL_PATH / f\"prophet_components_{safe_dept.lower()}.png\"\n",
    "    try:\n",
    "        fig.write_image(save_path)\n",
    "        print(f\"Saved components for {dept}: {save_path.name}\")\n",
    "    except Exception as e:\n",
    "        print(f\"Could not save image for {dept}: {e}\")\n",
    "    fig.show()\n",
    "\n",
    "print(\"\\nProphet component plots generated for all departments.\")"
   ]
  }
 ],
 "metadata": {
  "kernelspec": {
   "display_name": "Python 3 (ipykernel)",
   "language": "python",
   "name": "python3"
  },
  "language_info": {
   "codemirror_mode": {
    "name": "ipython",
    "version": 3
   },
   "file_extension": ".py",
   "mimetype": "text/x-python",
   "name": "python",
   "nbconvert_exporter": "python",
   "pygments_lexer": "ipython3",
   "version": "3.12.7"
  }
 },
 "nbformat": 4,
 "nbformat_minor": 5
}
